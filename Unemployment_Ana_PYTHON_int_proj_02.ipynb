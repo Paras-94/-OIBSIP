{
  "nbformat": 4,
  "nbformat_minor": 0,
  "metadata": {
    "colab": {
      "provenance": []
    },
    "kernelspec": {
      "name": "python3",
      "display_name": "Python 3"
    },
    "language_info": {
      "name": "python"
    }
  },
  "cells": [
    {
      "cell_type": "markdown",
      "source": [
        "OASIS INFOBYTE INTERSHIP\n",
        "NAME : PARAS MANDRAH\n",
        "BATCH NAME: JULY OIBSIP\n",
        "TASK - 2: UNEMPLOYEMENT ANALYSIS USING PYTHON\n"
      ],
      "metadata": {
        "id": "CL1Jdlrgq46I"
      }
    },
    {
      "cell_type": "code",
      "source": [
        "import numpy as np\n",
        "import pandas as pd"
      ],
      "metadata": {
        "id": "uMp5g-1erl6c"
      },
      "execution_count": 3,
      "outputs": []
    },
    {
      "cell_type": "markdown",
      "source": [
        "READ CSV FILE\n"
      ],
      "metadata": {
        "id": "aNAdr-K8sGDS"
      }
    },
    {
      "cell_type": "code",
      "source": [
        "df=pd.read_csv(\"Unemployment_Rate_upto_11_2020.csv\") #read dataser"
      ],
      "metadata": {
        "id": "mCc0DLresIgJ"
      },
      "execution_count": 8,
      "outputs": []
    },
    {
      "cell_type": "code",
      "source": [
        "df.head() #return first 5 entries"
      ],
      "metadata": {
        "colab": {
          "base_uri": "https://localhost:8080/",
          "height": 354
        },
        "id": "OoCd5MOZsxVA",
        "outputId": "733cb006-30d9-47df-d5ca-459b0ea9cece"
      },
      "execution_count": 7,
      "outputs": [
        {
          "output_type": "execute_result",
          "data": {
            "text/plain": [
              "           Region         Date  Frequency   Estimated Unemployment Rate (%)  \\\n",
              "0  Andhra Pradesh   31-01-2020          M                              5.48   \n",
              "1  Andhra Pradesh   29-02-2020          M                              5.83   \n",
              "2  Andhra Pradesh   31-03-2020          M                              5.79   \n",
              "3  Andhra Pradesh   30-04-2020          M                             20.51   \n",
              "4  Andhra Pradesh   31-05-2020          M                             17.43   \n",
              "\n",
              "    Estimated Employed   Estimated Labour Participation Rate (%) Region.1  \\\n",
              "0             16635535                                     41.02    South   \n",
              "1             16545652                                     40.90    South   \n",
              "2             15881197                                     39.18    South   \n",
              "3             11336911                                     33.10    South   \n",
              "4             12988845                                     36.46    South   \n",
              "\n",
              "   longitude  latitude  \n",
              "0    15.9129     79.74  \n",
              "1    15.9129     79.74  \n",
              "2    15.9129     79.74  \n",
              "3    15.9129     79.74  \n",
              "4    15.9129     79.74  "
            ],
            "text/html": [
              "\n",
              "\n",
              "  <div id=\"df-d4104f59-d11e-4db1-893e-d68f3dec5d0a\">\n",
              "    <div class=\"colab-df-container\">\n",
              "      <div>\n",
              "<style scoped>\n",
              "    .dataframe tbody tr th:only-of-type {\n",
              "        vertical-align: middle;\n",
              "    }\n",
              "\n",
              "    .dataframe tbody tr th {\n",
              "        vertical-align: top;\n",
              "    }\n",
              "\n",
              "    .dataframe thead th {\n",
              "        text-align: right;\n",
              "    }\n",
              "</style>\n",
              "<table border=\"1\" class=\"dataframe\">\n",
              "  <thead>\n",
              "    <tr style=\"text-align: right;\">\n",
              "      <th></th>\n",
              "      <th>Region</th>\n",
              "      <th>Date</th>\n",
              "      <th>Frequency</th>\n",
              "      <th>Estimated Unemployment Rate (%)</th>\n",
              "      <th>Estimated Employed</th>\n",
              "      <th>Estimated Labour Participation Rate (%)</th>\n",
              "      <th>Region.1</th>\n",
              "      <th>longitude</th>\n",
              "      <th>latitude</th>\n",
              "    </tr>\n",
              "  </thead>\n",
              "  <tbody>\n",
              "    <tr>\n",
              "      <th>0</th>\n",
              "      <td>Andhra Pradesh</td>\n",
              "      <td>31-01-2020</td>\n",
              "      <td>M</td>\n",
              "      <td>5.48</td>\n",
              "      <td>16635535</td>\n",
              "      <td>41.02</td>\n",
              "      <td>South</td>\n",
              "      <td>15.9129</td>\n",
              "      <td>79.74</td>\n",
              "    </tr>\n",
              "    <tr>\n",
              "      <th>1</th>\n",
              "      <td>Andhra Pradesh</td>\n",
              "      <td>29-02-2020</td>\n",
              "      <td>M</td>\n",
              "      <td>5.83</td>\n",
              "      <td>16545652</td>\n",
              "      <td>40.90</td>\n",
              "      <td>South</td>\n",
              "      <td>15.9129</td>\n",
              "      <td>79.74</td>\n",
              "    </tr>\n",
              "    <tr>\n",
              "      <th>2</th>\n",
              "      <td>Andhra Pradesh</td>\n",
              "      <td>31-03-2020</td>\n",
              "      <td>M</td>\n",
              "      <td>5.79</td>\n",
              "      <td>15881197</td>\n",
              "      <td>39.18</td>\n",
              "      <td>South</td>\n",
              "      <td>15.9129</td>\n",
              "      <td>79.74</td>\n",
              "    </tr>\n",
              "    <tr>\n",
              "      <th>3</th>\n",
              "      <td>Andhra Pradesh</td>\n",
              "      <td>30-04-2020</td>\n",
              "      <td>M</td>\n",
              "      <td>20.51</td>\n",
              "      <td>11336911</td>\n",
              "      <td>33.10</td>\n",
              "      <td>South</td>\n",
              "      <td>15.9129</td>\n",
              "      <td>79.74</td>\n",
              "    </tr>\n",
              "    <tr>\n",
              "      <th>4</th>\n",
              "      <td>Andhra Pradesh</td>\n",
              "      <td>31-05-2020</td>\n",
              "      <td>M</td>\n",
              "      <td>17.43</td>\n",
              "      <td>12988845</td>\n",
              "      <td>36.46</td>\n",
              "      <td>South</td>\n",
              "      <td>15.9129</td>\n",
              "      <td>79.74</td>\n",
              "    </tr>\n",
              "  </tbody>\n",
              "</table>\n",
              "</div>\n",
              "      <button class=\"colab-df-convert\" onclick=\"convertToInteractive('df-d4104f59-d11e-4db1-893e-d68f3dec5d0a')\"\n",
              "              title=\"Convert this dataframe to an interactive table.\"\n",
              "              style=\"display:none;\">\n",
              "\n",
              "  <svg xmlns=\"http://www.w3.org/2000/svg\" height=\"24px\"viewBox=\"0 0 24 24\"\n",
              "       width=\"24px\">\n",
              "    <path d=\"M0 0h24v24H0V0z\" fill=\"none\"/>\n",
              "    <path d=\"M18.56 5.44l.94 2.06.94-2.06 2.06-.94-2.06-.94-.94-2.06-.94 2.06-2.06.94zm-11 1L8.5 8.5l.94-2.06 2.06-.94-2.06-.94L8.5 2.5l-.94 2.06-2.06.94zm10 10l.94 2.06.94-2.06 2.06-.94-2.06-.94-.94-2.06-.94 2.06-2.06.94z\"/><path d=\"M17.41 7.96l-1.37-1.37c-.4-.4-.92-.59-1.43-.59-.52 0-1.04.2-1.43.59L10.3 9.45l-7.72 7.72c-.78.78-.78 2.05 0 2.83L4 21.41c.39.39.9.59 1.41.59.51 0 1.02-.2 1.41-.59l7.78-7.78 2.81-2.81c.8-.78.8-2.07 0-2.86zM5.41 20L4 18.59l7.72-7.72 1.47 1.35L5.41 20z\"/>\n",
              "  </svg>\n",
              "      </button>\n",
              "\n",
              "\n",
              "\n",
              "    <div id=\"df-9a231374-a30d-4228-80ff-c8cbc3bb872f\">\n",
              "      <button class=\"colab-df-quickchart\" onclick=\"quickchart('df-9a231374-a30d-4228-80ff-c8cbc3bb872f')\"\n",
              "              title=\"Suggest charts.\"\n",
              "              style=\"display:none;\">\n",
              "\n",
              "<svg xmlns=\"http://www.w3.org/2000/svg\" height=\"24px\"viewBox=\"0 0 24 24\"\n",
              "     width=\"24px\">\n",
              "    <g>\n",
              "        <path d=\"M19 3H5c-1.1 0-2 .9-2 2v14c0 1.1.9 2 2 2h14c1.1 0 2-.9 2-2V5c0-1.1-.9-2-2-2zM9 17H7v-7h2v7zm4 0h-2V7h2v10zm4 0h-2v-4h2v4z\"/>\n",
              "    </g>\n",
              "</svg>\n",
              "      </button>\n",
              "    </div>\n",
              "\n",
              "<style>\n",
              "  .colab-df-quickchart {\n",
              "    background-color: #E8F0FE;\n",
              "    border: none;\n",
              "    border-radius: 50%;\n",
              "    cursor: pointer;\n",
              "    display: none;\n",
              "    fill: #1967D2;\n",
              "    height: 32px;\n",
              "    padding: 0 0 0 0;\n",
              "    width: 32px;\n",
              "  }\n",
              "\n",
              "  .colab-df-quickchart:hover {\n",
              "    background-color: #E2EBFA;\n",
              "    box-shadow: 0px 1px 2px rgba(60, 64, 67, 0.3), 0px 1px 3px 1px rgba(60, 64, 67, 0.15);\n",
              "    fill: #174EA6;\n",
              "  }\n",
              "\n",
              "  [theme=dark] .colab-df-quickchart {\n",
              "    background-color: #3B4455;\n",
              "    fill: #D2E3FC;\n",
              "  }\n",
              "\n",
              "  [theme=dark] .colab-df-quickchart:hover {\n",
              "    background-color: #434B5C;\n",
              "    box-shadow: 0px 1px 3px 1px rgba(0, 0, 0, 0.15);\n",
              "    filter: drop-shadow(0px 1px 2px rgba(0, 0, 0, 0.3));\n",
              "    fill: #FFFFFF;\n",
              "  }\n",
              "</style>\n",
              "\n",
              "    <script>\n",
              "      async function quickchart(key) {\n",
              "        const containerElement = document.querySelector('#' + key);\n",
              "        const charts = await google.colab.kernel.invokeFunction(\n",
              "            'suggestCharts', [key], {});\n",
              "      }\n",
              "    </script>\n",
              "\n",
              "      <script>\n",
              "\n",
              "function displayQuickchartButton(domScope) {\n",
              "  let quickchartButtonEl =\n",
              "    domScope.querySelector('#df-9a231374-a30d-4228-80ff-c8cbc3bb872f button.colab-df-quickchart');\n",
              "  quickchartButtonEl.style.display =\n",
              "    google.colab.kernel.accessAllowed ? 'block' : 'none';\n",
              "}\n",
              "\n",
              "        displayQuickchartButton(document);\n",
              "      </script>\n",
              "      <style>\n",
              "    .colab-df-container {\n",
              "      display:flex;\n",
              "      flex-wrap:wrap;\n",
              "      gap: 12px;\n",
              "    }\n",
              "\n",
              "    .colab-df-convert {\n",
              "      background-color: #E8F0FE;\n",
              "      border: none;\n",
              "      border-radius: 50%;\n",
              "      cursor: pointer;\n",
              "      display: none;\n",
              "      fill: #1967D2;\n",
              "      height: 32px;\n",
              "      padding: 0 0 0 0;\n",
              "      width: 32px;\n",
              "    }\n",
              "\n",
              "    .colab-df-convert:hover {\n",
              "      background-color: #E2EBFA;\n",
              "      box-shadow: 0px 1px 2px rgba(60, 64, 67, 0.3), 0px 1px 3px 1px rgba(60, 64, 67, 0.15);\n",
              "      fill: #174EA6;\n",
              "    }\n",
              "\n",
              "    [theme=dark] .colab-df-convert {\n",
              "      background-color: #3B4455;\n",
              "      fill: #D2E3FC;\n",
              "    }\n",
              "\n",
              "    [theme=dark] .colab-df-convert:hover {\n",
              "      background-color: #434B5C;\n",
              "      box-shadow: 0px 1px 3px 1px rgba(0, 0, 0, 0.15);\n",
              "      filter: drop-shadow(0px 1px 2px rgba(0, 0, 0, 0.3));\n",
              "      fill: #FFFFFF;\n",
              "    }\n",
              "  </style>\n",
              "\n",
              "      <script>\n",
              "        const buttonEl =\n",
              "          document.querySelector('#df-d4104f59-d11e-4db1-893e-d68f3dec5d0a button.colab-df-convert');\n",
              "        buttonEl.style.display =\n",
              "          google.colab.kernel.accessAllowed ? 'block' : 'none';\n",
              "\n",
              "        async function convertToInteractive(key) {\n",
              "          const element = document.querySelector('#df-d4104f59-d11e-4db1-893e-d68f3dec5d0a');\n",
              "          const dataTable =\n",
              "            await google.colab.kernel.invokeFunction('convertToInteractive',\n",
              "                                                     [key], {});\n",
              "          if (!dataTable) return;\n",
              "\n",
              "          const docLinkHtml = 'Like what you see? Visit the ' +\n",
              "            '<a target=\"_blank\" href=https://colab.research.google.com/notebooks/data_table.ipynb>data table notebook</a>'\n",
              "            + ' to learn more about interactive tables.';\n",
              "          element.innerHTML = '';\n",
              "          dataTable['output_type'] = 'display_data';\n",
              "          await google.colab.output.renderOutput(dataTable, element);\n",
              "          const docLink = document.createElement('div');\n",
              "          docLink.innerHTML = docLinkHtml;\n",
              "          element.appendChild(docLink);\n",
              "        }\n",
              "      </script>\n",
              "    </div>\n",
              "  </div>\n"
            ]
          },
          "metadata": {},
          "execution_count": 7
        }
      ]
    },
    {
      "cell_type": "code",
      "source": [
        "df.tail() #returns last 5 Entries"
      ],
      "metadata": {
        "colab": {
          "base_uri": "https://localhost:8080/",
          "height": 354
        },
        "id": "8rygU-x3tB10",
        "outputId": "0b78438d-7baa-4851-9026-59fbc9cb7623"
      },
      "execution_count": 9,
      "outputs": [
        {
          "output_type": "execute_result",
          "data": {
            "text/plain": [
              "          Region         Date  Frequency   Estimated Unemployment Rate (%)  \\\n",
              "262  West Bengal   30-06-2020          M                              7.29   \n",
              "263  West Bengal   31-07-2020          M                              6.83   \n",
              "264  West Bengal   31-08-2020          M                             14.87   \n",
              "265  West Bengal   30-09-2020          M                              9.35   \n",
              "266  West Bengal   31-10-2020          M                              9.98   \n",
              "\n",
              "      Estimated Employed   Estimated Labour Participation Rate (%) Region.1  \\\n",
              "262             30726310                                     40.39     East   \n",
              "263             35372506                                     46.17     East   \n",
              "264             33298644                                     47.48     East   \n",
              "265             35707239                                     47.73     East   \n",
              "266             33962549                                     45.63     East   \n",
              "\n",
              "     longitude  latitude  \n",
              "262    22.9868    87.855  \n",
              "263    22.9868    87.855  \n",
              "264    22.9868    87.855  \n",
              "265    22.9868    87.855  \n",
              "266    22.9868    87.855  "
            ],
            "text/html": [
              "\n",
              "\n",
              "  <div id=\"df-e8ae2c1a-938b-4fbe-aeb8-76f2843f4d12\">\n",
              "    <div class=\"colab-df-container\">\n",
              "      <div>\n",
              "<style scoped>\n",
              "    .dataframe tbody tr th:only-of-type {\n",
              "        vertical-align: middle;\n",
              "    }\n",
              "\n",
              "    .dataframe tbody tr th {\n",
              "        vertical-align: top;\n",
              "    }\n",
              "\n",
              "    .dataframe thead th {\n",
              "        text-align: right;\n",
              "    }\n",
              "</style>\n",
              "<table border=\"1\" class=\"dataframe\">\n",
              "  <thead>\n",
              "    <tr style=\"text-align: right;\">\n",
              "      <th></th>\n",
              "      <th>Region</th>\n",
              "      <th>Date</th>\n",
              "      <th>Frequency</th>\n",
              "      <th>Estimated Unemployment Rate (%)</th>\n",
              "      <th>Estimated Employed</th>\n",
              "      <th>Estimated Labour Participation Rate (%)</th>\n",
              "      <th>Region.1</th>\n",
              "      <th>longitude</th>\n",
              "      <th>latitude</th>\n",
              "    </tr>\n",
              "  </thead>\n",
              "  <tbody>\n",
              "    <tr>\n",
              "      <th>262</th>\n",
              "      <td>West Bengal</td>\n",
              "      <td>30-06-2020</td>\n",
              "      <td>M</td>\n",
              "      <td>7.29</td>\n",
              "      <td>30726310</td>\n",
              "      <td>40.39</td>\n",
              "      <td>East</td>\n",
              "      <td>22.9868</td>\n",
              "      <td>87.855</td>\n",
              "    </tr>\n",
              "    <tr>\n",
              "      <th>263</th>\n",
              "      <td>West Bengal</td>\n",
              "      <td>31-07-2020</td>\n",
              "      <td>M</td>\n",
              "      <td>6.83</td>\n",
              "      <td>35372506</td>\n",
              "      <td>46.17</td>\n",
              "      <td>East</td>\n",
              "      <td>22.9868</td>\n",
              "      <td>87.855</td>\n",
              "    </tr>\n",
              "    <tr>\n",
              "      <th>264</th>\n",
              "      <td>West Bengal</td>\n",
              "      <td>31-08-2020</td>\n",
              "      <td>M</td>\n",
              "      <td>14.87</td>\n",
              "      <td>33298644</td>\n",
              "      <td>47.48</td>\n",
              "      <td>East</td>\n",
              "      <td>22.9868</td>\n",
              "      <td>87.855</td>\n",
              "    </tr>\n",
              "    <tr>\n",
              "      <th>265</th>\n",
              "      <td>West Bengal</td>\n",
              "      <td>30-09-2020</td>\n",
              "      <td>M</td>\n",
              "      <td>9.35</td>\n",
              "      <td>35707239</td>\n",
              "      <td>47.73</td>\n",
              "      <td>East</td>\n",
              "      <td>22.9868</td>\n",
              "      <td>87.855</td>\n",
              "    </tr>\n",
              "    <tr>\n",
              "      <th>266</th>\n",
              "      <td>West Bengal</td>\n",
              "      <td>31-10-2020</td>\n",
              "      <td>M</td>\n",
              "      <td>9.98</td>\n",
              "      <td>33962549</td>\n",
              "      <td>45.63</td>\n",
              "      <td>East</td>\n",
              "      <td>22.9868</td>\n",
              "      <td>87.855</td>\n",
              "    </tr>\n",
              "  </tbody>\n",
              "</table>\n",
              "</div>\n",
              "      <button class=\"colab-df-convert\" onclick=\"convertToInteractive('df-e8ae2c1a-938b-4fbe-aeb8-76f2843f4d12')\"\n",
              "              title=\"Convert this dataframe to an interactive table.\"\n",
              "              style=\"display:none;\">\n",
              "\n",
              "  <svg xmlns=\"http://www.w3.org/2000/svg\" height=\"24px\"viewBox=\"0 0 24 24\"\n",
              "       width=\"24px\">\n",
              "    <path d=\"M0 0h24v24H0V0z\" fill=\"none\"/>\n",
              "    <path d=\"M18.56 5.44l.94 2.06.94-2.06 2.06-.94-2.06-.94-.94-2.06-.94 2.06-2.06.94zm-11 1L8.5 8.5l.94-2.06 2.06-.94-2.06-.94L8.5 2.5l-.94 2.06-2.06.94zm10 10l.94 2.06.94-2.06 2.06-.94-2.06-.94-.94-2.06-.94 2.06-2.06.94z\"/><path d=\"M17.41 7.96l-1.37-1.37c-.4-.4-.92-.59-1.43-.59-.52 0-1.04.2-1.43.59L10.3 9.45l-7.72 7.72c-.78.78-.78 2.05 0 2.83L4 21.41c.39.39.9.59 1.41.59.51 0 1.02-.2 1.41-.59l7.78-7.78 2.81-2.81c.8-.78.8-2.07 0-2.86zM5.41 20L4 18.59l7.72-7.72 1.47 1.35L5.41 20z\"/>\n",
              "  </svg>\n",
              "      </button>\n",
              "\n",
              "\n",
              "\n",
              "    <div id=\"df-991869eb-bc75-46d1-9c00-d24c46155758\">\n",
              "      <button class=\"colab-df-quickchart\" onclick=\"quickchart('df-991869eb-bc75-46d1-9c00-d24c46155758')\"\n",
              "              title=\"Suggest charts.\"\n",
              "              style=\"display:none;\">\n",
              "\n",
              "<svg xmlns=\"http://www.w3.org/2000/svg\" height=\"24px\"viewBox=\"0 0 24 24\"\n",
              "     width=\"24px\">\n",
              "    <g>\n",
              "        <path d=\"M19 3H5c-1.1 0-2 .9-2 2v14c0 1.1.9 2 2 2h14c1.1 0 2-.9 2-2V5c0-1.1-.9-2-2-2zM9 17H7v-7h2v7zm4 0h-2V7h2v10zm4 0h-2v-4h2v4z\"/>\n",
              "    </g>\n",
              "</svg>\n",
              "      </button>\n",
              "    </div>\n",
              "\n",
              "<style>\n",
              "  .colab-df-quickchart {\n",
              "    background-color: #E8F0FE;\n",
              "    border: none;\n",
              "    border-radius: 50%;\n",
              "    cursor: pointer;\n",
              "    display: none;\n",
              "    fill: #1967D2;\n",
              "    height: 32px;\n",
              "    padding: 0 0 0 0;\n",
              "    width: 32px;\n",
              "  }\n",
              "\n",
              "  .colab-df-quickchart:hover {\n",
              "    background-color: #E2EBFA;\n",
              "    box-shadow: 0px 1px 2px rgba(60, 64, 67, 0.3), 0px 1px 3px 1px rgba(60, 64, 67, 0.15);\n",
              "    fill: #174EA6;\n",
              "  }\n",
              "\n",
              "  [theme=dark] .colab-df-quickchart {\n",
              "    background-color: #3B4455;\n",
              "    fill: #D2E3FC;\n",
              "  }\n",
              "\n",
              "  [theme=dark] .colab-df-quickchart:hover {\n",
              "    background-color: #434B5C;\n",
              "    box-shadow: 0px 1px 3px 1px rgba(0, 0, 0, 0.15);\n",
              "    filter: drop-shadow(0px 1px 2px rgba(0, 0, 0, 0.3));\n",
              "    fill: #FFFFFF;\n",
              "  }\n",
              "</style>\n",
              "\n",
              "    <script>\n",
              "      async function quickchart(key) {\n",
              "        const containerElement = document.querySelector('#' + key);\n",
              "        const charts = await google.colab.kernel.invokeFunction(\n",
              "            'suggestCharts', [key], {});\n",
              "      }\n",
              "    </script>\n",
              "\n",
              "      <script>\n",
              "\n",
              "function displayQuickchartButton(domScope) {\n",
              "  let quickchartButtonEl =\n",
              "    domScope.querySelector('#df-991869eb-bc75-46d1-9c00-d24c46155758 button.colab-df-quickchart');\n",
              "  quickchartButtonEl.style.display =\n",
              "    google.colab.kernel.accessAllowed ? 'block' : 'none';\n",
              "}\n",
              "\n",
              "        displayQuickchartButton(document);\n",
              "      </script>\n",
              "      <style>\n",
              "    .colab-df-container {\n",
              "      display:flex;\n",
              "      flex-wrap:wrap;\n",
              "      gap: 12px;\n",
              "    }\n",
              "\n",
              "    .colab-df-convert {\n",
              "      background-color: #E8F0FE;\n",
              "      border: none;\n",
              "      border-radius: 50%;\n",
              "      cursor: pointer;\n",
              "      display: none;\n",
              "      fill: #1967D2;\n",
              "      height: 32px;\n",
              "      padding: 0 0 0 0;\n",
              "      width: 32px;\n",
              "    }\n",
              "\n",
              "    .colab-df-convert:hover {\n",
              "      background-color: #E2EBFA;\n",
              "      box-shadow: 0px 1px 2px rgba(60, 64, 67, 0.3), 0px 1px 3px 1px rgba(60, 64, 67, 0.15);\n",
              "      fill: #174EA6;\n",
              "    }\n",
              "\n",
              "    [theme=dark] .colab-df-convert {\n",
              "      background-color: #3B4455;\n",
              "      fill: #D2E3FC;\n",
              "    }\n",
              "\n",
              "    [theme=dark] .colab-df-convert:hover {\n",
              "      background-color: #434B5C;\n",
              "      box-shadow: 0px 1px 3px 1px rgba(0, 0, 0, 0.15);\n",
              "      filter: drop-shadow(0px 1px 2px rgba(0, 0, 0, 0.3));\n",
              "      fill: #FFFFFF;\n",
              "    }\n",
              "  </style>\n",
              "\n",
              "      <script>\n",
              "        const buttonEl =\n",
              "          document.querySelector('#df-e8ae2c1a-938b-4fbe-aeb8-76f2843f4d12 button.colab-df-convert');\n",
              "        buttonEl.style.display =\n",
              "          google.colab.kernel.accessAllowed ? 'block' : 'none';\n",
              "\n",
              "        async function convertToInteractive(key) {\n",
              "          const element = document.querySelector('#df-e8ae2c1a-938b-4fbe-aeb8-76f2843f4d12');\n",
              "          const dataTable =\n",
              "            await google.colab.kernel.invokeFunction('convertToInteractive',\n",
              "                                                     [key], {});\n",
              "          if (!dataTable) return;\n",
              "\n",
              "          const docLinkHtml = 'Like what you see? Visit the ' +\n",
              "            '<a target=\"_blank\" href=https://colab.research.google.com/notebooks/data_table.ipynb>data table notebook</a>'\n",
              "            + ' to learn more about interactive tables.';\n",
              "          element.innerHTML = '';\n",
              "          dataTable['output_type'] = 'display_data';\n",
              "          await google.colab.output.renderOutput(dataTable, element);\n",
              "          const docLink = document.createElement('div');\n",
              "          docLink.innerHTML = docLinkHtml;\n",
              "          element.appendChild(docLink);\n",
              "        }\n",
              "      </script>\n",
              "    </div>\n",
              "  </div>\n"
            ]
          },
          "metadata": {},
          "execution_count": 9
        }
      ]
    },
    {
      "cell_type": "code",
      "source": [
        "#Return tuple of shape (Rows, colunms) of dataframe\n",
        "df.shape"
      ],
      "metadata": {
        "colab": {
          "base_uri": "https://localhost:8080/"
        },
        "id": "bdrVMDPTtKli",
        "outputId": "ef30f57d-aaac-458d-c6ab-5d51a299ba6c"
      },
      "execution_count": 10,
      "outputs": [
        {
          "output_type": "execute_result",
          "data": {
            "text/plain": [
              "(267, 9)"
            ]
          },
          "metadata": {},
          "execution_count": 10
        }
      ]
    },
    {
      "cell_type": "code",
      "source": [
        "#prints information about the dataframe\n",
        "df.info()"
      ],
      "metadata": {
        "colab": {
          "base_uri": "https://localhost:8080/"
        },
        "id": "RXZZXTFwtcTs",
        "outputId": "23828e7c-4f24-45bc-dd75-e6ecb7a6a3ce"
      },
      "execution_count": 11,
      "outputs": [
        {
          "output_type": "stream",
          "name": "stdout",
          "text": [
            "<class 'pandas.core.frame.DataFrame'>\n",
            "RangeIndex: 267 entries, 0 to 266\n",
            "Data columns (total 9 columns):\n",
            " #   Column                                    Non-Null Count  Dtype  \n",
            "---  ------                                    --------------  -----  \n",
            " 0   Region                                    267 non-null    object \n",
            " 1    Date                                     267 non-null    object \n",
            " 2    Frequency                                267 non-null    object \n",
            " 3    Estimated Unemployment Rate (%)          267 non-null    float64\n",
            " 4    Estimated Employed                       267 non-null    int64  \n",
            " 5    Estimated Labour Participation Rate (%)  267 non-null    float64\n",
            " 6   Region.1                                  267 non-null    object \n",
            " 7   longitude                                 267 non-null    float64\n",
            " 8   latitude                                  267 non-null    float64\n",
            "dtypes: float64(4), int64(1), object(4)\n",
            "memory usage: 18.9+ KB\n"
          ]
        }
      ]
    },
    {
      "cell_type": "code",
      "source": [
        "#returns numerical description of the data in the dataframe\n",
        "df.describe()"
      ],
      "metadata": {
        "colab": {
          "base_uri": "https://localhost:8080/",
          "height": 300
        },
        "id": "j-pbt9MftlEj",
        "outputId": "f5a764df-12ed-4498-9996-d081833e83fe"
      },
      "execution_count": 12,
      "outputs": [
        {
          "output_type": "execute_result",
          "data": {
            "text/plain": [
              "        Estimated Unemployment Rate (%)   Estimated Employed  \\\n",
              "count                        267.000000         2.670000e+02   \n",
              "mean                          12.236929         1.396211e+07   \n",
              "std                           10.803283         1.336632e+07   \n",
              "min                            0.500000         1.175420e+05   \n",
              "25%                            4.845000         2.838930e+06   \n",
              "50%                            9.650000         9.732417e+06   \n",
              "75%                           16.755000         2.187869e+07   \n",
              "max                           75.850000         5.943376e+07   \n",
              "\n",
              "        Estimated Labour Participation Rate (%)   longitude    latitude  \n",
              "count                                267.000000  267.000000  267.000000  \n",
              "mean                                  41.681573   22.826048   80.532425  \n",
              "std                                    7.845419    6.270731    5.831738  \n",
              "min                                   16.770000   10.850500   71.192400  \n",
              "25%                                   37.265000   18.112400   76.085600  \n",
              "50%                                   40.390000   23.610200   79.019300  \n",
              "75%                                   44.055000   27.278400   85.279900  \n",
              "max                                   69.690000   33.778200   92.937600  "
            ],
            "text/html": [
              "\n",
              "\n",
              "  <div id=\"df-65fa8ce5-8b8b-4db7-ba5d-1b79e26e1eab\">\n",
              "    <div class=\"colab-df-container\">\n",
              "      <div>\n",
              "<style scoped>\n",
              "    .dataframe tbody tr th:only-of-type {\n",
              "        vertical-align: middle;\n",
              "    }\n",
              "\n",
              "    .dataframe tbody tr th {\n",
              "        vertical-align: top;\n",
              "    }\n",
              "\n",
              "    .dataframe thead th {\n",
              "        text-align: right;\n",
              "    }\n",
              "</style>\n",
              "<table border=\"1\" class=\"dataframe\">\n",
              "  <thead>\n",
              "    <tr style=\"text-align: right;\">\n",
              "      <th></th>\n",
              "      <th>Estimated Unemployment Rate (%)</th>\n",
              "      <th>Estimated Employed</th>\n",
              "      <th>Estimated Labour Participation Rate (%)</th>\n",
              "      <th>longitude</th>\n",
              "      <th>latitude</th>\n",
              "    </tr>\n",
              "  </thead>\n",
              "  <tbody>\n",
              "    <tr>\n",
              "      <th>count</th>\n",
              "      <td>267.000000</td>\n",
              "      <td>2.670000e+02</td>\n",
              "      <td>267.000000</td>\n",
              "      <td>267.000000</td>\n",
              "      <td>267.000000</td>\n",
              "    </tr>\n",
              "    <tr>\n",
              "      <th>mean</th>\n",
              "      <td>12.236929</td>\n",
              "      <td>1.396211e+07</td>\n",
              "      <td>41.681573</td>\n",
              "      <td>22.826048</td>\n",
              "      <td>80.532425</td>\n",
              "    </tr>\n",
              "    <tr>\n",
              "      <th>std</th>\n",
              "      <td>10.803283</td>\n",
              "      <td>1.336632e+07</td>\n",
              "      <td>7.845419</td>\n",
              "      <td>6.270731</td>\n",
              "      <td>5.831738</td>\n",
              "    </tr>\n",
              "    <tr>\n",
              "      <th>min</th>\n",
              "      <td>0.500000</td>\n",
              "      <td>1.175420e+05</td>\n",
              "      <td>16.770000</td>\n",
              "      <td>10.850500</td>\n",
              "      <td>71.192400</td>\n",
              "    </tr>\n",
              "    <tr>\n",
              "      <th>25%</th>\n",
              "      <td>4.845000</td>\n",
              "      <td>2.838930e+06</td>\n",
              "      <td>37.265000</td>\n",
              "      <td>18.112400</td>\n",
              "      <td>76.085600</td>\n",
              "    </tr>\n",
              "    <tr>\n",
              "      <th>50%</th>\n",
              "      <td>9.650000</td>\n",
              "      <td>9.732417e+06</td>\n",
              "      <td>40.390000</td>\n",
              "      <td>23.610200</td>\n",
              "      <td>79.019300</td>\n",
              "    </tr>\n",
              "    <tr>\n",
              "      <th>75%</th>\n",
              "      <td>16.755000</td>\n",
              "      <td>2.187869e+07</td>\n",
              "      <td>44.055000</td>\n",
              "      <td>27.278400</td>\n",
              "      <td>85.279900</td>\n",
              "    </tr>\n",
              "    <tr>\n",
              "      <th>max</th>\n",
              "      <td>75.850000</td>\n",
              "      <td>5.943376e+07</td>\n",
              "      <td>69.690000</td>\n",
              "      <td>33.778200</td>\n",
              "      <td>92.937600</td>\n",
              "    </tr>\n",
              "  </tbody>\n",
              "</table>\n",
              "</div>\n",
              "      <button class=\"colab-df-convert\" onclick=\"convertToInteractive('df-65fa8ce5-8b8b-4db7-ba5d-1b79e26e1eab')\"\n",
              "              title=\"Convert this dataframe to an interactive table.\"\n",
              "              style=\"display:none;\">\n",
              "\n",
              "  <svg xmlns=\"http://www.w3.org/2000/svg\" height=\"24px\"viewBox=\"0 0 24 24\"\n",
              "       width=\"24px\">\n",
              "    <path d=\"M0 0h24v24H0V0z\" fill=\"none\"/>\n",
              "    <path d=\"M18.56 5.44l.94 2.06.94-2.06 2.06-.94-2.06-.94-.94-2.06-.94 2.06-2.06.94zm-11 1L8.5 8.5l.94-2.06 2.06-.94-2.06-.94L8.5 2.5l-.94 2.06-2.06.94zm10 10l.94 2.06.94-2.06 2.06-.94-2.06-.94-.94-2.06-.94 2.06-2.06.94z\"/><path d=\"M17.41 7.96l-1.37-1.37c-.4-.4-.92-.59-1.43-.59-.52 0-1.04.2-1.43.59L10.3 9.45l-7.72 7.72c-.78.78-.78 2.05 0 2.83L4 21.41c.39.39.9.59 1.41.59.51 0 1.02-.2 1.41-.59l7.78-7.78 2.81-2.81c.8-.78.8-2.07 0-2.86zM5.41 20L4 18.59l7.72-7.72 1.47 1.35L5.41 20z\"/>\n",
              "  </svg>\n",
              "      </button>\n",
              "\n",
              "\n",
              "\n",
              "    <div id=\"df-c4f57fd0-3c23-42e5-a191-b7bbfc92acd3\">\n",
              "      <button class=\"colab-df-quickchart\" onclick=\"quickchart('df-c4f57fd0-3c23-42e5-a191-b7bbfc92acd3')\"\n",
              "              title=\"Suggest charts.\"\n",
              "              style=\"display:none;\">\n",
              "\n",
              "<svg xmlns=\"http://www.w3.org/2000/svg\" height=\"24px\"viewBox=\"0 0 24 24\"\n",
              "     width=\"24px\">\n",
              "    <g>\n",
              "        <path d=\"M19 3H5c-1.1 0-2 .9-2 2v14c0 1.1.9 2 2 2h14c1.1 0 2-.9 2-2V5c0-1.1-.9-2-2-2zM9 17H7v-7h2v7zm4 0h-2V7h2v10zm4 0h-2v-4h2v4z\"/>\n",
              "    </g>\n",
              "</svg>\n",
              "      </button>\n",
              "    </div>\n",
              "\n",
              "<style>\n",
              "  .colab-df-quickchart {\n",
              "    background-color: #E8F0FE;\n",
              "    border: none;\n",
              "    border-radius: 50%;\n",
              "    cursor: pointer;\n",
              "    display: none;\n",
              "    fill: #1967D2;\n",
              "    height: 32px;\n",
              "    padding: 0 0 0 0;\n",
              "    width: 32px;\n",
              "  }\n",
              "\n",
              "  .colab-df-quickchart:hover {\n",
              "    background-color: #E2EBFA;\n",
              "    box-shadow: 0px 1px 2px rgba(60, 64, 67, 0.3), 0px 1px 3px 1px rgba(60, 64, 67, 0.15);\n",
              "    fill: #174EA6;\n",
              "  }\n",
              "\n",
              "  [theme=dark] .colab-df-quickchart {\n",
              "    background-color: #3B4455;\n",
              "    fill: #D2E3FC;\n",
              "  }\n",
              "\n",
              "  [theme=dark] .colab-df-quickchart:hover {\n",
              "    background-color: #434B5C;\n",
              "    box-shadow: 0px 1px 3px 1px rgba(0, 0, 0, 0.15);\n",
              "    filter: drop-shadow(0px 1px 2px rgba(0, 0, 0, 0.3));\n",
              "    fill: #FFFFFF;\n",
              "  }\n",
              "</style>\n",
              "\n",
              "    <script>\n",
              "      async function quickchart(key) {\n",
              "        const containerElement = document.querySelector('#' + key);\n",
              "        const charts = await google.colab.kernel.invokeFunction(\n",
              "            'suggestCharts', [key], {});\n",
              "      }\n",
              "    </script>\n",
              "\n",
              "      <script>\n",
              "\n",
              "function displayQuickchartButton(domScope) {\n",
              "  let quickchartButtonEl =\n",
              "    domScope.querySelector('#df-c4f57fd0-3c23-42e5-a191-b7bbfc92acd3 button.colab-df-quickchart');\n",
              "  quickchartButtonEl.style.display =\n",
              "    google.colab.kernel.accessAllowed ? 'block' : 'none';\n",
              "}\n",
              "\n",
              "        displayQuickchartButton(document);\n",
              "      </script>\n",
              "      <style>\n",
              "    .colab-df-container {\n",
              "      display:flex;\n",
              "      flex-wrap:wrap;\n",
              "      gap: 12px;\n",
              "    }\n",
              "\n",
              "    .colab-df-convert {\n",
              "      background-color: #E8F0FE;\n",
              "      border: none;\n",
              "      border-radius: 50%;\n",
              "      cursor: pointer;\n",
              "      display: none;\n",
              "      fill: #1967D2;\n",
              "      height: 32px;\n",
              "      padding: 0 0 0 0;\n",
              "      width: 32px;\n",
              "    }\n",
              "\n",
              "    .colab-df-convert:hover {\n",
              "      background-color: #E2EBFA;\n",
              "      box-shadow: 0px 1px 2px rgba(60, 64, 67, 0.3), 0px 1px 3px 1px rgba(60, 64, 67, 0.15);\n",
              "      fill: #174EA6;\n",
              "    }\n",
              "\n",
              "    [theme=dark] .colab-df-convert {\n",
              "      background-color: #3B4455;\n",
              "      fill: #D2E3FC;\n",
              "    }\n",
              "\n",
              "    [theme=dark] .colab-df-convert:hover {\n",
              "      background-color: #434B5C;\n",
              "      box-shadow: 0px 1px 3px 1px rgba(0, 0, 0, 0.15);\n",
              "      filter: drop-shadow(0px 1px 2px rgba(0, 0, 0, 0.3));\n",
              "      fill: #FFFFFF;\n",
              "    }\n",
              "  </style>\n",
              "\n",
              "      <script>\n",
              "        const buttonEl =\n",
              "          document.querySelector('#df-65fa8ce5-8b8b-4db7-ba5d-1b79e26e1eab button.colab-df-convert');\n",
              "        buttonEl.style.display =\n",
              "          google.colab.kernel.accessAllowed ? 'block' : 'none';\n",
              "\n",
              "        async function convertToInteractive(key) {\n",
              "          const element = document.querySelector('#df-65fa8ce5-8b8b-4db7-ba5d-1b79e26e1eab');\n",
              "          const dataTable =\n",
              "            await google.colab.kernel.invokeFunction('convertToInteractive',\n",
              "                                                     [key], {});\n",
              "          if (!dataTable) return;\n",
              "\n",
              "          const docLinkHtml = 'Like what you see? Visit the ' +\n",
              "            '<a target=\"_blank\" href=https://colab.research.google.com/notebooks/data_table.ipynb>data table notebook</a>'\n",
              "            + ' to learn more about interactive tables.';\n",
              "          element.innerHTML = '';\n",
              "          dataTable['output_type'] = 'display_data';\n",
              "          await google.colab.output.renderOutput(dataTable, element);\n",
              "          const docLink = document.createElement('div');\n",
              "          docLink.innerHTML = docLinkHtml;\n",
              "          element.appendChild(docLink);\n",
              "        }\n",
              "      </script>\n",
              "    </div>\n",
              "  </div>\n"
            ]
          },
          "metadata": {},
          "execution_count": 12
        }
      ]
    },
    {
      "cell_type": "code",
      "source": [
        "#ploting colunm \"region\" on x-axis\n",
        "x = df['Region']\n"
      ],
      "metadata": {
        "id": "rr8mCY_yt0c_"
      },
      "execution_count": 13,
      "outputs": []
    },
    {
      "cell_type": "code",
      "source": [
        "x"
      ],
      "metadata": {
        "colab": {
          "base_uri": "https://localhost:8080/"
        },
        "id": "LaxduIvuuGCG",
        "outputId": "12373c12-479f-4057-b44d-e45c32f8f631"
      },
      "execution_count": 15,
      "outputs": [
        {
          "output_type": "execute_result",
          "data": {
            "text/plain": [
              "0      Andhra Pradesh\n",
              "1      Andhra Pradesh\n",
              "2      Andhra Pradesh\n",
              "3      Andhra Pradesh\n",
              "4      Andhra Pradesh\n",
              "            ...      \n",
              "262       West Bengal\n",
              "263       West Bengal\n",
              "264       West Bengal\n",
              "265       West Bengal\n",
              "266       West Bengal\n",
              "Name: Region, Length: 267, dtype: object"
            ]
          },
          "metadata": {},
          "execution_count": 15
        }
      ]
    },
    {
      "cell_type": "code",
      "source": [
        "# ploting colum estimated unemployement on y-axis\n",
        "y=df[' Estimated Unemployment Rate (%)']\n"
      ],
      "metadata": {
        "id": "KmAPc6lSuKxi"
      },
      "execution_count": 14,
      "outputs": []
    },
    {
      "cell_type": "code",
      "source": [
        "y"
      ],
      "metadata": {
        "id": "3IbPe8ACuJmM",
        "colab": {
          "base_uri": "https://localhost:8080/"
        },
        "outputId": "e055e3d1-3c6f-49ea-dd83-098e42fecd3f"
      },
      "execution_count": 16,
      "outputs": [
        {
          "output_type": "execute_result",
          "data": {
            "text/plain": [
              "0       5.48\n",
              "1       5.83\n",
              "2       5.79\n",
              "3      20.51\n",
              "4      17.43\n",
              "       ...  \n",
              "262     7.29\n",
              "263     6.83\n",
              "264    14.87\n",
              "265     9.35\n",
              "266     9.98\n",
              "Name:  Estimated Unemployment Rate (%), Length: 267, dtype: float64"
            ]
          },
          "metadata": {},
          "execution_count": 16
        }
      ]
    },
    {
      "cell_type": "code",
      "source": [
        "df2=df.iloc[:,3]"
      ],
      "metadata": {
        "id": "mUtAtM8RsCDu"
      },
      "execution_count": 17,
      "outputs": []
    },
    {
      "cell_type": "code",
      "source": [
        "df2"
      ],
      "metadata": {
        "colab": {
          "base_uri": "https://localhost:8080/"
        },
        "id": "dw2DcX7_sLly",
        "outputId": "9e45a811-81de-4d1c-a5f0-41232e24d9a7"
      },
      "execution_count": 18,
      "outputs": [
        {
          "output_type": "execute_result",
          "data": {
            "text/plain": [
              "0       5.48\n",
              "1       5.83\n",
              "2       5.79\n",
              "3      20.51\n",
              "4      17.43\n",
              "       ...  \n",
              "262     7.29\n",
              "263     6.83\n",
              "264    14.87\n",
              "265     9.35\n",
              "266     9.98\n",
              "Name:  Estimated Unemployment Rate (%), Length: 267, dtype: float64"
            ]
          },
          "metadata": {},
          "execution_count": 18
        }
      ]
    },
    {
      "cell_type": "markdown",
      "source": [
        "IMPORTED NECESSATY LIBRARIES"
      ],
      "metadata": {
        "id": "H51md75rsPm2"
      }
    },
    {
      "cell_type": "code",
      "source": [
        "import plotly.express as px\n",
        "import matplotlib.pyplot as plt\n"
      ],
      "metadata": {
        "id": "HYSyu51bsV2x"
      },
      "execution_count": 19,
      "outputs": []
    },
    {
      "cell_type": "markdown",
      "source": [
        "AANALYZING DATA BY BAR GRAPHS\n"
      ],
      "metadata": {
        "id": "J0tfw0T-siPV"
      }
    },
    {
      "cell_type": "code",
      "source": [
        "fg = px.bar(df,x='Region',y=' Estimated Unemployment Rate (%)',color='Region',\n",
        "title='Unemploymeny Rate (State Wise) by Bar Graph',template='plotly')\n",
        "fg.update_layout(xaxis={'categoryorder':'total descending'})\n",
        "fg.show()"
      ],
      "metadata": {
        "id": "y4OGRCYnsvPc",
        "colab": {
          "base_uri": "https://localhost:8080/",
          "height": 542
        },
        "outputId": "a3742803-56b6-42a9-9458-2a0308ac1bc0"
      },
      "execution_count": 24,
      "outputs": [
        {
          "output_type": "display_data",
          "data": {
            "text/html": [
              "<html>\n",
              "<head><meta charset=\"utf-8\" /></head>\n",
              "<body>\n",
              "    <div>            <script src=\"https://cdnjs.cloudflare.com/ajax/libs/mathjax/2.7.5/MathJax.js?config=TeX-AMS-MML_SVG\"></script><script type=\"text/javascript\">if (window.MathJax && window.MathJax.Hub && window.MathJax.Hub.Config) {window.MathJax.Hub.Config({SVG: {font: \"STIX-Web\"}});}</script>                <script type=\"text/javascript\">window.PlotlyConfig = {MathJaxConfig: 'local'};</script>\n",
              "        <script src=\"https://cdn.plot.ly/plotly-2.18.2.min.js\"></script>                <div id=\"63e5113f-50df-45b3-b1b3-61963c58db60\" class=\"plotly-graph-div\" style=\"height:525px; width:100%;\"></div>            <script type=\"text/javascript\">                                    window.PLOTLYENV=window.PLOTLYENV || {};                                    if (document.getElementById(\"63e5113f-50df-45b3-b1b3-61963c58db60\")) {                    Plotly.newPlot(                        \"63e5113f-50df-45b3-b1b3-61963c58db60\",                        [{\"alignmentgroup\":\"True\",\"hovertemplate\":\"Region=%{x}<br> Estimated Unemployment Rate (%)=%{y}<extra></extra>\",\"legendgroup\":\"Andhra Pradesh\",\"marker\":{\"color\":\"#636efa\",\"pattern\":{\"shape\":\"\"}},\"name\":\"Andhra Pradesh\",\"offsetgroup\":\"Andhra Pradesh\",\"orientation\":\"v\",\"showlegend\":true,\"textposition\":\"auto\",\"x\":[\"Andhra Pradesh\",\"Andhra Pradesh\",\"Andhra Pradesh\",\"Andhra Pradesh\",\"Andhra Pradesh\",\"Andhra Pradesh\",\"Andhra Pradesh\",\"Andhra Pradesh\",\"Andhra Pradesh\",\"Andhra Pradesh\"],\"xaxis\":\"x\",\"y\":[5.48,5.83,5.79,20.51,17.43,3.31,8.34,6.96,6.4,6.59],\"yaxis\":\"y\",\"type\":\"bar\"},{\"alignmentgroup\":\"True\",\"hovertemplate\":\"Region=%{x}<br> Estimated Unemployment Rate (%)=%{y}<extra></extra>\",\"legendgroup\":\"Assam\",\"marker\":{\"color\":\"#EF553B\",\"pattern\":{\"shape\":\"\"}},\"name\":\"Assam\",\"offsetgroup\":\"Assam\",\"orientation\":\"v\",\"showlegend\":true,\"textposition\":\"auto\",\"x\":[\"Assam\",\"Assam\",\"Assam\",\"Assam\",\"Assam\",\"Assam\",\"Assam\",\"Assam\",\"Assam\",\"Assam\"],\"xaxis\":\"x\",\"y\":[4.66,4.41,4.77,11.06,9.55,0.6,3.77,5.53,1.19,3.02],\"yaxis\":\"y\",\"type\":\"bar\"},{\"alignmentgroup\":\"True\",\"hovertemplate\":\"Region=%{x}<br> Estimated Unemployment Rate (%)=%{y}<extra></extra>\",\"legendgroup\":\"Bihar\",\"marker\":{\"color\":\"#00cc96\",\"pattern\":{\"shape\":\"\"}},\"name\":\"Bihar\",\"offsetgroup\":\"Bihar\",\"orientation\":\"v\",\"showlegend\":true,\"textposition\":\"auto\",\"x\":[\"Bihar\",\"Bihar\",\"Bihar\",\"Bihar\",\"Bihar\",\"Bihar\",\"Bihar\",\"Bihar\",\"Bihar\",\"Bihar\"],\"xaxis\":\"x\",\"y\":[10.61,10.29,15.43,46.64,45.96,17.82,12.79,13.44,11.91,9.82],\"yaxis\":\"y\",\"type\":\"bar\"},{\"alignmentgroup\":\"True\",\"hovertemplate\":\"Region=%{x}<br> Estimated Unemployment Rate (%)=%{y}<extra></extra>\",\"legendgroup\":\"Chhattisgarh\",\"marker\":{\"color\":\"#ab63fa\",\"pattern\":{\"shape\":\"\"}},\"name\":\"Chhattisgarh\",\"offsetgroup\":\"Chhattisgarh\",\"orientation\":\"v\",\"showlegend\":true,\"textposition\":\"auto\",\"x\":[\"Chhattisgarh\",\"Chhattisgarh\",\"Chhattisgarh\",\"Chhattisgarh\",\"Chhattisgarh\",\"Chhattisgarh\",\"Chhattisgarh\",\"Chhattisgarh\",\"Chhattisgarh\",\"Chhattisgarh\"],\"xaxis\":\"x\",\"y\":[9.65,8.38,7.54,3.41,10.5,14.23,10.27,5.63,1.96,6.62],\"yaxis\":\"y\",\"type\":\"bar\"},{\"alignmentgroup\":\"True\",\"hovertemplate\":\"Region=%{x}<br> Estimated Unemployment Rate (%)=%{y}<extra></extra>\",\"legendgroup\":\"Delhi\",\"marker\":{\"color\":\"#FFA15A\",\"pattern\":{\"shape\":\"\"}},\"name\":\"Delhi\",\"offsetgroup\":\"Delhi\",\"orientation\":\"v\",\"showlegend\":true,\"textposition\":\"auto\",\"x\":[\"Delhi\",\"Delhi\",\"Delhi\",\"Delhi\",\"Delhi\",\"Delhi\",\"Delhi\",\"Delhi\",\"Delhi\",\"Delhi\"],\"xaxis\":\"x\",\"y\":[22.23,14.84,17.04,16.68,42.27,18.19,20.3,13.79,12.53,6.27],\"yaxis\":\"y\",\"type\":\"bar\"},{\"alignmentgroup\":\"True\",\"hovertemplate\":\"Region=%{x}<br> Estimated Unemployment Rate (%)=%{y}<extra></extra>\",\"legendgroup\":\"Goa\",\"marker\":{\"color\":\"#19d3f3\",\"pattern\":{\"shape\":\"\"}},\"name\":\"Goa\",\"offsetgroup\":\"Goa\",\"orientation\":\"v\",\"showlegend\":true,\"textposition\":\"auto\",\"x\":[\"Goa\",\"Goa\",\"Goa\",\"Goa\",\"Goa\",\"Goa\",\"Goa\",\"Goa\",\"Goa\",\"Goa\"],\"xaxis\":\"x\",\"y\":[8.89,2.81,5.25,13.31,21.25,9.96,17.07,16.21,15.38,11.54],\"yaxis\":\"y\",\"type\":\"bar\"},{\"alignmentgroup\":\"True\",\"hovertemplate\":\"Region=%{x}<br> Estimated Unemployment Rate (%)=%{y}<extra></extra>\",\"legendgroup\":\"Gujarat\",\"marker\":{\"color\":\"#FF6692\",\"pattern\":{\"shape\":\"\"}},\"name\":\"Gujarat\",\"offsetgroup\":\"Gujarat\",\"orientation\":\"v\",\"showlegend\":true,\"textposition\":\"auto\",\"x\":[\"Gujarat\",\"Gujarat\",\"Gujarat\",\"Gujarat\",\"Gujarat\",\"Gujarat\",\"Gujarat\",\"Gujarat\",\"Gujarat\",\"Gujarat\"],\"xaxis\":\"x\",\"y\":[5.54,6.38,6.66,18.71,12.11,3.2,1.84,1.87,3.42,4.03],\"yaxis\":\"y\",\"type\":\"bar\"},{\"alignmentgroup\":\"True\",\"hovertemplate\":\"Region=%{x}<br> Estimated Unemployment Rate (%)=%{y}<extra></extra>\",\"legendgroup\":\"Haryana\",\"marker\":{\"color\":\"#B6E880\",\"pattern\":{\"shape\":\"\"}},\"name\":\"Haryana\",\"offsetgroup\":\"Haryana\",\"orientation\":\"v\",\"showlegend\":true,\"textposition\":\"auto\",\"x\":[\"Haryana\",\"Haryana\",\"Haryana\",\"Haryana\",\"Haryana\",\"Haryana\",\"Haryana\",\"Haryana\",\"Haryana\",\"Haryana\"],\"xaxis\":\"x\",\"y\":[20.34,25.77,25.05,43.22,29.02,26.7,24.18,33.5,19.68,27.31],\"yaxis\":\"y\",\"type\":\"bar\"},{\"alignmentgroup\":\"True\",\"hovertemplate\":\"Region=%{x}<br> Estimated Unemployment Rate (%)=%{y}<extra></extra>\",\"legendgroup\":\"Himachal Pradesh\",\"marker\":{\"color\":\"#FF97FF\",\"pattern\":{\"shape\":\"\"}},\"name\":\"Himachal Pradesh\",\"offsetgroup\":\"Himachal Pradesh\",\"orientation\":\"v\",\"showlegend\":true,\"textposition\":\"auto\",\"x\":[\"Himachal Pradesh\",\"Himachal Pradesh\",\"Himachal Pradesh\",\"Himachal Pradesh\",\"Himachal Pradesh\",\"Himachal Pradesh\",\"Himachal Pradesh\",\"Himachal Pradesh\",\"Himachal Pradesh\",\"Himachal Pradesh\"],\"xaxis\":\"x\",\"y\":[16.83,16.84,18.76,2.2,26.95,13.47,24.31,15.79,12.04,13.46],\"yaxis\":\"y\",\"type\":\"bar\"},{\"alignmentgroup\":\"True\",\"hovertemplate\":\"Region=%{x}<br> Estimated Unemployment Rate (%)=%{y}<extra></extra>\",\"legendgroup\":\"Jammu & Kashmir\",\"marker\":{\"color\":\"#FECB52\",\"pattern\":{\"shape\":\"\"}},\"name\":\"Jammu & Kashmir\",\"offsetgroup\":\"Jammu & Kashmir\",\"orientation\":\"v\",\"showlegend\":true,\"textposition\":\"auto\",\"x\":[\"Jammu & Kashmir\",\"Jammu & Kashmir\",\"Jammu & Kashmir\",\"Jammu & Kashmir\",\"Jammu & Kashmir\",\"Jammu & Kashmir\",\"Jammu & Kashmir\",\"Jammu & Kashmir\",\"Jammu & Kashmir\"],\"xaxis\":\"x\",\"y\":[21.08,20.78,15.5,18.74,17.92,10.88,11.09,16.17,16.14],\"yaxis\":\"y\",\"type\":\"bar\"},{\"alignmentgroup\":\"True\",\"hovertemplate\":\"Region=%{x}<br> Estimated Unemployment Rate (%)=%{y}<extra></extra>\",\"legendgroup\":\"Jharkhand\",\"marker\":{\"color\":\"#636efa\",\"pattern\":{\"shape\":\"\"}},\"name\":\"Jharkhand\",\"offsetgroup\":\"Jharkhand\",\"orientation\":\"v\",\"showlegend\":true,\"textposition\":\"auto\",\"x\":[\"Jharkhand\",\"Jharkhand\",\"Jharkhand\",\"Jharkhand\",\"Jharkhand\",\"Jharkhand\",\"Jharkhand\",\"Jharkhand\",\"Jharkhand\",\"Jharkhand\"],\"xaxis\":\"x\",\"y\":[10.61,11.85,8.23,47.09,59.23,20.95,7.63,9.76,8.24,11.8],\"yaxis\":\"y\",\"type\":\"bar\"},{\"alignmentgroup\":\"True\",\"hovertemplate\":\"Region=%{x}<br> Estimated Unemployment Rate (%)=%{y}<extra></extra>\",\"legendgroup\":\"Karnataka\",\"marker\":{\"color\":\"#EF553B\",\"pattern\":{\"shape\":\"\"}},\"name\":\"Karnataka\",\"offsetgroup\":\"Karnataka\",\"orientation\":\"v\",\"showlegend\":true,\"textposition\":\"auto\",\"x\":[\"Karnataka\",\"Karnataka\",\"Karnataka\",\"Karnataka\",\"Karnataka\",\"Karnataka\",\"Karnataka\",\"Karnataka\",\"Karnataka\",\"Karnataka\"],\"xaxis\":\"x\",\"y\":[2.86,3.61,3.46,29.84,19.97,8.44,4.01,0.5,2.41,1.58],\"yaxis\":\"y\",\"type\":\"bar\"},{\"alignmentgroup\":\"True\",\"hovertemplate\":\"Region=%{x}<br> Estimated Unemployment Rate (%)=%{y}<extra></extra>\",\"legendgroup\":\"Kerala\",\"marker\":{\"color\":\"#00cc96\",\"pattern\":{\"shape\":\"\"}},\"name\":\"Kerala\",\"offsetgroup\":\"Kerala\",\"orientation\":\"v\",\"showlegend\":true,\"textposition\":\"auto\",\"x\":[\"Kerala\",\"Kerala\",\"Kerala\",\"Kerala\",\"Kerala\",\"Kerala\",\"Kerala\",\"Kerala\",\"Kerala\",\"Kerala\"],\"xaxis\":\"x\",\"y\":[5.31,7.6,8.99,16.99,17.88,9.71,7.09,10.98,5.91,3.88],\"yaxis\":\"y\",\"type\":\"bar\"},{\"alignmentgroup\":\"True\",\"hovertemplate\":\"Region=%{x}<br> Estimated Unemployment Rate (%)=%{y}<extra></extra>\",\"legendgroup\":\"Madhya Pradesh\",\"marker\":{\"color\":\"#ab63fa\",\"pattern\":{\"shape\":\"\"}},\"name\":\"Madhya Pradesh\",\"offsetgroup\":\"Madhya Pradesh\",\"orientation\":\"v\",\"showlegend\":true,\"textposition\":\"auto\",\"x\":[\"Madhya Pradesh\",\"Madhya Pradesh\",\"Madhya Pradesh\",\"Madhya Pradesh\",\"Madhya Pradesh\",\"Madhya Pradesh\",\"Madhya Pradesh\",\"Madhya Pradesh\",\"Madhya Pradesh\",\"Madhya Pradesh\"],\"xaxis\":\"x\",\"y\":[4.11,4.57,2.22,12.36,21.98,6.48,5.08,4.7,3.91,3.13],\"yaxis\":\"y\",\"type\":\"bar\"},{\"alignmentgroup\":\"True\",\"hovertemplate\":\"Region=%{x}<br> Estimated Unemployment Rate (%)=%{y}<extra></extra>\",\"legendgroup\":\"Maharashtra\",\"marker\":{\"color\":\"#FFA15A\",\"pattern\":{\"shape\":\"\"}},\"name\":\"Maharashtra\",\"offsetgroup\":\"Maharashtra\",\"orientation\":\"v\",\"showlegend\":true,\"textposition\":\"auto\",\"x\":[\"Maharashtra\",\"Maharashtra\",\"Maharashtra\",\"Maharashtra\",\"Maharashtra\",\"Maharashtra\",\"Maharashtra\",\"Maharashtra\",\"Maharashtra\",\"Maharashtra\"],\"xaxis\":\"x\",\"y\":[4.95,4.69,5.79,20.9,15.46,9.23,3.89,6.23,4.55,4.1],\"yaxis\":\"y\",\"type\":\"bar\"},{\"alignmentgroup\":\"True\",\"hovertemplate\":\"Region=%{x}<br> Estimated Unemployment Rate (%)=%{y}<extra></extra>\",\"legendgroup\":\"Meghalaya\",\"marker\":{\"color\":\"#19d3f3\",\"pattern\":{\"shape\":\"\"}},\"name\":\"Meghalaya\",\"offsetgroup\":\"Meghalaya\",\"orientation\":\"v\",\"showlegend\":true,\"textposition\":\"auto\",\"x\":[\"Meghalaya\",\"Meghalaya\",\"Meghalaya\",\"Meghalaya\",\"Meghalaya\",\"Meghalaya\",\"Meghalaya\",\"Meghalaya\",\"Meghalaya\",\"Meghalaya\"],\"xaxis\":\"x\",\"y\":[1.66,3.59,1.58,10.03,5.92,1.15,2.1,3.74,4.29,4.6],\"yaxis\":\"y\",\"type\":\"bar\"},{\"alignmentgroup\":\"True\",\"hovertemplate\":\"Region=%{x}<br> Estimated Unemployment Rate (%)=%{y}<extra></extra>\",\"legendgroup\":\"Odisha\",\"marker\":{\"color\":\"#FF6692\",\"pattern\":{\"shape\":\"\"}},\"name\":\"Odisha\",\"offsetgroup\":\"Odisha\",\"orientation\":\"v\",\"showlegend\":true,\"textposition\":\"auto\",\"x\":[\"Odisha\",\"Odisha\",\"Odisha\",\"Odisha\",\"Odisha\",\"Odisha\",\"Odisha\",\"Odisha\",\"Odisha\",\"Odisha\"],\"xaxis\":\"x\",\"y\":[1.9,3.12,13.08,23.76,11.41,3.77,1.88,1.42,2.1,2.18],\"yaxis\":\"y\",\"type\":\"bar\"},{\"alignmentgroup\":\"True\",\"hovertemplate\":\"Region=%{x}<br> Estimated Unemployment Rate (%)=%{y}<extra></extra>\",\"legendgroup\":\"Puducherry\",\"marker\":{\"color\":\"#B6E880\",\"pattern\":{\"shape\":\"\"}},\"name\":\"Puducherry\",\"offsetgroup\":\"Puducherry\",\"orientation\":\"v\",\"showlegend\":true,\"textposition\":\"auto\",\"x\":[\"Puducherry\",\"Puducherry\",\"Puducherry\",\"Puducherry\",\"Puducherry\",\"Puducherry\",\"Puducherry\",\"Puducherry\",\"Puducherry\",\"Puducherry\"],\"xaxis\":\"x\",\"y\":[0.58,1.76,1.2,75.85,58.19,4.24,15.47,5.05,10.9,6.18],\"yaxis\":\"y\",\"type\":\"bar\"},{\"alignmentgroup\":\"True\",\"hovertemplate\":\"Region=%{x}<br> Estimated Unemployment Rate (%)=%{y}<extra></extra>\",\"legendgroup\":\"Punjab\",\"marker\":{\"color\":\"#FF97FF\",\"pattern\":{\"shape\":\"\"}},\"name\":\"Punjab\",\"offsetgroup\":\"Punjab\",\"orientation\":\"v\",\"showlegend\":true,\"textposition\":\"auto\",\"x\":[\"Punjab\",\"Punjab\",\"Punjab\",\"Punjab\",\"Punjab\",\"Punjab\",\"Punjab\",\"Punjab\",\"Punjab\",\"Punjab\"],\"xaxis\":\"x\",\"y\":[11.11,10.97,10.32,2.86,28.33,16.55,9.19,10.99,9.61,9.88],\"yaxis\":\"y\",\"type\":\"bar\"},{\"alignmentgroup\":\"True\",\"hovertemplate\":\"Region=%{x}<br> Estimated Unemployment Rate (%)=%{y}<extra></extra>\",\"legendgroup\":\"Rajasthan\",\"marker\":{\"color\":\"#FECB52\",\"pattern\":{\"shape\":\"\"}},\"name\":\"Rajasthan\",\"offsetgroup\":\"Rajasthan\",\"orientation\":\"v\",\"showlegend\":true,\"textposition\":\"auto\",\"x\":[\"Rajasthan\",\"Rajasthan\",\"Rajasthan\",\"Rajasthan\",\"Rajasthan\",\"Rajasthan\",\"Rajasthan\",\"Rajasthan\",\"Rajasthan\",\"Rajasthan\"],\"xaxis\":\"x\",\"y\":[10.97,15.16,11.9,17.7,15.74,14.39,15.81,17.51,15.35,24.15],\"yaxis\":\"y\",\"type\":\"bar\"},{\"alignmentgroup\":\"True\",\"hovertemplate\":\"Region=%{x}<br> Estimated Unemployment Rate (%)=%{y}<extra></extra>\",\"legendgroup\":\"Sikkim\",\"marker\":{\"color\":\"#636efa\",\"pattern\":{\"shape\":\"\"}},\"name\":\"Sikkim\",\"offsetgroup\":\"Sikkim\",\"orientation\":\"v\",\"showlegend\":true,\"textposition\":\"auto\",\"x\":[\"Sikkim\",\"Sikkim\",\"Sikkim\",\"Sikkim\",\"Sikkim\",\"Sikkim\",\"Sikkim\",\"Sikkim\"],\"xaxis\":\"x\",\"y\":[23.57,2.28,24.51,4.46,4.45,12.49,5.7,0.88],\"yaxis\":\"y\",\"type\":\"bar\"},{\"alignmentgroup\":\"True\",\"hovertemplate\":\"Region=%{x}<br> Estimated Unemployment Rate (%)=%{y}<extra></extra>\",\"legendgroup\":\"Tamil Nadu\",\"marker\":{\"color\":\"#EF553B\",\"pattern\":{\"shape\":\"\"}},\"name\":\"Tamil Nadu\",\"offsetgroup\":\"Tamil Nadu\",\"orientation\":\"v\",\"showlegend\":true,\"textposition\":\"auto\",\"x\":[\"Tamil Nadu\",\"Tamil Nadu\",\"Tamil Nadu\",\"Tamil Nadu\",\"Tamil Nadu\",\"Tamil Nadu\",\"Tamil Nadu\",\"Tamil Nadu\",\"Tamil Nadu\",\"Tamil Nadu\"],\"xaxis\":\"x\",\"y\":[1.57,2.09,6.4,49.83,33.16,12.2,6.81,2.65,5.0,2.16],\"yaxis\":\"y\",\"type\":\"bar\"},{\"alignmentgroup\":\"True\",\"hovertemplate\":\"Region=%{x}<br> Estimated Unemployment Rate (%)=%{y}<extra></extra>\",\"legendgroup\":\"Telangana\",\"marker\":{\"color\":\"#00cc96\",\"pattern\":{\"shape\":\"\"}},\"name\":\"Telangana\",\"offsetgroup\":\"Telangana\",\"orientation\":\"v\",\"showlegend\":true,\"textposition\":\"auto\",\"x\":[\"Telangana\",\"Telangana\",\"Telangana\",\"Telangana\",\"Telangana\",\"Telangana\",\"Telangana\",\"Telangana\",\"Telangana\",\"Telangana\"],\"xaxis\":\"x\",\"y\":[5.49,8.29,5.77,6.25,14.7,10.55,5.36,5.79,3.27,2.86],\"yaxis\":\"y\",\"type\":\"bar\"},{\"alignmentgroup\":\"True\",\"hovertemplate\":\"Region=%{x}<br> Estimated Unemployment Rate (%)=%{y}<extra></extra>\",\"legendgroup\":\"Tripura\",\"marker\":{\"color\":\"#ab63fa\",\"pattern\":{\"shape\":\"\"}},\"name\":\"Tripura\",\"offsetgroup\":\"Tripura\",\"orientation\":\"v\",\"showlegend\":true,\"textposition\":\"auto\",\"x\":[\"Tripura\",\"Tripura\",\"Tripura\",\"Tripura\",\"Tripura\",\"Tripura\",\"Tripura\",\"Tripura\",\"Tripura\",\"Tripura\"],\"xaxis\":\"x\",\"y\":[32.67,28.4,29.95,41.23,21.51,21.71,18.24,27.92,17.35,11.57],\"yaxis\":\"y\",\"type\":\"bar\"},{\"alignmentgroup\":\"True\",\"hovertemplate\":\"Region=%{x}<br> Estimated Unemployment Rate (%)=%{y}<extra></extra>\",\"legendgroup\":\"Uttar Pradesh\",\"marker\":{\"color\":\"#FFA15A\",\"pattern\":{\"shape\":\"\"}},\"name\":\"Uttar Pradesh\",\"offsetgroup\":\"Uttar Pradesh\",\"orientation\":\"v\",\"showlegend\":true,\"textposition\":\"auto\",\"x\":[\"Uttar Pradesh\",\"Uttar Pradesh\",\"Uttar Pradesh\",\"Uttar Pradesh\",\"Uttar Pradesh\",\"Uttar Pradesh\",\"Uttar Pradesh\",\"Uttar Pradesh\",\"Uttar Pradesh\",\"Uttar Pradesh\"],\"xaxis\":\"x\",\"y\":[7.58,8.98,10.11,21.54,20.41,9.47,5.56,5.79,4.18,3.75],\"yaxis\":\"y\",\"type\":\"bar\"},{\"alignmentgroup\":\"True\",\"hovertemplate\":\"Region=%{x}<br> Estimated Unemployment Rate (%)=%{y}<extra></extra>\",\"legendgroup\":\"Uttarakhand\",\"marker\":{\"color\":\"#19d3f3\",\"pattern\":{\"shape\":\"\"}},\"name\":\"Uttarakhand\",\"offsetgroup\":\"Uttarakhand\",\"orientation\":\"v\",\"showlegend\":true,\"textposition\":\"auto\",\"x\":[\"Uttarakhand\",\"Uttarakhand\",\"Uttarakhand\",\"Uttarakhand\",\"Uttarakhand\",\"Uttarakhand\",\"Uttarakhand\",\"Uttarakhand\",\"Uttarakhand\",\"Uttarakhand\"],\"xaxis\":\"x\",\"y\":[5.49,4.99,19.85,6.48,8.01,8.61,12.38,14.26,22.26,9.23],\"yaxis\":\"y\",\"type\":\"bar\"},{\"alignmentgroup\":\"True\",\"hovertemplate\":\"Region=%{x}<br> Estimated Unemployment Rate (%)=%{y}<extra></extra>\",\"legendgroup\":\"West Bengal\",\"marker\":{\"color\":\"#FF6692\",\"pattern\":{\"shape\":\"\"}},\"name\":\"West Bengal\",\"offsetgroup\":\"West Bengal\",\"orientation\":\"v\",\"showlegend\":true,\"textposition\":\"auto\",\"x\":[\"West Bengal\",\"West Bengal\",\"West Bengal\",\"West Bengal\",\"West Bengal\",\"West Bengal\",\"West Bengal\",\"West Bengal\",\"West Bengal\",\"West Bengal\"],\"xaxis\":\"x\",\"y\":[6.94,4.92,6.92,17.41,17.41,7.29,6.83,14.87,9.35,9.98],\"yaxis\":\"y\",\"type\":\"bar\"}],                        {\"template\":{\"data\":{\"histogram2dcontour\":[{\"type\":\"histogram2dcontour\",\"colorbar\":{\"outlinewidth\":0,\"ticks\":\"\"},\"colorscale\":[[0.0,\"#0d0887\"],[0.1111111111111111,\"#46039f\"],[0.2222222222222222,\"#7201a8\"],[0.3333333333333333,\"#9c179e\"],[0.4444444444444444,\"#bd3786\"],[0.5555555555555556,\"#d8576b\"],[0.6666666666666666,\"#ed7953\"],[0.7777777777777778,\"#fb9f3a\"],[0.8888888888888888,\"#fdca26\"],[1.0,\"#f0f921\"]]}],\"choropleth\":[{\"type\":\"choropleth\",\"colorbar\":{\"outlinewidth\":0,\"ticks\":\"\"}}],\"histogram2d\":[{\"type\":\"histogram2d\",\"colorbar\":{\"outlinewidth\":0,\"ticks\":\"\"},\"colorscale\":[[0.0,\"#0d0887\"],[0.1111111111111111,\"#46039f\"],[0.2222222222222222,\"#7201a8\"],[0.3333333333333333,\"#9c179e\"],[0.4444444444444444,\"#bd3786\"],[0.5555555555555556,\"#d8576b\"],[0.6666666666666666,\"#ed7953\"],[0.7777777777777778,\"#fb9f3a\"],[0.8888888888888888,\"#fdca26\"],[1.0,\"#f0f921\"]]}],\"heatmap\":[{\"type\":\"heatmap\",\"colorbar\":{\"outlinewidth\":0,\"ticks\":\"\"},\"colorscale\":[[0.0,\"#0d0887\"],[0.1111111111111111,\"#46039f\"],[0.2222222222222222,\"#7201a8\"],[0.3333333333333333,\"#9c179e\"],[0.4444444444444444,\"#bd3786\"],[0.5555555555555556,\"#d8576b\"],[0.6666666666666666,\"#ed7953\"],[0.7777777777777778,\"#fb9f3a\"],[0.8888888888888888,\"#fdca26\"],[1.0,\"#f0f921\"]]}],\"heatmapgl\":[{\"type\":\"heatmapgl\",\"colorbar\":{\"outlinewidth\":0,\"ticks\":\"\"},\"colorscale\":[[0.0,\"#0d0887\"],[0.1111111111111111,\"#46039f\"],[0.2222222222222222,\"#7201a8\"],[0.3333333333333333,\"#9c179e\"],[0.4444444444444444,\"#bd3786\"],[0.5555555555555556,\"#d8576b\"],[0.6666666666666666,\"#ed7953\"],[0.7777777777777778,\"#fb9f3a\"],[0.8888888888888888,\"#fdca26\"],[1.0,\"#f0f921\"]]}],\"contourcarpet\":[{\"type\":\"contourcarpet\",\"colorbar\":{\"outlinewidth\":0,\"ticks\":\"\"}}],\"contour\":[{\"type\":\"contour\",\"colorbar\":{\"outlinewidth\":0,\"ticks\":\"\"},\"colorscale\":[[0.0,\"#0d0887\"],[0.1111111111111111,\"#46039f\"],[0.2222222222222222,\"#7201a8\"],[0.3333333333333333,\"#9c179e\"],[0.4444444444444444,\"#bd3786\"],[0.5555555555555556,\"#d8576b\"],[0.6666666666666666,\"#ed7953\"],[0.7777777777777778,\"#fb9f3a\"],[0.8888888888888888,\"#fdca26\"],[1.0,\"#f0f921\"]]}],\"surface\":[{\"type\":\"surface\",\"colorbar\":{\"outlinewidth\":0,\"ticks\":\"\"},\"colorscale\":[[0.0,\"#0d0887\"],[0.1111111111111111,\"#46039f\"],[0.2222222222222222,\"#7201a8\"],[0.3333333333333333,\"#9c179e\"],[0.4444444444444444,\"#bd3786\"],[0.5555555555555556,\"#d8576b\"],[0.6666666666666666,\"#ed7953\"],[0.7777777777777778,\"#fb9f3a\"],[0.8888888888888888,\"#fdca26\"],[1.0,\"#f0f921\"]]}],\"mesh3d\":[{\"type\":\"mesh3d\",\"colorbar\":{\"outlinewidth\":0,\"ticks\":\"\"}}],\"scatter\":[{\"fillpattern\":{\"fillmode\":\"overlay\",\"size\":10,\"solidity\":0.2},\"type\":\"scatter\"}],\"parcoords\":[{\"type\":\"parcoords\",\"line\":{\"colorbar\":{\"outlinewidth\":0,\"ticks\":\"\"}}}],\"scatterpolargl\":[{\"type\":\"scatterpolargl\",\"marker\":{\"colorbar\":{\"outlinewidth\":0,\"ticks\":\"\"}}}],\"bar\":[{\"error_x\":{\"color\":\"#2a3f5f\"},\"error_y\":{\"color\":\"#2a3f5f\"},\"marker\":{\"line\":{\"color\":\"#E5ECF6\",\"width\":0.5},\"pattern\":{\"fillmode\":\"overlay\",\"size\":10,\"solidity\":0.2}},\"type\":\"bar\"}],\"scattergeo\":[{\"type\":\"scattergeo\",\"marker\":{\"colorbar\":{\"outlinewidth\":0,\"ticks\":\"\"}}}],\"scatterpolar\":[{\"type\":\"scatterpolar\",\"marker\":{\"colorbar\":{\"outlinewidth\":0,\"ticks\":\"\"}}}],\"histogram\":[{\"marker\":{\"pattern\":{\"fillmode\":\"overlay\",\"size\":10,\"solidity\":0.2}},\"type\":\"histogram\"}],\"scattergl\":[{\"type\":\"scattergl\",\"marker\":{\"colorbar\":{\"outlinewidth\":0,\"ticks\":\"\"}}}],\"scatter3d\":[{\"type\":\"scatter3d\",\"line\":{\"colorbar\":{\"outlinewidth\":0,\"ticks\":\"\"}},\"marker\":{\"colorbar\":{\"outlinewidth\":0,\"ticks\":\"\"}}}],\"scattermapbox\":[{\"type\":\"scattermapbox\",\"marker\":{\"colorbar\":{\"outlinewidth\":0,\"ticks\":\"\"}}}],\"scatterternary\":[{\"type\":\"scatterternary\",\"marker\":{\"colorbar\":{\"outlinewidth\":0,\"ticks\":\"\"}}}],\"scattercarpet\":[{\"type\":\"scattercarpet\",\"marker\":{\"colorbar\":{\"outlinewidth\":0,\"ticks\":\"\"}}}],\"carpet\":[{\"aaxis\":{\"endlinecolor\":\"#2a3f5f\",\"gridcolor\":\"white\",\"linecolor\":\"white\",\"minorgridcolor\":\"white\",\"startlinecolor\":\"#2a3f5f\"},\"baxis\":{\"endlinecolor\":\"#2a3f5f\",\"gridcolor\":\"white\",\"linecolor\":\"white\",\"minorgridcolor\":\"white\",\"startlinecolor\":\"#2a3f5f\"},\"type\":\"carpet\"}],\"table\":[{\"cells\":{\"fill\":{\"color\":\"#EBF0F8\"},\"line\":{\"color\":\"white\"}},\"header\":{\"fill\":{\"color\":\"#C8D4E3\"},\"line\":{\"color\":\"white\"}},\"type\":\"table\"}],\"barpolar\":[{\"marker\":{\"line\":{\"color\":\"#E5ECF6\",\"width\":0.5},\"pattern\":{\"fillmode\":\"overlay\",\"size\":10,\"solidity\":0.2}},\"type\":\"barpolar\"}],\"pie\":[{\"automargin\":true,\"type\":\"pie\"}]},\"layout\":{\"autotypenumbers\":\"strict\",\"colorway\":[\"#636efa\",\"#EF553B\",\"#00cc96\",\"#ab63fa\",\"#FFA15A\",\"#19d3f3\",\"#FF6692\",\"#B6E880\",\"#FF97FF\",\"#FECB52\"],\"font\":{\"color\":\"#2a3f5f\"},\"hovermode\":\"closest\",\"hoverlabel\":{\"align\":\"left\"},\"paper_bgcolor\":\"white\",\"plot_bgcolor\":\"#E5ECF6\",\"polar\":{\"bgcolor\":\"#E5ECF6\",\"angularaxis\":{\"gridcolor\":\"white\",\"linecolor\":\"white\",\"ticks\":\"\"},\"radialaxis\":{\"gridcolor\":\"white\",\"linecolor\":\"white\",\"ticks\":\"\"}},\"ternary\":{\"bgcolor\":\"#E5ECF6\",\"aaxis\":{\"gridcolor\":\"white\",\"linecolor\":\"white\",\"ticks\":\"\"},\"baxis\":{\"gridcolor\":\"white\",\"linecolor\":\"white\",\"ticks\":\"\"},\"caxis\":{\"gridcolor\":\"white\",\"linecolor\":\"white\",\"ticks\":\"\"}},\"coloraxis\":{\"colorbar\":{\"outlinewidth\":0,\"ticks\":\"\"}},\"colorscale\":{\"sequential\":[[0.0,\"#0d0887\"],[0.1111111111111111,\"#46039f\"],[0.2222222222222222,\"#7201a8\"],[0.3333333333333333,\"#9c179e\"],[0.4444444444444444,\"#bd3786\"],[0.5555555555555556,\"#d8576b\"],[0.6666666666666666,\"#ed7953\"],[0.7777777777777778,\"#fb9f3a\"],[0.8888888888888888,\"#fdca26\"],[1.0,\"#f0f921\"]],\"sequentialminus\":[[0.0,\"#0d0887\"],[0.1111111111111111,\"#46039f\"],[0.2222222222222222,\"#7201a8\"],[0.3333333333333333,\"#9c179e\"],[0.4444444444444444,\"#bd3786\"],[0.5555555555555556,\"#d8576b\"],[0.6666666666666666,\"#ed7953\"],[0.7777777777777778,\"#fb9f3a\"],[0.8888888888888888,\"#fdca26\"],[1.0,\"#f0f921\"]],\"diverging\":[[0,\"#8e0152\"],[0.1,\"#c51b7d\"],[0.2,\"#de77ae\"],[0.3,\"#f1b6da\"],[0.4,\"#fde0ef\"],[0.5,\"#f7f7f7\"],[0.6,\"#e6f5d0\"],[0.7,\"#b8e186\"],[0.8,\"#7fbc41\"],[0.9,\"#4d9221\"],[1,\"#276419\"]]},\"xaxis\":{\"gridcolor\":\"white\",\"linecolor\":\"white\",\"ticks\":\"\",\"title\":{\"standoff\":15},\"zerolinecolor\":\"white\",\"automargin\":true,\"zerolinewidth\":2},\"yaxis\":{\"gridcolor\":\"white\",\"linecolor\":\"white\",\"ticks\":\"\",\"title\":{\"standoff\":15},\"zerolinecolor\":\"white\",\"automargin\":true,\"zerolinewidth\":2},\"scene\":{\"xaxis\":{\"backgroundcolor\":\"#E5ECF6\",\"gridcolor\":\"white\",\"linecolor\":\"white\",\"showbackground\":true,\"ticks\":\"\",\"zerolinecolor\":\"white\",\"gridwidth\":2},\"yaxis\":{\"backgroundcolor\":\"#E5ECF6\",\"gridcolor\":\"white\",\"linecolor\":\"white\",\"showbackground\":true,\"ticks\":\"\",\"zerolinecolor\":\"white\",\"gridwidth\":2},\"zaxis\":{\"backgroundcolor\":\"#E5ECF6\",\"gridcolor\":\"white\",\"linecolor\":\"white\",\"showbackground\":true,\"ticks\":\"\",\"zerolinecolor\":\"white\",\"gridwidth\":2}},\"shapedefaults\":{\"line\":{\"color\":\"#2a3f5f\"}},\"annotationdefaults\":{\"arrowcolor\":\"#2a3f5f\",\"arrowhead\":0,\"arrowwidth\":1},\"geo\":{\"bgcolor\":\"white\",\"landcolor\":\"#E5ECF6\",\"subunitcolor\":\"white\",\"showland\":true,\"showlakes\":true,\"lakecolor\":\"white\"},\"title\":{\"x\":0.05},\"mapbox\":{\"style\":\"light\"}}},\"xaxis\":{\"anchor\":\"y\",\"domain\":[0.0,1.0],\"title\":{\"text\":\"Region\"},\"categoryorder\":\"total descending\",\"categoryarray\":[\"Andhra Pradesh\",\"Assam\",\"Bihar\",\"Chhattisgarh\",\"Delhi\",\"Goa\",\"Gujarat\",\"Haryana\",\"Himachal Pradesh\",\"Jammu & Kashmir\",\"Jharkhand\",\"Karnataka\",\"Kerala\",\"Madhya Pradesh\",\"Maharashtra\",\"Meghalaya\",\"Odisha\",\"Puducherry\",\"Punjab\",\"Rajasthan\",\"Sikkim\",\"Tamil Nadu\",\"Telangana\",\"Tripura\",\"Uttar Pradesh\",\"Uttarakhand\",\"West Bengal\"]},\"yaxis\":{\"anchor\":\"x\",\"domain\":[0.0,1.0],\"title\":{\"text\":\" Estimated Unemployment Rate (%)\"}},\"legend\":{\"title\":{\"text\":\"Region\"},\"tracegroupgap\":0},\"title\":{\"text\":\"Unemploymeny Rate (State Wise) by Bar Graph\"},\"barmode\":\"relative\"},                        {\"responsive\": true}                    ).then(function(){\n",
              "                            \n",
              "var gd = document.getElementById('63e5113f-50df-45b3-b1b3-61963c58db60');\n",
              "var x = new MutationObserver(function (mutations, observer) {{\n",
              "        var display = window.getComputedStyle(gd).display;\n",
              "        if (!display || display === 'none') {{\n",
              "            console.log([gd, 'removed!']);\n",
              "            Plotly.purge(gd);\n",
              "            observer.disconnect();\n",
              "        }}\n",
              "}});\n",
              "\n",
              "// Listen for the removal of the full notebook cells\n",
              "var notebookContainer = gd.closest('#notebook-container');\n",
              "if (notebookContainer) {{\n",
              "    x.observe(notebookContainer, {childList: true});\n",
              "}}\n",
              "\n",
              "// Listen for the clearing of the current output cell\n",
              "var outputEl = gd.closest('.output');\n",
              "if (outputEl) {{\n",
              "    x.observe(outputEl, {childList: true});\n",
              "}}\n",
              "\n",
              "                        })                };                            </script>        </div>\n",
              "</body>\n",
              "</html>"
            ]
          },
          "metadata": {}
        }
      ]
    },
    {
      "cell_type": "code",
      "source": [
        "fg = px.bar(df,x='Region.1',y=' Estimated Unemployment Rate (%)',color='Region',\n",
        "title='Unemploymeny Rate (State Wise) by Bar Graph',template='plotly')\n",
        "fg.update_layout(xaxis={'categoryorder':'total descending'})\n",
        "fg.show()"
      ],
      "metadata": {
        "colab": {
          "base_uri": "https://localhost:8080/",
          "height": 542
        },
        "id": "TOPT1hGipgkx",
        "outputId": "688037c5-430d-4c10-d743-48fd02b15de0"
      },
      "execution_count": 25,
      "outputs": [
        {
          "output_type": "display_data",
          "data": {
            "text/html": [
              "<html>\n",
              "<head><meta charset=\"utf-8\" /></head>\n",
              "<body>\n",
              "    <div>            <script src=\"https://cdnjs.cloudflare.com/ajax/libs/mathjax/2.7.5/MathJax.js?config=TeX-AMS-MML_SVG\"></script><script type=\"text/javascript\">if (window.MathJax && window.MathJax.Hub && window.MathJax.Hub.Config) {window.MathJax.Hub.Config({SVG: {font: \"STIX-Web\"}});}</script>                <script type=\"text/javascript\">window.PlotlyConfig = {MathJaxConfig: 'local'};</script>\n",
              "        <script src=\"https://cdn.plot.ly/plotly-2.18.2.min.js\"></script>                <div id=\"4d922e0c-f260-4920-b283-114f5c5fc5d3\" class=\"plotly-graph-div\" style=\"height:525px; width:100%;\"></div>            <script type=\"text/javascript\">                                    window.PLOTLYENV=window.PLOTLYENV || {};                                    if (document.getElementById(\"4d922e0c-f260-4920-b283-114f5c5fc5d3\")) {                    Plotly.newPlot(                        \"4d922e0c-f260-4920-b283-114f5c5fc5d3\",                        [{\"alignmentgroup\":\"True\",\"hovertemplate\":\"Region=Andhra Pradesh<br>Region.1=%{x}<br> Estimated Unemployment Rate (%)=%{y}<extra></extra>\",\"legendgroup\":\"Andhra Pradesh\",\"marker\":{\"color\":\"#636efa\",\"pattern\":{\"shape\":\"\"}},\"name\":\"Andhra Pradesh\",\"offsetgroup\":\"Andhra Pradesh\",\"orientation\":\"v\",\"showlegend\":true,\"textposition\":\"auto\",\"x\":[\"South\",\"South\",\"South\",\"South\",\"South\",\"South\",\"South\",\"South\",\"South\",\"South\"],\"xaxis\":\"x\",\"y\":[5.48,5.83,5.79,20.51,17.43,3.31,8.34,6.96,6.4,6.59],\"yaxis\":\"y\",\"type\":\"bar\"},{\"alignmentgroup\":\"True\",\"hovertemplate\":\"Region=Assam<br>Region.1=%{x}<br> Estimated Unemployment Rate (%)=%{y}<extra></extra>\",\"legendgroup\":\"Assam\",\"marker\":{\"color\":\"#EF553B\",\"pattern\":{\"shape\":\"\"}},\"name\":\"Assam\",\"offsetgroup\":\"Assam\",\"orientation\":\"v\",\"showlegend\":true,\"textposition\":\"auto\",\"x\":[\"Northeast\",\"Northeast\",\"Northeast\",\"Northeast\",\"Northeast\",\"Northeast\",\"Northeast\",\"Northeast\",\"Northeast\",\"Northeast\"],\"xaxis\":\"x\",\"y\":[4.66,4.41,4.77,11.06,9.55,0.6,3.77,5.53,1.19,3.02],\"yaxis\":\"y\",\"type\":\"bar\"},{\"alignmentgroup\":\"True\",\"hovertemplate\":\"Region=Bihar<br>Region.1=%{x}<br> Estimated Unemployment Rate (%)=%{y}<extra></extra>\",\"legendgroup\":\"Bihar\",\"marker\":{\"color\":\"#00cc96\",\"pattern\":{\"shape\":\"\"}},\"name\":\"Bihar\",\"offsetgroup\":\"Bihar\",\"orientation\":\"v\",\"showlegend\":true,\"textposition\":\"auto\",\"x\":[\"East\",\"East\",\"East\",\"East\",\"East\",\"East\",\"East\",\"East\",\"East\",\"East\"],\"xaxis\":\"x\",\"y\":[10.61,10.29,15.43,46.64,45.96,17.82,12.79,13.44,11.91,9.82],\"yaxis\":\"y\",\"type\":\"bar\"},{\"alignmentgroup\":\"True\",\"hovertemplate\":\"Region=Chhattisgarh<br>Region.1=%{x}<br> Estimated Unemployment Rate (%)=%{y}<extra></extra>\",\"legendgroup\":\"Chhattisgarh\",\"marker\":{\"color\":\"#ab63fa\",\"pattern\":{\"shape\":\"\"}},\"name\":\"Chhattisgarh\",\"offsetgroup\":\"Chhattisgarh\",\"orientation\":\"v\",\"showlegend\":true,\"textposition\":\"auto\",\"x\":[\"West\",\"West\",\"West\",\"West\",\"West\",\"West\",\"West\",\"West\",\"West\",\"West\"],\"xaxis\":\"x\",\"y\":[9.65,8.38,7.54,3.41,10.5,14.23,10.27,5.63,1.96,6.62],\"yaxis\":\"y\",\"type\":\"bar\"},{\"alignmentgroup\":\"True\",\"hovertemplate\":\"Region=Delhi<br>Region.1=%{x}<br> Estimated Unemployment Rate (%)=%{y}<extra></extra>\",\"legendgroup\":\"Delhi\",\"marker\":{\"color\":\"#FFA15A\",\"pattern\":{\"shape\":\"\"}},\"name\":\"Delhi\",\"offsetgroup\":\"Delhi\",\"orientation\":\"v\",\"showlegend\":true,\"textposition\":\"auto\",\"x\":[\"North\",\"North\",\"North\",\"North\",\"North\",\"North\",\"North\",\"North\",\"North\",\"North\"],\"xaxis\":\"x\",\"y\":[22.23,14.84,17.04,16.68,42.27,18.19,20.3,13.79,12.53,6.27],\"yaxis\":\"y\",\"type\":\"bar\"},{\"alignmentgroup\":\"True\",\"hovertemplate\":\"Region=Goa<br>Region.1=%{x}<br> Estimated Unemployment Rate (%)=%{y}<extra></extra>\",\"legendgroup\":\"Goa\",\"marker\":{\"color\":\"#19d3f3\",\"pattern\":{\"shape\":\"\"}},\"name\":\"Goa\",\"offsetgroup\":\"Goa\",\"orientation\":\"v\",\"showlegend\":true,\"textposition\":\"auto\",\"x\":[\"West\",\"West\",\"West\",\"West\",\"West\",\"West\",\"West\",\"West\",\"West\",\"West\"],\"xaxis\":\"x\",\"y\":[8.89,2.81,5.25,13.31,21.25,9.96,17.07,16.21,15.38,11.54],\"yaxis\":\"y\",\"type\":\"bar\"},{\"alignmentgroup\":\"True\",\"hovertemplate\":\"Region=Gujarat<br>Region.1=%{x}<br> Estimated Unemployment Rate (%)=%{y}<extra></extra>\",\"legendgroup\":\"Gujarat\",\"marker\":{\"color\":\"#FF6692\",\"pattern\":{\"shape\":\"\"}},\"name\":\"Gujarat\",\"offsetgroup\":\"Gujarat\",\"orientation\":\"v\",\"showlegend\":true,\"textposition\":\"auto\",\"x\":[\"West\",\"West\",\"West\",\"West\",\"West\",\"West\",\"West\",\"West\",\"West\",\"West\"],\"xaxis\":\"x\",\"y\":[5.54,6.38,6.66,18.71,12.11,3.2,1.84,1.87,3.42,4.03],\"yaxis\":\"y\",\"type\":\"bar\"},{\"alignmentgroup\":\"True\",\"hovertemplate\":\"Region=Haryana<br>Region.1=%{x}<br> Estimated Unemployment Rate (%)=%{y}<extra></extra>\",\"legendgroup\":\"Haryana\",\"marker\":{\"color\":\"#B6E880\",\"pattern\":{\"shape\":\"\"}},\"name\":\"Haryana\",\"offsetgroup\":\"Haryana\",\"orientation\":\"v\",\"showlegend\":true,\"textposition\":\"auto\",\"x\":[\"North\",\"North\",\"North\",\"North\",\"North\",\"North\",\"North\",\"North\",\"North\",\"North\"],\"xaxis\":\"x\",\"y\":[20.34,25.77,25.05,43.22,29.02,26.7,24.18,33.5,19.68,27.31],\"yaxis\":\"y\",\"type\":\"bar\"},{\"alignmentgroup\":\"True\",\"hovertemplate\":\"Region=Himachal Pradesh<br>Region.1=%{x}<br> Estimated Unemployment Rate (%)=%{y}<extra></extra>\",\"legendgroup\":\"Himachal Pradesh\",\"marker\":{\"color\":\"#FF97FF\",\"pattern\":{\"shape\":\"\"}},\"name\":\"Himachal Pradesh\",\"offsetgroup\":\"Himachal Pradesh\",\"orientation\":\"v\",\"showlegend\":true,\"textposition\":\"auto\",\"x\":[\"North\",\"North\",\"North\",\"North\",\"North\",\"North\",\"North\",\"North\",\"North\",\"North\"],\"xaxis\":\"x\",\"y\":[16.83,16.84,18.76,2.2,26.95,13.47,24.31,15.79,12.04,13.46],\"yaxis\":\"y\",\"type\":\"bar\"},{\"alignmentgroup\":\"True\",\"hovertemplate\":\"Region=Jammu & Kashmir<br>Region.1=%{x}<br> Estimated Unemployment Rate (%)=%{y}<extra></extra>\",\"legendgroup\":\"Jammu & Kashmir\",\"marker\":{\"color\":\"#FECB52\",\"pattern\":{\"shape\":\"\"}},\"name\":\"Jammu & Kashmir\",\"offsetgroup\":\"Jammu & Kashmir\",\"orientation\":\"v\",\"showlegend\":true,\"textposition\":\"auto\",\"x\":[\"North\",\"North\",\"North\",\"North\",\"North\",\"North\",\"North\",\"North\",\"North\"],\"xaxis\":\"x\",\"y\":[21.08,20.78,15.5,18.74,17.92,10.88,11.09,16.17,16.14],\"yaxis\":\"y\",\"type\":\"bar\"},{\"alignmentgroup\":\"True\",\"hovertemplate\":\"Region=Jharkhand<br>Region.1=%{x}<br> Estimated Unemployment Rate (%)=%{y}<extra></extra>\",\"legendgroup\":\"Jharkhand\",\"marker\":{\"color\":\"#636efa\",\"pattern\":{\"shape\":\"\"}},\"name\":\"Jharkhand\",\"offsetgroup\":\"Jharkhand\",\"orientation\":\"v\",\"showlegend\":true,\"textposition\":\"auto\",\"x\":[\"East\",\"East\",\"East\",\"East\",\"East\",\"East\",\"East\",\"East\",\"East\",\"East\"],\"xaxis\":\"x\",\"y\":[10.61,11.85,8.23,47.09,59.23,20.95,7.63,9.76,8.24,11.8],\"yaxis\":\"y\",\"type\":\"bar\"},{\"alignmentgroup\":\"True\",\"hovertemplate\":\"Region=Karnataka<br>Region.1=%{x}<br> Estimated Unemployment Rate (%)=%{y}<extra></extra>\",\"legendgroup\":\"Karnataka\",\"marker\":{\"color\":\"#EF553B\",\"pattern\":{\"shape\":\"\"}},\"name\":\"Karnataka\",\"offsetgroup\":\"Karnataka\",\"orientation\":\"v\",\"showlegend\":true,\"textposition\":\"auto\",\"x\":[\"South\",\"South\",\"South\",\"South\",\"South\",\"South\",\"South\",\"South\",\"South\",\"South\"],\"xaxis\":\"x\",\"y\":[2.86,3.61,3.46,29.84,19.97,8.44,4.01,0.5,2.41,1.58],\"yaxis\":\"y\",\"type\":\"bar\"},{\"alignmentgroup\":\"True\",\"hovertemplate\":\"Region=Kerala<br>Region.1=%{x}<br> Estimated Unemployment Rate (%)=%{y}<extra></extra>\",\"legendgroup\":\"Kerala\",\"marker\":{\"color\":\"#00cc96\",\"pattern\":{\"shape\":\"\"}},\"name\":\"Kerala\",\"offsetgroup\":\"Kerala\",\"orientation\":\"v\",\"showlegend\":true,\"textposition\":\"auto\",\"x\":[\"South\",\"South\",\"South\",\"South\",\"South\",\"South\",\"South\",\"South\",\"South\",\"South\"],\"xaxis\":\"x\",\"y\":[5.31,7.6,8.99,16.99,17.88,9.71,7.09,10.98,5.91,3.88],\"yaxis\":\"y\",\"type\":\"bar\"},{\"alignmentgroup\":\"True\",\"hovertemplate\":\"Region=Madhya Pradesh<br>Region.1=%{x}<br> Estimated Unemployment Rate (%)=%{y}<extra></extra>\",\"legendgroup\":\"Madhya Pradesh\",\"marker\":{\"color\":\"#ab63fa\",\"pattern\":{\"shape\":\"\"}},\"name\":\"Madhya Pradesh\",\"offsetgroup\":\"Madhya Pradesh\",\"orientation\":\"v\",\"showlegend\":true,\"textposition\":\"auto\",\"x\":[\"West\",\"West\",\"West\",\"West\",\"West\",\"West\",\"West\",\"West\",\"West\",\"West\"],\"xaxis\":\"x\",\"y\":[4.11,4.57,2.22,12.36,21.98,6.48,5.08,4.7,3.91,3.13],\"yaxis\":\"y\",\"type\":\"bar\"},{\"alignmentgroup\":\"True\",\"hovertemplate\":\"Region=Maharashtra<br>Region.1=%{x}<br> Estimated Unemployment Rate (%)=%{y}<extra></extra>\",\"legendgroup\":\"Maharashtra\",\"marker\":{\"color\":\"#FFA15A\",\"pattern\":{\"shape\":\"\"}},\"name\":\"Maharashtra\",\"offsetgroup\":\"Maharashtra\",\"orientation\":\"v\",\"showlegend\":true,\"textposition\":\"auto\",\"x\":[\"West\",\"West\",\"West\",\"West\",\"West\",\"West\",\"West\",\"West\",\"West\",\"West\"],\"xaxis\":\"x\",\"y\":[4.95,4.69,5.79,20.9,15.46,9.23,3.89,6.23,4.55,4.1],\"yaxis\":\"y\",\"type\":\"bar\"},{\"alignmentgroup\":\"True\",\"hovertemplate\":\"Region=Meghalaya<br>Region.1=%{x}<br> Estimated Unemployment Rate (%)=%{y}<extra></extra>\",\"legendgroup\":\"Meghalaya\",\"marker\":{\"color\":\"#19d3f3\",\"pattern\":{\"shape\":\"\"}},\"name\":\"Meghalaya\",\"offsetgroup\":\"Meghalaya\",\"orientation\":\"v\",\"showlegend\":true,\"textposition\":\"auto\",\"x\":[\"Northeast\",\"Northeast\",\"Northeast\",\"Northeast\",\"Northeast\",\"Northeast\",\"Northeast\",\"Northeast\",\"Northeast\",\"Northeast\"],\"xaxis\":\"x\",\"y\":[1.66,3.59,1.58,10.03,5.92,1.15,2.1,3.74,4.29,4.6],\"yaxis\":\"y\",\"type\":\"bar\"},{\"alignmentgroup\":\"True\",\"hovertemplate\":\"Region=Odisha<br>Region.1=%{x}<br> Estimated Unemployment Rate (%)=%{y}<extra></extra>\",\"legendgroup\":\"Odisha\",\"marker\":{\"color\":\"#FF6692\",\"pattern\":{\"shape\":\"\"}},\"name\":\"Odisha\",\"offsetgroup\":\"Odisha\",\"orientation\":\"v\",\"showlegend\":true,\"textposition\":\"auto\",\"x\":[\"East\",\"East\",\"East\",\"East\",\"East\",\"East\",\"East\",\"East\",\"East\",\"East\"],\"xaxis\":\"x\",\"y\":[1.9,3.12,13.08,23.76,11.41,3.77,1.88,1.42,2.1,2.18],\"yaxis\":\"y\",\"type\":\"bar\"},{\"alignmentgroup\":\"True\",\"hovertemplate\":\"Region=Puducherry<br>Region.1=%{x}<br> Estimated Unemployment Rate (%)=%{y}<extra></extra>\",\"legendgroup\":\"Puducherry\",\"marker\":{\"color\":\"#B6E880\",\"pattern\":{\"shape\":\"\"}},\"name\":\"Puducherry\",\"offsetgroup\":\"Puducherry\",\"orientation\":\"v\",\"showlegend\":true,\"textposition\":\"auto\",\"x\":[\"South\",\"South\",\"South\",\"South\",\"South\",\"South\",\"South\",\"South\",\"South\",\"South\"],\"xaxis\":\"x\",\"y\":[0.58,1.76,1.2,75.85,58.19,4.24,15.47,5.05,10.9,6.18],\"yaxis\":\"y\",\"type\":\"bar\"},{\"alignmentgroup\":\"True\",\"hovertemplate\":\"Region=Punjab<br>Region.1=%{x}<br> Estimated Unemployment Rate (%)=%{y}<extra></extra>\",\"legendgroup\":\"Punjab\",\"marker\":{\"color\":\"#FF97FF\",\"pattern\":{\"shape\":\"\"}},\"name\":\"Punjab\",\"offsetgroup\":\"Punjab\",\"orientation\":\"v\",\"showlegend\":true,\"textposition\":\"auto\",\"x\":[\"North\",\"North\",\"North\",\"North\",\"North\",\"North\",\"North\",\"North\",\"North\",\"North\"],\"xaxis\":\"x\",\"y\":[11.11,10.97,10.32,2.86,28.33,16.55,9.19,10.99,9.61,9.88],\"yaxis\":\"y\",\"type\":\"bar\"},{\"alignmentgroup\":\"True\",\"hovertemplate\":\"Region=Rajasthan<br>Region.1=%{x}<br> Estimated Unemployment Rate (%)=%{y}<extra></extra>\",\"legendgroup\":\"Rajasthan\",\"marker\":{\"color\":\"#FECB52\",\"pattern\":{\"shape\":\"\"}},\"name\":\"Rajasthan\",\"offsetgroup\":\"Rajasthan\",\"orientation\":\"v\",\"showlegend\":true,\"textposition\":\"auto\",\"x\":[\"North\",\"North\",\"North\",\"North\",\"North\",\"North\",\"North\",\"North\",\"North\",\"North\"],\"xaxis\":\"x\",\"y\":[10.97,15.16,11.9,17.7,15.74,14.39,15.81,17.51,15.35,24.15],\"yaxis\":\"y\",\"type\":\"bar\"},{\"alignmentgroup\":\"True\",\"hovertemplate\":\"Region=Sikkim<br>Region.1=%{x}<br> Estimated Unemployment Rate (%)=%{y}<extra></extra>\",\"legendgroup\":\"Sikkim\",\"marker\":{\"color\":\"#636efa\",\"pattern\":{\"shape\":\"\"}},\"name\":\"Sikkim\",\"offsetgroup\":\"Sikkim\",\"orientation\":\"v\",\"showlegend\":true,\"textposition\":\"auto\",\"x\":[\"Northeast\",\"Northeast\",\"Northeast\",\"Northeast\",\"Northeast\",\"Northeast\",\"Northeast\",\"Northeast\"],\"xaxis\":\"x\",\"y\":[23.57,2.28,24.51,4.46,4.45,12.49,5.7,0.88],\"yaxis\":\"y\",\"type\":\"bar\"},{\"alignmentgroup\":\"True\",\"hovertemplate\":\"Region=Tamil Nadu<br>Region.1=%{x}<br> Estimated Unemployment Rate (%)=%{y}<extra></extra>\",\"legendgroup\":\"Tamil Nadu\",\"marker\":{\"color\":\"#EF553B\",\"pattern\":{\"shape\":\"\"}},\"name\":\"Tamil Nadu\",\"offsetgroup\":\"Tamil Nadu\",\"orientation\":\"v\",\"showlegend\":true,\"textposition\":\"auto\",\"x\":[\"South\",\"South\",\"South\",\"South\",\"South\",\"South\",\"South\",\"South\",\"South\",\"South\"],\"xaxis\":\"x\",\"y\":[1.57,2.09,6.4,49.83,33.16,12.2,6.81,2.65,5.0,2.16],\"yaxis\":\"y\",\"type\":\"bar\"},{\"alignmentgroup\":\"True\",\"hovertemplate\":\"Region=Telangana<br>Region.1=%{x}<br> Estimated Unemployment Rate (%)=%{y}<extra></extra>\",\"legendgroup\":\"Telangana\",\"marker\":{\"color\":\"#00cc96\",\"pattern\":{\"shape\":\"\"}},\"name\":\"Telangana\",\"offsetgroup\":\"Telangana\",\"orientation\":\"v\",\"showlegend\":true,\"textposition\":\"auto\",\"x\":[\"South\",\"South\",\"South\",\"South\",\"South\",\"South\",\"South\",\"South\",\"South\",\"South\"],\"xaxis\":\"x\",\"y\":[5.49,8.29,5.77,6.25,14.7,10.55,5.36,5.79,3.27,2.86],\"yaxis\":\"y\",\"type\":\"bar\"},{\"alignmentgroup\":\"True\",\"hovertemplate\":\"Region=Tripura<br>Region.1=%{x}<br> Estimated Unemployment Rate (%)=%{y}<extra></extra>\",\"legendgroup\":\"Tripura\",\"marker\":{\"color\":\"#ab63fa\",\"pattern\":{\"shape\":\"\"}},\"name\":\"Tripura\",\"offsetgroup\":\"Tripura\",\"orientation\":\"v\",\"showlegend\":true,\"textposition\":\"auto\",\"x\":[\"Northeast\",\"Northeast\",\"Northeast\",\"Northeast\",\"Northeast\",\"Northeast\",\"Northeast\",\"Northeast\",\"Northeast\",\"Northeast\"],\"xaxis\":\"x\",\"y\":[32.67,28.4,29.95,41.23,21.51,21.71,18.24,27.92,17.35,11.57],\"yaxis\":\"y\",\"type\":\"bar\"},{\"alignmentgroup\":\"True\",\"hovertemplate\":\"Region=Uttar Pradesh<br>Region.1=%{x}<br> Estimated Unemployment Rate (%)=%{y}<extra></extra>\",\"legendgroup\":\"Uttar Pradesh\",\"marker\":{\"color\":\"#FFA15A\",\"pattern\":{\"shape\":\"\"}},\"name\":\"Uttar Pradesh\",\"offsetgroup\":\"Uttar Pradesh\",\"orientation\":\"v\",\"showlegend\":true,\"textposition\":\"auto\",\"x\":[\"North\",\"North\",\"North\",\"North\",\"North\",\"North\",\"North\",\"North\",\"North\",\"North\"],\"xaxis\":\"x\",\"y\":[7.58,8.98,10.11,21.54,20.41,9.47,5.56,5.79,4.18,3.75],\"yaxis\":\"y\",\"type\":\"bar\"},{\"alignmentgroup\":\"True\",\"hovertemplate\":\"Region=Uttarakhand<br>Region.1=%{x}<br> Estimated Unemployment Rate (%)=%{y}<extra></extra>\",\"legendgroup\":\"Uttarakhand\",\"marker\":{\"color\":\"#19d3f3\",\"pattern\":{\"shape\":\"\"}},\"name\":\"Uttarakhand\",\"offsetgroup\":\"Uttarakhand\",\"orientation\":\"v\",\"showlegend\":true,\"textposition\":\"auto\",\"x\":[\"North\",\"North\",\"North\",\"North\",\"North\",\"North\",\"North\",\"North\",\"North\",\"North\"],\"xaxis\":\"x\",\"y\":[5.49,4.99,19.85,6.48,8.01,8.61,12.38,14.26,22.26,9.23],\"yaxis\":\"y\",\"type\":\"bar\"},{\"alignmentgroup\":\"True\",\"hovertemplate\":\"Region=West Bengal<br>Region.1=%{x}<br> Estimated Unemployment Rate (%)=%{y}<extra></extra>\",\"legendgroup\":\"West Bengal\",\"marker\":{\"color\":\"#FF6692\",\"pattern\":{\"shape\":\"\"}},\"name\":\"West Bengal\",\"offsetgroup\":\"West Bengal\",\"orientation\":\"v\",\"showlegend\":true,\"textposition\":\"auto\",\"x\":[\"East\",\"East\",\"East\",\"East\",\"East\",\"East\",\"East\",\"East\",\"East\",\"East\"],\"xaxis\":\"x\",\"y\":[6.94,4.92,6.92,17.41,17.41,7.29,6.83,14.87,9.35,9.98],\"yaxis\":\"y\",\"type\":\"bar\"}],                        {\"template\":{\"data\":{\"histogram2dcontour\":[{\"type\":\"histogram2dcontour\",\"colorbar\":{\"outlinewidth\":0,\"ticks\":\"\"},\"colorscale\":[[0.0,\"#0d0887\"],[0.1111111111111111,\"#46039f\"],[0.2222222222222222,\"#7201a8\"],[0.3333333333333333,\"#9c179e\"],[0.4444444444444444,\"#bd3786\"],[0.5555555555555556,\"#d8576b\"],[0.6666666666666666,\"#ed7953\"],[0.7777777777777778,\"#fb9f3a\"],[0.8888888888888888,\"#fdca26\"],[1.0,\"#f0f921\"]]}],\"choropleth\":[{\"type\":\"choropleth\",\"colorbar\":{\"outlinewidth\":0,\"ticks\":\"\"}}],\"histogram2d\":[{\"type\":\"histogram2d\",\"colorbar\":{\"outlinewidth\":0,\"ticks\":\"\"},\"colorscale\":[[0.0,\"#0d0887\"],[0.1111111111111111,\"#46039f\"],[0.2222222222222222,\"#7201a8\"],[0.3333333333333333,\"#9c179e\"],[0.4444444444444444,\"#bd3786\"],[0.5555555555555556,\"#d8576b\"],[0.6666666666666666,\"#ed7953\"],[0.7777777777777778,\"#fb9f3a\"],[0.8888888888888888,\"#fdca26\"],[1.0,\"#f0f921\"]]}],\"heatmap\":[{\"type\":\"heatmap\",\"colorbar\":{\"outlinewidth\":0,\"ticks\":\"\"},\"colorscale\":[[0.0,\"#0d0887\"],[0.1111111111111111,\"#46039f\"],[0.2222222222222222,\"#7201a8\"],[0.3333333333333333,\"#9c179e\"],[0.4444444444444444,\"#bd3786\"],[0.5555555555555556,\"#d8576b\"],[0.6666666666666666,\"#ed7953\"],[0.7777777777777778,\"#fb9f3a\"],[0.8888888888888888,\"#fdca26\"],[1.0,\"#f0f921\"]]}],\"heatmapgl\":[{\"type\":\"heatmapgl\",\"colorbar\":{\"outlinewidth\":0,\"ticks\":\"\"},\"colorscale\":[[0.0,\"#0d0887\"],[0.1111111111111111,\"#46039f\"],[0.2222222222222222,\"#7201a8\"],[0.3333333333333333,\"#9c179e\"],[0.4444444444444444,\"#bd3786\"],[0.5555555555555556,\"#d8576b\"],[0.6666666666666666,\"#ed7953\"],[0.7777777777777778,\"#fb9f3a\"],[0.8888888888888888,\"#fdca26\"],[1.0,\"#f0f921\"]]}],\"contourcarpet\":[{\"type\":\"contourcarpet\",\"colorbar\":{\"outlinewidth\":0,\"ticks\":\"\"}}],\"contour\":[{\"type\":\"contour\",\"colorbar\":{\"outlinewidth\":0,\"ticks\":\"\"},\"colorscale\":[[0.0,\"#0d0887\"],[0.1111111111111111,\"#46039f\"],[0.2222222222222222,\"#7201a8\"],[0.3333333333333333,\"#9c179e\"],[0.4444444444444444,\"#bd3786\"],[0.5555555555555556,\"#d8576b\"],[0.6666666666666666,\"#ed7953\"],[0.7777777777777778,\"#fb9f3a\"],[0.8888888888888888,\"#fdca26\"],[1.0,\"#f0f921\"]]}],\"surface\":[{\"type\":\"surface\",\"colorbar\":{\"outlinewidth\":0,\"ticks\":\"\"},\"colorscale\":[[0.0,\"#0d0887\"],[0.1111111111111111,\"#46039f\"],[0.2222222222222222,\"#7201a8\"],[0.3333333333333333,\"#9c179e\"],[0.4444444444444444,\"#bd3786\"],[0.5555555555555556,\"#d8576b\"],[0.6666666666666666,\"#ed7953\"],[0.7777777777777778,\"#fb9f3a\"],[0.8888888888888888,\"#fdca26\"],[1.0,\"#f0f921\"]]}],\"mesh3d\":[{\"type\":\"mesh3d\",\"colorbar\":{\"outlinewidth\":0,\"ticks\":\"\"}}],\"scatter\":[{\"fillpattern\":{\"fillmode\":\"overlay\",\"size\":10,\"solidity\":0.2},\"type\":\"scatter\"}],\"parcoords\":[{\"type\":\"parcoords\",\"line\":{\"colorbar\":{\"outlinewidth\":0,\"ticks\":\"\"}}}],\"scatterpolargl\":[{\"type\":\"scatterpolargl\",\"marker\":{\"colorbar\":{\"outlinewidth\":0,\"ticks\":\"\"}}}],\"bar\":[{\"error_x\":{\"color\":\"#2a3f5f\"},\"error_y\":{\"color\":\"#2a3f5f\"},\"marker\":{\"line\":{\"color\":\"#E5ECF6\",\"width\":0.5},\"pattern\":{\"fillmode\":\"overlay\",\"size\":10,\"solidity\":0.2}},\"type\":\"bar\"}],\"scattergeo\":[{\"type\":\"scattergeo\",\"marker\":{\"colorbar\":{\"outlinewidth\":0,\"ticks\":\"\"}}}],\"scatterpolar\":[{\"type\":\"scatterpolar\",\"marker\":{\"colorbar\":{\"outlinewidth\":0,\"ticks\":\"\"}}}],\"histogram\":[{\"marker\":{\"pattern\":{\"fillmode\":\"overlay\",\"size\":10,\"solidity\":0.2}},\"type\":\"histogram\"}],\"scattergl\":[{\"type\":\"scattergl\",\"marker\":{\"colorbar\":{\"outlinewidth\":0,\"ticks\":\"\"}}}],\"scatter3d\":[{\"type\":\"scatter3d\",\"line\":{\"colorbar\":{\"outlinewidth\":0,\"ticks\":\"\"}},\"marker\":{\"colorbar\":{\"outlinewidth\":0,\"ticks\":\"\"}}}],\"scattermapbox\":[{\"type\":\"scattermapbox\",\"marker\":{\"colorbar\":{\"outlinewidth\":0,\"ticks\":\"\"}}}],\"scatterternary\":[{\"type\":\"scatterternary\",\"marker\":{\"colorbar\":{\"outlinewidth\":0,\"ticks\":\"\"}}}],\"scattercarpet\":[{\"type\":\"scattercarpet\",\"marker\":{\"colorbar\":{\"outlinewidth\":0,\"ticks\":\"\"}}}],\"carpet\":[{\"aaxis\":{\"endlinecolor\":\"#2a3f5f\",\"gridcolor\":\"white\",\"linecolor\":\"white\",\"minorgridcolor\":\"white\",\"startlinecolor\":\"#2a3f5f\"},\"baxis\":{\"endlinecolor\":\"#2a3f5f\",\"gridcolor\":\"white\",\"linecolor\":\"white\",\"minorgridcolor\":\"white\",\"startlinecolor\":\"#2a3f5f\"},\"type\":\"carpet\"}],\"table\":[{\"cells\":{\"fill\":{\"color\":\"#EBF0F8\"},\"line\":{\"color\":\"white\"}},\"header\":{\"fill\":{\"color\":\"#C8D4E3\"},\"line\":{\"color\":\"white\"}},\"type\":\"table\"}],\"barpolar\":[{\"marker\":{\"line\":{\"color\":\"#E5ECF6\",\"width\":0.5},\"pattern\":{\"fillmode\":\"overlay\",\"size\":10,\"solidity\":0.2}},\"type\":\"barpolar\"}],\"pie\":[{\"automargin\":true,\"type\":\"pie\"}]},\"layout\":{\"autotypenumbers\":\"strict\",\"colorway\":[\"#636efa\",\"#EF553B\",\"#00cc96\",\"#ab63fa\",\"#FFA15A\",\"#19d3f3\",\"#FF6692\",\"#B6E880\",\"#FF97FF\",\"#FECB52\"],\"font\":{\"color\":\"#2a3f5f\"},\"hovermode\":\"closest\",\"hoverlabel\":{\"align\":\"left\"},\"paper_bgcolor\":\"white\",\"plot_bgcolor\":\"#E5ECF6\",\"polar\":{\"bgcolor\":\"#E5ECF6\",\"angularaxis\":{\"gridcolor\":\"white\",\"linecolor\":\"white\",\"ticks\":\"\"},\"radialaxis\":{\"gridcolor\":\"white\",\"linecolor\":\"white\",\"ticks\":\"\"}},\"ternary\":{\"bgcolor\":\"#E5ECF6\",\"aaxis\":{\"gridcolor\":\"white\",\"linecolor\":\"white\",\"ticks\":\"\"},\"baxis\":{\"gridcolor\":\"white\",\"linecolor\":\"white\",\"ticks\":\"\"},\"caxis\":{\"gridcolor\":\"white\",\"linecolor\":\"white\",\"ticks\":\"\"}},\"coloraxis\":{\"colorbar\":{\"outlinewidth\":0,\"ticks\":\"\"}},\"colorscale\":{\"sequential\":[[0.0,\"#0d0887\"],[0.1111111111111111,\"#46039f\"],[0.2222222222222222,\"#7201a8\"],[0.3333333333333333,\"#9c179e\"],[0.4444444444444444,\"#bd3786\"],[0.5555555555555556,\"#d8576b\"],[0.6666666666666666,\"#ed7953\"],[0.7777777777777778,\"#fb9f3a\"],[0.8888888888888888,\"#fdca26\"],[1.0,\"#f0f921\"]],\"sequentialminus\":[[0.0,\"#0d0887\"],[0.1111111111111111,\"#46039f\"],[0.2222222222222222,\"#7201a8\"],[0.3333333333333333,\"#9c179e\"],[0.4444444444444444,\"#bd3786\"],[0.5555555555555556,\"#d8576b\"],[0.6666666666666666,\"#ed7953\"],[0.7777777777777778,\"#fb9f3a\"],[0.8888888888888888,\"#fdca26\"],[1.0,\"#f0f921\"]],\"diverging\":[[0,\"#8e0152\"],[0.1,\"#c51b7d\"],[0.2,\"#de77ae\"],[0.3,\"#f1b6da\"],[0.4,\"#fde0ef\"],[0.5,\"#f7f7f7\"],[0.6,\"#e6f5d0\"],[0.7,\"#b8e186\"],[0.8,\"#7fbc41\"],[0.9,\"#4d9221\"],[1,\"#276419\"]]},\"xaxis\":{\"gridcolor\":\"white\",\"linecolor\":\"white\",\"ticks\":\"\",\"title\":{\"standoff\":15},\"zerolinecolor\":\"white\",\"automargin\":true,\"zerolinewidth\":2},\"yaxis\":{\"gridcolor\":\"white\",\"linecolor\":\"white\",\"ticks\":\"\",\"title\":{\"standoff\":15},\"zerolinecolor\":\"white\",\"automargin\":true,\"zerolinewidth\":2},\"scene\":{\"xaxis\":{\"backgroundcolor\":\"#E5ECF6\",\"gridcolor\":\"white\",\"linecolor\":\"white\",\"showbackground\":true,\"ticks\":\"\",\"zerolinecolor\":\"white\",\"gridwidth\":2},\"yaxis\":{\"backgroundcolor\":\"#E5ECF6\",\"gridcolor\":\"white\",\"linecolor\":\"white\",\"showbackground\":true,\"ticks\":\"\",\"zerolinecolor\":\"white\",\"gridwidth\":2},\"zaxis\":{\"backgroundcolor\":\"#E5ECF6\",\"gridcolor\":\"white\",\"linecolor\":\"white\",\"showbackground\":true,\"ticks\":\"\",\"zerolinecolor\":\"white\",\"gridwidth\":2}},\"shapedefaults\":{\"line\":{\"color\":\"#2a3f5f\"}},\"annotationdefaults\":{\"arrowcolor\":\"#2a3f5f\",\"arrowhead\":0,\"arrowwidth\":1},\"geo\":{\"bgcolor\":\"white\",\"landcolor\":\"#E5ECF6\",\"subunitcolor\":\"white\",\"showland\":true,\"showlakes\":true,\"lakecolor\":\"white\"},\"title\":{\"x\":0.05},\"mapbox\":{\"style\":\"light\"}}},\"xaxis\":{\"anchor\":\"y\",\"domain\":[0.0,1.0],\"title\":{\"text\":\"Region.1\"},\"categoryorder\":\"total descending\"},\"yaxis\":{\"anchor\":\"x\",\"domain\":[0.0,1.0],\"title\":{\"text\":\" Estimated Unemployment Rate (%)\"}},\"legend\":{\"title\":{\"text\":\"Region\"},\"tracegroupgap\":0},\"title\":{\"text\":\"Unemploymeny Rate (State Wise) by Bar Graph\"},\"barmode\":\"relative\"},                        {\"responsive\": true}                    ).then(function(){\n",
              "                            \n",
              "var gd = document.getElementById('4d922e0c-f260-4920-b283-114f5c5fc5d3');\n",
              "var x = new MutationObserver(function (mutations, observer) {{\n",
              "        var display = window.getComputedStyle(gd).display;\n",
              "        if (!display || display === 'none') {{\n",
              "            console.log([gd, 'removed!']);\n",
              "            Plotly.purge(gd);\n",
              "            observer.disconnect();\n",
              "        }}\n",
              "}});\n",
              "\n",
              "// Listen for the removal of the full notebook cells\n",
              "var notebookContainer = gd.closest('#notebook-container');\n",
              "if (notebookContainer) {{\n",
              "    x.observe(notebookContainer, {childList: true});\n",
              "}}\n",
              "\n",
              "// Listen for the clearing of the current output cell\n",
              "var outputEl = gd.closest('.output');\n",
              "if (outputEl) {{\n",
              "    x.observe(outputEl, {childList: true});\n",
              "}}\n",
              "\n",
              "                        })                };                            </script>        </div>\n",
              "</body>\n",
              "</html>"
            ]
          },
          "metadata": {}
        }
      ]
    },
    {
      "cell_type": "markdown",
      "source": [
        "ANALYZING DATA BY BOX PLOT"
      ],
      "metadata": {
        "id": "k1J-by0xqX0f"
      }
    },
    {
      "cell_type": "code",
      "source": [
        "fg = px.box(df,x='Region',y=' Estimated Unemployment Rate (%)',color='Region',\n",
        "title='Unemploymeny Rate (State Wise) by Box Plot',template='plotly')\n",
        "fg.update_layout(xaxis={'categoryorder':'total descending'})\n",
        "fg.show()"
      ],
      "metadata": {
        "colab": {
          "base_uri": "https://localhost:8080/",
          "height": 542
        },
        "id": "TpqurgYhqd6f",
        "outputId": "b52486c3-9620-4755-acaa-c309493a2764"
      },
      "execution_count": 27,
      "outputs": [
        {
          "output_type": "display_data",
          "data": {
            "text/html": [
              "<html>\n",
              "<head><meta charset=\"utf-8\" /></head>\n",
              "<body>\n",
              "    <div>            <script src=\"https://cdnjs.cloudflare.com/ajax/libs/mathjax/2.7.5/MathJax.js?config=TeX-AMS-MML_SVG\"></script><script type=\"text/javascript\">if (window.MathJax && window.MathJax.Hub && window.MathJax.Hub.Config) {window.MathJax.Hub.Config({SVG: {font: \"STIX-Web\"}});}</script>                <script type=\"text/javascript\">window.PlotlyConfig = {MathJaxConfig: 'local'};</script>\n",
              "        <script src=\"https://cdn.plot.ly/plotly-2.18.2.min.js\"></script>                <div id=\"149218ba-99f8-4553-9a03-45dbb574eebb\" class=\"plotly-graph-div\" style=\"height:525px; width:100%;\"></div>            <script type=\"text/javascript\">                                    window.PLOTLYENV=window.PLOTLYENV || {};                                    if (document.getElementById(\"149218ba-99f8-4553-9a03-45dbb574eebb\")) {                    Plotly.newPlot(                        \"149218ba-99f8-4553-9a03-45dbb574eebb\",                        [{\"alignmentgroup\":\"True\",\"hovertemplate\":\"Region=%{x}<br> Estimated Unemployment Rate (%)=%{y}<extra></extra>\",\"legendgroup\":\"Andhra Pradesh\",\"marker\":{\"color\":\"#636efa\"},\"name\":\"Andhra Pradesh\",\"notched\":false,\"offsetgroup\":\"Andhra Pradesh\",\"orientation\":\"v\",\"showlegend\":true,\"x\":[\"Andhra Pradesh\",\"Andhra Pradesh\",\"Andhra Pradesh\",\"Andhra Pradesh\",\"Andhra Pradesh\",\"Andhra Pradesh\",\"Andhra Pradesh\",\"Andhra Pradesh\",\"Andhra Pradesh\",\"Andhra Pradesh\"],\"x0\":\" \",\"xaxis\":\"x\",\"y\":[5.48,5.83,5.79,20.51,17.43,3.31,8.34,6.96,6.4,6.59],\"y0\":\" \",\"yaxis\":\"y\",\"type\":\"box\"},{\"alignmentgroup\":\"True\",\"hovertemplate\":\"Region=%{x}<br> Estimated Unemployment Rate (%)=%{y}<extra></extra>\",\"legendgroup\":\"Assam\",\"marker\":{\"color\":\"#EF553B\"},\"name\":\"Assam\",\"notched\":false,\"offsetgroup\":\"Assam\",\"orientation\":\"v\",\"showlegend\":true,\"x\":[\"Assam\",\"Assam\",\"Assam\",\"Assam\",\"Assam\",\"Assam\",\"Assam\",\"Assam\",\"Assam\",\"Assam\"],\"x0\":\" \",\"xaxis\":\"x\",\"y\":[4.66,4.41,4.77,11.06,9.55,0.6,3.77,5.53,1.19,3.02],\"y0\":\" \",\"yaxis\":\"y\",\"type\":\"box\"},{\"alignmentgroup\":\"True\",\"hovertemplate\":\"Region=%{x}<br> Estimated Unemployment Rate (%)=%{y}<extra></extra>\",\"legendgroup\":\"Bihar\",\"marker\":{\"color\":\"#00cc96\"},\"name\":\"Bihar\",\"notched\":false,\"offsetgroup\":\"Bihar\",\"orientation\":\"v\",\"showlegend\":true,\"x\":[\"Bihar\",\"Bihar\",\"Bihar\",\"Bihar\",\"Bihar\",\"Bihar\",\"Bihar\",\"Bihar\",\"Bihar\",\"Bihar\"],\"x0\":\" \",\"xaxis\":\"x\",\"y\":[10.61,10.29,15.43,46.64,45.96,17.82,12.79,13.44,11.91,9.82],\"y0\":\" \",\"yaxis\":\"y\",\"type\":\"box\"},{\"alignmentgroup\":\"True\",\"hovertemplate\":\"Region=%{x}<br> Estimated Unemployment Rate (%)=%{y}<extra></extra>\",\"legendgroup\":\"Chhattisgarh\",\"marker\":{\"color\":\"#ab63fa\"},\"name\":\"Chhattisgarh\",\"notched\":false,\"offsetgroup\":\"Chhattisgarh\",\"orientation\":\"v\",\"showlegend\":true,\"x\":[\"Chhattisgarh\",\"Chhattisgarh\",\"Chhattisgarh\",\"Chhattisgarh\",\"Chhattisgarh\",\"Chhattisgarh\",\"Chhattisgarh\",\"Chhattisgarh\",\"Chhattisgarh\",\"Chhattisgarh\"],\"x0\":\" \",\"xaxis\":\"x\",\"y\":[9.65,8.38,7.54,3.41,10.5,14.23,10.27,5.63,1.96,6.62],\"y0\":\" \",\"yaxis\":\"y\",\"type\":\"box\"},{\"alignmentgroup\":\"True\",\"hovertemplate\":\"Region=%{x}<br> Estimated Unemployment Rate (%)=%{y}<extra></extra>\",\"legendgroup\":\"Delhi\",\"marker\":{\"color\":\"#FFA15A\"},\"name\":\"Delhi\",\"notched\":false,\"offsetgroup\":\"Delhi\",\"orientation\":\"v\",\"showlegend\":true,\"x\":[\"Delhi\",\"Delhi\",\"Delhi\",\"Delhi\",\"Delhi\",\"Delhi\",\"Delhi\",\"Delhi\",\"Delhi\",\"Delhi\"],\"x0\":\" \",\"xaxis\":\"x\",\"y\":[22.23,14.84,17.04,16.68,42.27,18.19,20.3,13.79,12.53,6.27],\"y0\":\" \",\"yaxis\":\"y\",\"type\":\"box\"},{\"alignmentgroup\":\"True\",\"hovertemplate\":\"Region=%{x}<br> Estimated Unemployment Rate (%)=%{y}<extra></extra>\",\"legendgroup\":\"Goa\",\"marker\":{\"color\":\"#19d3f3\"},\"name\":\"Goa\",\"notched\":false,\"offsetgroup\":\"Goa\",\"orientation\":\"v\",\"showlegend\":true,\"x\":[\"Goa\",\"Goa\",\"Goa\",\"Goa\",\"Goa\",\"Goa\",\"Goa\",\"Goa\",\"Goa\",\"Goa\"],\"x0\":\" \",\"xaxis\":\"x\",\"y\":[8.89,2.81,5.25,13.31,21.25,9.96,17.07,16.21,15.38,11.54],\"y0\":\" \",\"yaxis\":\"y\",\"type\":\"box\"},{\"alignmentgroup\":\"True\",\"hovertemplate\":\"Region=%{x}<br> Estimated Unemployment Rate (%)=%{y}<extra></extra>\",\"legendgroup\":\"Gujarat\",\"marker\":{\"color\":\"#FF6692\"},\"name\":\"Gujarat\",\"notched\":false,\"offsetgroup\":\"Gujarat\",\"orientation\":\"v\",\"showlegend\":true,\"x\":[\"Gujarat\",\"Gujarat\",\"Gujarat\",\"Gujarat\",\"Gujarat\",\"Gujarat\",\"Gujarat\",\"Gujarat\",\"Gujarat\",\"Gujarat\"],\"x0\":\" \",\"xaxis\":\"x\",\"y\":[5.54,6.38,6.66,18.71,12.11,3.2,1.84,1.87,3.42,4.03],\"y0\":\" \",\"yaxis\":\"y\",\"type\":\"box\"},{\"alignmentgroup\":\"True\",\"hovertemplate\":\"Region=%{x}<br> Estimated Unemployment Rate (%)=%{y}<extra></extra>\",\"legendgroup\":\"Haryana\",\"marker\":{\"color\":\"#B6E880\"},\"name\":\"Haryana\",\"notched\":false,\"offsetgroup\":\"Haryana\",\"orientation\":\"v\",\"showlegend\":true,\"x\":[\"Haryana\",\"Haryana\",\"Haryana\",\"Haryana\",\"Haryana\",\"Haryana\",\"Haryana\",\"Haryana\",\"Haryana\",\"Haryana\"],\"x0\":\" \",\"xaxis\":\"x\",\"y\":[20.34,25.77,25.05,43.22,29.02,26.7,24.18,33.5,19.68,27.31],\"y0\":\" \",\"yaxis\":\"y\",\"type\":\"box\"},{\"alignmentgroup\":\"True\",\"hovertemplate\":\"Region=%{x}<br> Estimated Unemployment Rate (%)=%{y}<extra></extra>\",\"legendgroup\":\"Himachal Pradesh\",\"marker\":{\"color\":\"#FF97FF\"},\"name\":\"Himachal Pradesh\",\"notched\":false,\"offsetgroup\":\"Himachal Pradesh\",\"orientation\":\"v\",\"showlegend\":true,\"x\":[\"Himachal Pradesh\",\"Himachal Pradesh\",\"Himachal Pradesh\",\"Himachal Pradesh\",\"Himachal Pradesh\",\"Himachal Pradesh\",\"Himachal Pradesh\",\"Himachal Pradesh\",\"Himachal Pradesh\",\"Himachal Pradesh\"],\"x0\":\" \",\"xaxis\":\"x\",\"y\":[16.83,16.84,18.76,2.2,26.95,13.47,24.31,15.79,12.04,13.46],\"y0\":\" \",\"yaxis\":\"y\",\"type\":\"box\"},{\"alignmentgroup\":\"True\",\"hovertemplate\":\"Region=%{x}<br> Estimated Unemployment Rate (%)=%{y}<extra></extra>\",\"legendgroup\":\"Jammu & Kashmir\",\"marker\":{\"color\":\"#FECB52\"},\"name\":\"Jammu & Kashmir\",\"notched\":false,\"offsetgroup\":\"Jammu & Kashmir\",\"orientation\":\"v\",\"showlegend\":true,\"x\":[\"Jammu & Kashmir\",\"Jammu & Kashmir\",\"Jammu & Kashmir\",\"Jammu & Kashmir\",\"Jammu & Kashmir\",\"Jammu & Kashmir\",\"Jammu & Kashmir\",\"Jammu & Kashmir\",\"Jammu & Kashmir\"],\"x0\":\" \",\"xaxis\":\"x\",\"y\":[21.08,20.78,15.5,18.74,17.92,10.88,11.09,16.17,16.14],\"y0\":\" \",\"yaxis\":\"y\",\"type\":\"box\"},{\"alignmentgroup\":\"True\",\"hovertemplate\":\"Region=%{x}<br> Estimated Unemployment Rate (%)=%{y}<extra></extra>\",\"legendgroup\":\"Jharkhand\",\"marker\":{\"color\":\"#636efa\"},\"name\":\"Jharkhand\",\"notched\":false,\"offsetgroup\":\"Jharkhand\",\"orientation\":\"v\",\"showlegend\":true,\"x\":[\"Jharkhand\",\"Jharkhand\",\"Jharkhand\",\"Jharkhand\",\"Jharkhand\",\"Jharkhand\",\"Jharkhand\",\"Jharkhand\",\"Jharkhand\",\"Jharkhand\"],\"x0\":\" \",\"xaxis\":\"x\",\"y\":[10.61,11.85,8.23,47.09,59.23,20.95,7.63,9.76,8.24,11.8],\"y0\":\" \",\"yaxis\":\"y\",\"type\":\"box\"},{\"alignmentgroup\":\"True\",\"hovertemplate\":\"Region=%{x}<br> Estimated Unemployment Rate (%)=%{y}<extra></extra>\",\"legendgroup\":\"Karnataka\",\"marker\":{\"color\":\"#EF553B\"},\"name\":\"Karnataka\",\"notched\":false,\"offsetgroup\":\"Karnataka\",\"orientation\":\"v\",\"showlegend\":true,\"x\":[\"Karnataka\",\"Karnataka\",\"Karnataka\",\"Karnataka\",\"Karnataka\",\"Karnataka\",\"Karnataka\",\"Karnataka\",\"Karnataka\",\"Karnataka\"],\"x0\":\" \",\"xaxis\":\"x\",\"y\":[2.86,3.61,3.46,29.84,19.97,8.44,4.01,0.5,2.41,1.58],\"y0\":\" \",\"yaxis\":\"y\",\"type\":\"box\"},{\"alignmentgroup\":\"True\",\"hovertemplate\":\"Region=%{x}<br> Estimated Unemployment Rate (%)=%{y}<extra></extra>\",\"legendgroup\":\"Kerala\",\"marker\":{\"color\":\"#00cc96\"},\"name\":\"Kerala\",\"notched\":false,\"offsetgroup\":\"Kerala\",\"orientation\":\"v\",\"showlegend\":true,\"x\":[\"Kerala\",\"Kerala\",\"Kerala\",\"Kerala\",\"Kerala\",\"Kerala\",\"Kerala\",\"Kerala\",\"Kerala\",\"Kerala\"],\"x0\":\" \",\"xaxis\":\"x\",\"y\":[5.31,7.6,8.99,16.99,17.88,9.71,7.09,10.98,5.91,3.88],\"y0\":\" \",\"yaxis\":\"y\",\"type\":\"box\"},{\"alignmentgroup\":\"True\",\"hovertemplate\":\"Region=%{x}<br> Estimated Unemployment Rate (%)=%{y}<extra></extra>\",\"legendgroup\":\"Madhya Pradesh\",\"marker\":{\"color\":\"#ab63fa\"},\"name\":\"Madhya Pradesh\",\"notched\":false,\"offsetgroup\":\"Madhya Pradesh\",\"orientation\":\"v\",\"showlegend\":true,\"x\":[\"Madhya Pradesh\",\"Madhya Pradesh\",\"Madhya Pradesh\",\"Madhya Pradesh\",\"Madhya Pradesh\",\"Madhya Pradesh\",\"Madhya Pradesh\",\"Madhya Pradesh\",\"Madhya Pradesh\",\"Madhya Pradesh\"],\"x0\":\" \",\"xaxis\":\"x\",\"y\":[4.11,4.57,2.22,12.36,21.98,6.48,5.08,4.7,3.91,3.13],\"y0\":\" \",\"yaxis\":\"y\",\"type\":\"box\"},{\"alignmentgroup\":\"True\",\"hovertemplate\":\"Region=%{x}<br> Estimated Unemployment Rate (%)=%{y}<extra></extra>\",\"legendgroup\":\"Maharashtra\",\"marker\":{\"color\":\"#FFA15A\"},\"name\":\"Maharashtra\",\"notched\":false,\"offsetgroup\":\"Maharashtra\",\"orientation\":\"v\",\"showlegend\":true,\"x\":[\"Maharashtra\",\"Maharashtra\",\"Maharashtra\",\"Maharashtra\",\"Maharashtra\",\"Maharashtra\",\"Maharashtra\",\"Maharashtra\",\"Maharashtra\",\"Maharashtra\"],\"x0\":\" \",\"xaxis\":\"x\",\"y\":[4.95,4.69,5.79,20.9,15.46,9.23,3.89,6.23,4.55,4.1],\"y0\":\" \",\"yaxis\":\"y\",\"type\":\"box\"},{\"alignmentgroup\":\"True\",\"hovertemplate\":\"Region=%{x}<br> Estimated Unemployment Rate (%)=%{y}<extra></extra>\",\"legendgroup\":\"Meghalaya\",\"marker\":{\"color\":\"#19d3f3\"},\"name\":\"Meghalaya\",\"notched\":false,\"offsetgroup\":\"Meghalaya\",\"orientation\":\"v\",\"showlegend\":true,\"x\":[\"Meghalaya\",\"Meghalaya\",\"Meghalaya\",\"Meghalaya\",\"Meghalaya\",\"Meghalaya\",\"Meghalaya\",\"Meghalaya\",\"Meghalaya\",\"Meghalaya\"],\"x0\":\" \",\"xaxis\":\"x\",\"y\":[1.66,3.59,1.58,10.03,5.92,1.15,2.1,3.74,4.29,4.6],\"y0\":\" \",\"yaxis\":\"y\",\"type\":\"box\"},{\"alignmentgroup\":\"True\",\"hovertemplate\":\"Region=%{x}<br> Estimated Unemployment Rate (%)=%{y}<extra></extra>\",\"legendgroup\":\"Odisha\",\"marker\":{\"color\":\"#FF6692\"},\"name\":\"Odisha\",\"notched\":false,\"offsetgroup\":\"Odisha\",\"orientation\":\"v\",\"showlegend\":true,\"x\":[\"Odisha\",\"Odisha\",\"Odisha\",\"Odisha\",\"Odisha\",\"Odisha\",\"Odisha\",\"Odisha\",\"Odisha\",\"Odisha\"],\"x0\":\" \",\"xaxis\":\"x\",\"y\":[1.9,3.12,13.08,23.76,11.41,3.77,1.88,1.42,2.1,2.18],\"y0\":\" \",\"yaxis\":\"y\",\"type\":\"box\"},{\"alignmentgroup\":\"True\",\"hovertemplate\":\"Region=%{x}<br> Estimated Unemployment Rate (%)=%{y}<extra></extra>\",\"legendgroup\":\"Puducherry\",\"marker\":{\"color\":\"#B6E880\"},\"name\":\"Puducherry\",\"notched\":false,\"offsetgroup\":\"Puducherry\",\"orientation\":\"v\",\"showlegend\":true,\"x\":[\"Puducherry\",\"Puducherry\",\"Puducherry\",\"Puducherry\",\"Puducherry\",\"Puducherry\",\"Puducherry\",\"Puducherry\",\"Puducherry\",\"Puducherry\"],\"x0\":\" \",\"xaxis\":\"x\",\"y\":[0.58,1.76,1.2,75.85,58.19,4.24,15.47,5.05,10.9,6.18],\"y0\":\" \",\"yaxis\":\"y\",\"type\":\"box\"},{\"alignmentgroup\":\"True\",\"hovertemplate\":\"Region=%{x}<br> Estimated Unemployment Rate (%)=%{y}<extra></extra>\",\"legendgroup\":\"Punjab\",\"marker\":{\"color\":\"#FF97FF\"},\"name\":\"Punjab\",\"notched\":false,\"offsetgroup\":\"Punjab\",\"orientation\":\"v\",\"showlegend\":true,\"x\":[\"Punjab\",\"Punjab\",\"Punjab\",\"Punjab\",\"Punjab\",\"Punjab\",\"Punjab\",\"Punjab\",\"Punjab\",\"Punjab\"],\"x0\":\" \",\"xaxis\":\"x\",\"y\":[11.11,10.97,10.32,2.86,28.33,16.55,9.19,10.99,9.61,9.88],\"y0\":\" \",\"yaxis\":\"y\",\"type\":\"box\"},{\"alignmentgroup\":\"True\",\"hovertemplate\":\"Region=%{x}<br> Estimated Unemployment Rate (%)=%{y}<extra></extra>\",\"legendgroup\":\"Rajasthan\",\"marker\":{\"color\":\"#FECB52\"},\"name\":\"Rajasthan\",\"notched\":false,\"offsetgroup\":\"Rajasthan\",\"orientation\":\"v\",\"showlegend\":true,\"x\":[\"Rajasthan\",\"Rajasthan\",\"Rajasthan\",\"Rajasthan\",\"Rajasthan\",\"Rajasthan\",\"Rajasthan\",\"Rajasthan\",\"Rajasthan\",\"Rajasthan\"],\"x0\":\" \",\"xaxis\":\"x\",\"y\":[10.97,15.16,11.9,17.7,15.74,14.39,15.81,17.51,15.35,24.15],\"y0\":\" \",\"yaxis\":\"y\",\"type\":\"box\"},{\"alignmentgroup\":\"True\",\"hovertemplate\":\"Region=%{x}<br> Estimated Unemployment Rate (%)=%{y}<extra></extra>\",\"legendgroup\":\"Sikkim\",\"marker\":{\"color\":\"#636efa\"},\"name\":\"Sikkim\",\"notched\":false,\"offsetgroup\":\"Sikkim\",\"orientation\":\"v\",\"showlegend\":true,\"x\":[\"Sikkim\",\"Sikkim\",\"Sikkim\",\"Sikkim\",\"Sikkim\",\"Sikkim\",\"Sikkim\",\"Sikkim\"],\"x0\":\" \",\"xaxis\":\"x\",\"y\":[23.57,2.28,24.51,4.46,4.45,12.49,5.7,0.88],\"y0\":\" \",\"yaxis\":\"y\",\"type\":\"box\"},{\"alignmentgroup\":\"True\",\"hovertemplate\":\"Region=%{x}<br> Estimated Unemployment Rate (%)=%{y}<extra></extra>\",\"legendgroup\":\"Tamil Nadu\",\"marker\":{\"color\":\"#EF553B\"},\"name\":\"Tamil Nadu\",\"notched\":false,\"offsetgroup\":\"Tamil Nadu\",\"orientation\":\"v\",\"showlegend\":true,\"x\":[\"Tamil Nadu\",\"Tamil Nadu\",\"Tamil Nadu\",\"Tamil Nadu\",\"Tamil Nadu\",\"Tamil Nadu\",\"Tamil Nadu\",\"Tamil Nadu\",\"Tamil Nadu\",\"Tamil Nadu\"],\"x0\":\" \",\"xaxis\":\"x\",\"y\":[1.57,2.09,6.4,49.83,33.16,12.2,6.81,2.65,5.0,2.16],\"y0\":\" \",\"yaxis\":\"y\",\"type\":\"box\"},{\"alignmentgroup\":\"True\",\"hovertemplate\":\"Region=%{x}<br> Estimated Unemployment Rate (%)=%{y}<extra></extra>\",\"legendgroup\":\"Telangana\",\"marker\":{\"color\":\"#00cc96\"},\"name\":\"Telangana\",\"notched\":false,\"offsetgroup\":\"Telangana\",\"orientation\":\"v\",\"showlegend\":true,\"x\":[\"Telangana\",\"Telangana\",\"Telangana\",\"Telangana\",\"Telangana\",\"Telangana\",\"Telangana\",\"Telangana\",\"Telangana\",\"Telangana\"],\"x0\":\" \",\"xaxis\":\"x\",\"y\":[5.49,8.29,5.77,6.25,14.7,10.55,5.36,5.79,3.27,2.86],\"y0\":\" \",\"yaxis\":\"y\",\"type\":\"box\"},{\"alignmentgroup\":\"True\",\"hovertemplate\":\"Region=%{x}<br> Estimated Unemployment Rate (%)=%{y}<extra></extra>\",\"legendgroup\":\"Tripura\",\"marker\":{\"color\":\"#ab63fa\"},\"name\":\"Tripura\",\"notched\":false,\"offsetgroup\":\"Tripura\",\"orientation\":\"v\",\"showlegend\":true,\"x\":[\"Tripura\",\"Tripura\",\"Tripura\",\"Tripura\",\"Tripura\",\"Tripura\",\"Tripura\",\"Tripura\",\"Tripura\",\"Tripura\"],\"x0\":\" \",\"xaxis\":\"x\",\"y\":[32.67,28.4,29.95,41.23,21.51,21.71,18.24,27.92,17.35,11.57],\"y0\":\" \",\"yaxis\":\"y\",\"type\":\"box\"},{\"alignmentgroup\":\"True\",\"hovertemplate\":\"Region=%{x}<br> Estimated Unemployment Rate (%)=%{y}<extra></extra>\",\"legendgroup\":\"Uttar Pradesh\",\"marker\":{\"color\":\"#FFA15A\"},\"name\":\"Uttar Pradesh\",\"notched\":false,\"offsetgroup\":\"Uttar Pradesh\",\"orientation\":\"v\",\"showlegend\":true,\"x\":[\"Uttar Pradesh\",\"Uttar Pradesh\",\"Uttar Pradesh\",\"Uttar Pradesh\",\"Uttar Pradesh\",\"Uttar Pradesh\",\"Uttar Pradesh\",\"Uttar Pradesh\",\"Uttar Pradesh\",\"Uttar Pradesh\"],\"x0\":\" \",\"xaxis\":\"x\",\"y\":[7.58,8.98,10.11,21.54,20.41,9.47,5.56,5.79,4.18,3.75],\"y0\":\" \",\"yaxis\":\"y\",\"type\":\"box\"},{\"alignmentgroup\":\"True\",\"hovertemplate\":\"Region=%{x}<br> Estimated Unemployment Rate (%)=%{y}<extra></extra>\",\"legendgroup\":\"Uttarakhand\",\"marker\":{\"color\":\"#19d3f3\"},\"name\":\"Uttarakhand\",\"notched\":false,\"offsetgroup\":\"Uttarakhand\",\"orientation\":\"v\",\"showlegend\":true,\"x\":[\"Uttarakhand\",\"Uttarakhand\",\"Uttarakhand\",\"Uttarakhand\",\"Uttarakhand\",\"Uttarakhand\",\"Uttarakhand\",\"Uttarakhand\",\"Uttarakhand\",\"Uttarakhand\"],\"x0\":\" \",\"xaxis\":\"x\",\"y\":[5.49,4.99,19.85,6.48,8.01,8.61,12.38,14.26,22.26,9.23],\"y0\":\" \",\"yaxis\":\"y\",\"type\":\"box\"},{\"alignmentgroup\":\"True\",\"hovertemplate\":\"Region=%{x}<br> Estimated Unemployment Rate (%)=%{y}<extra></extra>\",\"legendgroup\":\"West Bengal\",\"marker\":{\"color\":\"#FF6692\"},\"name\":\"West Bengal\",\"notched\":false,\"offsetgroup\":\"West Bengal\",\"orientation\":\"v\",\"showlegend\":true,\"x\":[\"West Bengal\",\"West Bengal\",\"West Bengal\",\"West Bengal\",\"West Bengal\",\"West Bengal\",\"West Bengal\",\"West Bengal\",\"West Bengal\",\"West Bengal\"],\"x0\":\" \",\"xaxis\":\"x\",\"y\":[6.94,4.92,6.92,17.41,17.41,7.29,6.83,14.87,9.35,9.98],\"y0\":\" \",\"yaxis\":\"y\",\"type\":\"box\"}],                        {\"template\":{\"data\":{\"histogram2dcontour\":[{\"type\":\"histogram2dcontour\",\"colorbar\":{\"outlinewidth\":0,\"ticks\":\"\"},\"colorscale\":[[0.0,\"#0d0887\"],[0.1111111111111111,\"#46039f\"],[0.2222222222222222,\"#7201a8\"],[0.3333333333333333,\"#9c179e\"],[0.4444444444444444,\"#bd3786\"],[0.5555555555555556,\"#d8576b\"],[0.6666666666666666,\"#ed7953\"],[0.7777777777777778,\"#fb9f3a\"],[0.8888888888888888,\"#fdca26\"],[1.0,\"#f0f921\"]]}],\"choropleth\":[{\"type\":\"choropleth\",\"colorbar\":{\"outlinewidth\":0,\"ticks\":\"\"}}],\"histogram2d\":[{\"type\":\"histogram2d\",\"colorbar\":{\"outlinewidth\":0,\"ticks\":\"\"},\"colorscale\":[[0.0,\"#0d0887\"],[0.1111111111111111,\"#46039f\"],[0.2222222222222222,\"#7201a8\"],[0.3333333333333333,\"#9c179e\"],[0.4444444444444444,\"#bd3786\"],[0.5555555555555556,\"#d8576b\"],[0.6666666666666666,\"#ed7953\"],[0.7777777777777778,\"#fb9f3a\"],[0.8888888888888888,\"#fdca26\"],[1.0,\"#f0f921\"]]}],\"heatmap\":[{\"type\":\"heatmap\",\"colorbar\":{\"outlinewidth\":0,\"ticks\":\"\"},\"colorscale\":[[0.0,\"#0d0887\"],[0.1111111111111111,\"#46039f\"],[0.2222222222222222,\"#7201a8\"],[0.3333333333333333,\"#9c179e\"],[0.4444444444444444,\"#bd3786\"],[0.5555555555555556,\"#d8576b\"],[0.6666666666666666,\"#ed7953\"],[0.7777777777777778,\"#fb9f3a\"],[0.8888888888888888,\"#fdca26\"],[1.0,\"#f0f921\"]]}],\"heatmapgl\":[{\"type\":\"heatmapgl\",\"colorbar\":{\"outlinewidth\":0,\"ticks\":\"\"},\"colorscale\":[[0.0,\"#0d0887\"],[0.1111111111111111,\"#46039f\"],[0.2222222222222222,\"#7201a8\"],[0.3333333333333333,\"#9c179e\"],[0.4444444444444444,\"#bd3786\"],[0.5555555555555556,\"#d8576b\"],[0.6666666666666666,\"#ed7953\"],[0.7777777777777778,\"#fb9f3a\"],[0.8888888888888888,\"#fdca26\"],[1.0,\"#f0f921\"]]}],\"contourcarpet\":[{\"type\":\"contourcarpet\",\"colorbar\":{\"outlinewidth\":0,\"ticks\":\"\"}}],\"contour\":[{\"type\":\"contour\",\"colorbar\":{\"outlinewidth\":0,\"ticks\":\"\"},\"colorscale\":[[0.0,\"#0d0887\"],[0.1111111111111111,\"#46039f\"],[0.2222222222222222,\"#7201a8\"],[0.3333333333333333,\"#9c179e\"],[0.4444444444444444,\"#bd3786\"],[0.5555555555555556,\"#d8576b\"],[0.6666666666666666,\"#ed7953\"],[0.7777777777777778,\"#fb9f3a\"],[0.8888888888888888,\"#fdca26\"],[1.0,\"#f0f921\"]]}],\"surface\":[{\"type\":\"surface\",\"colorbar\":{\"outlinewidth\":0,\"ticks\":\"\"},\"colorscale\":[[0.0,\"#0d0887\"],[0.1111111111111111,\"#46039f\"],[0.2222222222222222,\"#7201a8\"],[0.3333333333333333,\"#9c179e\"],[0.4444444444444444,\"#bd3786\"],[0.5555555555555556,\"#d8576b\"],[0.6666666666666666,\"#ed7953\"],[0.7777777777777778,\"#fb9f3a\"],[0.8888888888888888,\"#fdca26\"],[1.0,\"#f0f921\"]]}],\"mesh3d\":[{\"type\":\"mesh3d\",\"colorbar\":{\"outlinewidth\":0,\"ticks\":\"\"}}],\"scatter\":[{\"fillpattern\":{\"fillmode\":\"overlay\",\"size\":10,\"solidity\":0.2},\"type\":\"scatter\"}],\"parcoords\":[{\"type\":\"parcoords\",\"line\":{\"colorbar\":{\"outlinewidth\":0,\"ticks\":\"\"}}}],\"scatterpolargl\":[{\"type\":\"scatterpolargl\",\"marker\":{\"colorbar\":{\"outlinewidth\":0,\"ticks\":\"\"}}}],\"bar\":[{\"error_x\":{\"color\":\"#2a3f5f\"},\"error_y\":{\"color\":\"#2a3f5f\"},\"marker\":{\"line\":{\"color\":\"#E5ECF6\",\"width\":0.5},\"pattern\":{\"fillmode\":\"overlay\",\"size\":10,\"solidity\":0.2}},\"type\":\"bar\"}],\"scattergeo\":[{\"type\":\"scattergeo\",\"marker\":{\"colorbar\":{\"outlinewidth\":0,\"ticks\":\"\"}}}],\"scatterpolar\":[{\"type\":\"scatterpolar\",\"marker\":{\"colorbar\":{\"outlinewidth\":0,\"ticks\":\"\"}}}],\"histogram\":[{\"marker\":{\"pattern\":{\"fillmode\":\"overlay\",\"size\":10,\"solidity\":0.2}},\"type\":\"histogram\"}],\"scattergl\":[{\"type\":\"scattergl\",\"marker\":{\"colorbar\":{\"outlinewidth\":0,\"ticks\":\"\"}}}],\"scatter3d\":[{\"type\":\"scatter3d\",\"line\":{\"colorbar\":{\"outlinewidth\":0,\"ticks\":\"\"}},\"marker\":{\"colorbar\":{\"outlinewidth\":0,\"ticks\":\"\"}}}],\"scattermapbox\":[{\"type\":\"scattermapbox\",\"marker\":{\"colorbar\":{\"outlinewidth\":0,\"ticks\":\"\"}}}],\"scatterternary\":[{\"type\":\"scatterternary\",\"marker\":{\"colorbar\":{\"outlinewidth\":0,\"ticks\":\"\"}}}],\"scattercarpet\":[{\"type\":\"scattercarpet\",\"marker\":{\"colorbar\":{\"outlinewidth\":0,\"ticks\":\"\"}}}],\"carpet\":[{\"aaxis\":{\"endlinecolor\":\"#2a3f5f\",\"gridcolor\":\"white\",\"linecolor\":\"white\",\"minorgridcolor\":\"white\",\"startlinecolor\":\"#2a3f5f\"},\"baxis\":{\"endlinecolor\":\"#2a3f5f\",\"gridcolor\":\"white\",\"linecolor\":\"white\",\"minorgridcolor\":\"white\",\"startlinecolor\":\"#2a3f5f\"},\"type\":\"carpet\"}],\"table\":[{\"cells\":{\"fill\":{\"color\":\"#EBF0F8\"},\"line\":{\"color\":\"white\"}},\"header\":{\"fill\":{\"color\":\"#C8D4E3\"},\"line\":{\"color\":\"white\"}},\"type\":\"table\"}],\"barpolar\":[{\"marker\":{\"line\":{\"color\":\"#E5ECF6\",\"width\":0.5},\"pattern\":{\"fillmode\":\"overlay\",\"size\":10,\"solidity\":0.2}},\"type\":\"barpolar\"}],\"pie\":[{\"automargin\":true,\"type\":\"pie\"}]},\"layout\":{\"autotypenumbers\":\"strict\",\"colorway\":[\"#636efa\",\"#EF553B\",\"#00cc96\",\"#ab63fa\",\"#FFA15A\",\"#19d3f3\",\"#FF6692\",\"#B6E880\",\"#FF97FF\",\"#FECB52\"],\"font\":{\"color\":\"#2a3f5f\"},\"hovermode\":\"closest\",\"hoverlabel\":{\"align\":\"left\"},\"paper_bgcolor\":\"white\",\"plot_bgcolor\":\"#E5ECF6\",\"polar\":{\"bgcolor\":\"#E5ECF6\",\"angularaxis\":{\"gridcolor\":\"white\",\"linecolor\":\"white\",\"ticks\":\"\"},\"radialaxis\":{\"gridcolor\":\"white\",\"linecolor\":\"white\",\"ticks\":\"\"}},\"ternary\":{\"bgcolor\":\"#E5ECF6\",\"aaxis\":{\"gridcolor\":\"white\",\"linecolor\":\"white\",\"ticks\":\"\"},\"baxis\":{\"gridcolor\":\"white\",\"linecolor\":\"white\",\"ticks\":\"\"},\"caxis\":{\"gridcolor\":\"white\",\"linecolor\":\"white\",\"ticks\":\"\"}},\"coloraxis\":{\"colorbar\":{\"outlinewidth\":0,\"ticks\":\"\"}},\"colorscale\":{\"sequential\":[[0.0,\"#0d0887\"],[0.1111111111111111,\"#46039f\"],[0.2222222222222222,\"#7201a8\"],[0.3333333333333333,\"#9c179e\"],[0.4444444444444444,\"#bd3786\"],[0.5555555555555556,\"#d8576b\"],[0.6666666666666666,\"#ed7953\"],[0.7777777777777778,\"#fb9f3a\"],[0.8888888888888888,\"#fdca26\"],[1.0,\"#f0f921\"]],\"sequentialminus\":[[0.0,\"#0d0887\"],[0.1111111111111111,\"#46039f\"],[0.2222222222222222,\"#7201a8\"],[0.3333333333333333,\"#9c179e\"],[0.4444444444444444,\"#bd3786\"],[0.5555555555555556,\"#d8576b\"],[0.6666666666666666,\"#ed7953\"],[0.7777777777777778,\"#fb9f3a\"],[0.8888888888888888,\"#fdca26\"],[1.0,\"#f0f921\"]],\"diverging\":[[0,\"#8e0152\"],[0.1,\"#c51b7d\"],[0.2,\"#de77ae\"],[0.3,\"#f1b6da\"],[0.4,\"#fde0ef\"],[0.5,\"#f7f7f7\"],[0.6,\"#e6f5d0\"],[0.7,\"#b8e186\"],[0.8,\"#7fbc41\"],[0.9,\"#4d9221\"],[1,\"#276419\"]]},\"xaxis\":{\"gridcolor\":\"white\",\"linecolor\":\"white\",\"ticks\":\"\",\"title\":{\"standoff\":15},\"zerolinecolor\":\"white\",\"automargin\":true,\"zerolinewidth\":2},\"yaxis\":{\"gridcolor\":\"white\",\"linecolor\":\"white\",\"ticks\":\"\",\"title\":{\"standoff\":15},\"zerolinecolor\":\"white\",\"automargin\":true,\"zerolinewidth\":2},\"scene\":{\"xaxis\":{\"backgroundcolor\":\"#E5ECF6\",\"gridcolor\":\"white\",\"linecolor\":\"white\",\"showbackground\":true,\"ticks\":\"\",\"zerolinecolor\":\"white\",\"gridwidth\":2},\"yaxis\":{\"backgroundcolor\":\"#E5ECF6\",\"gridcolor\":\"white\",\"linecolor\":\"white\",\"showbackground\":true,\"ticks\":\"\",\"zerolinecolor\":\"white\",\"gridwidth\":2},\"zaxis\":{\"backgroundcolor\":\"#E5ECF6\",\"gridcolor\":\"white\",\"linecolor\":\"white\",\"showbackground\":true,\"ticks\":\"\",\"zerolinecolor\":\"white\",\"gridwidth\":2}},\"shapedefaults\":{\"line\":{\"color\":\"#2a3f5f\"}},\"annotationdefaults\":{\"arrowcolor\":\"#2a3f5f\",\"arrowhead\":0,\"arrowwidth\":1},\"geo\":{\"bgcolor\":\"white\",\"landcolor\":\"#E5ECF6\",\"subunitcolor\":\"white\",\"showland\":true,\"showlakes\":true,\"lakecolor\":\"white\"},\"title\":{\"x\":0.05},\"mapbox\":{\"style\":\"light\"}}},\"xaxis\":{\"anchor\":\"y\",\"domain\":[0.0,1.0],\"title\":{\"text\":\"Region\"},\"categoryorder\":\"total descending\",\"categoryarray\":[\"Andhra Pradesh\",\"Assam\",\"Bihar\",\"Chhattisgarh\",\"Delhi\",\"Goa\",\"Gujarat\",\"Haryana\",\"Himachal Pradesh\",\"Jammu & Kashmir\",\"Jharkhand\",\"Karnataka\",\"Kerala\",\"Madhya Pradesh\",\"Maharashtra\",\"Meghalaya\",\"Odisha\",\"Puducherry\",\"Punjab\",\"Rajasthan\",\"Sikkim\",\"Tamil Nadu\",\"Telangana\",\"Tripura\",\"Uttar Pradesh\",\"Uttarakhand\",\"West Bengal\"]},\"yaxis\":{\"anchor\":\"x\",\"domain\":[0.0,1.0],\"title\":{\"text\":\" Estimated Unemployment Rate (%)\"}},\"legend\":{\"title\":{\"text\":\"Region\"},\"tracegroupgap\":0},\"title\":{\"text\":\"Unemploymeny Rate (State Wise) by Box Plot\"},\"boxmode\":\"overlay\"},                        {\"responsive\": true}                    ).then(function(){\n",
              "                            \n",
              "var gd = document.getElementById('149218ba-99f8-4553-9a03-45dbb574eebb');\n",
              "var x = new MutationObserver(function (mutations, observer) {{\n",
              "        var display = window.getComputedStyle(gd).display;\n",
              "        if (!display || display === 'none') {{\n",
              "            console.log([gd, 'removed!']);\n",
              "            Plotly.purge(gd);\n",
              "            observer.disconnect();\n",
              "        }}\n",
              "}});\n",
              "\n",
              "// Listen for the removal of the full notebook cells\n",
              "var notebookContainer = gd.closest('#notebook-container');\n",
              "if (notebookContainer) {{\n",
              "    x.observe(notebookContainer, {childList: true});\n",
              "}}\n",
              "\n",
              "// Listen for the clearing of the current output cell\n",
              "var outputEl = gd.closest('.output');\n",
              "if (outputEl) {{\n",
              "    x.observe(outputEl, {childList: true});\n",
              "}}\n",
              "\n",
              "                        })                };                            </script>        </div>\n",
              "</body>\n",
              "</html>"
            ]
          },
          "metadata": {}
        }
      ]
    },
    {
      "cell_type": "markdown",
      "source": [
        "ANALYZING DATA BY SCATTER PLOT"
      ],
      "metadata": {
        "id": "GTIdth_eq0CV"
      }
    },
    {
      "cell_type": "code",
      "source": [
        "fg = px.scatter(df,x='Region',y=' Estimated Unemployment Rate (%)',color='Region',\n",
        "title='Unemploymeny Rate (StateWise) by Scatter Plot',template='plotly')\n",
        "fg.update_layout(xaxis={'categoryorder':'total descending'})\n",
        "fg.show()"
      ],
      "metadata": {
        "colab": {
          "base_uri": "https://localhost:8080/",
          "height": 542
        },
        "id": "75svj8Q5q51m",
        "outputId": "06d2c447-a2c0-42a2-fa89-5d0495641f6e"
      },
      "execution_count": 29,
      "outputs": [
        {
          "output_type": "display_data",
          "data": {
            "text/html": [
              "<html>\n",
              "<head><meta charset=\"utf-8\" /></head>\n",
              "<body>\n",
              "    <div>            <script src=\"https://cdnjs.cloudflare.com/ajax/libs/mathjax/2.7.5/MathJax.js?config=TeX-AMS-MML_SVG\"></script><script type=\"text/javascript\">if (window.MathJax && window.MathJax.Hub && window.MathJax.Hub.Config) {window.MathJax.Hub.Config({SVG: {font: \"STIX-Web\"}});}</script>                <script type=\"text/javascript\">window.PlotlyConfig = {MathJaxConfig: 'local'};</script>\n",
              "        <script src=\"https://cdn.plot.ly/plotly-2.18.2.min.js\"></script>                <div id=\"a710f7ee-9be7-4f6b-829d-1e1c6abcbab1\" class=\"plotly-graph-div\" style=\"height:525px; width:100%;\"></div>            <script type=\"text/javascript\">                                    window.PLOTLYENV=window.PLOTLYENV || {};                                    if (document.getElementById(\"a710f7ee-9be7-4f6b-829d-1e1c6abcbab1\")) {                    Plotly.newPlot(                        \"a710f7ee-9be7-4f6b-829d-1e1c6abcbab1\",                        [{\"hovertemplate\":\"Region=%{x}<br> Estimated Unemployment Rate (%)=%{y}<extra></extra>\",\"legendgroup\":\"Andhra Pradesh\",\"marker\":{\"color\":\"#636efa\",\"symbol\":\"circle\"},\"mode\":\"markers\",\"name\":\"Andhra Pradesh\",\"orientation\":\"v\",\"showlegend\":true,\"x\":[\"Andhra Pradesh\",\"Andhra Pradesh\",\"Andhra Pradesh\",\"Andhra Pradesh\",\"Andhra Pradesh\",\"Andhra Pradesh\",\"Andhra Pradesh\",\"Andhra Pradesh\",\"Andhra Pradesh\",\"Andhra Pradesh\"],\"xaxis\":\"x\",\"y\":[5.48,5.83,5.79,20.51,17.43,3.31,8.34,6.96,6.4,6.59],\"yaxis\":\"y\",\"type\":\"scatter\"},{\"hovertemplate\":\"Region=%{x}<br> Estimated Unemployment Rate (%)=%{y}<extra></extra>\",\"legendgroup\":\"Assam\",\"marker\":{\"color\":\"#EF553B\",\"symbol\":\"circle\"},\"mode\":\"markers\",\"name\":\"Assam\",\"orientation\":\"v\",\"showlegend\":true,\"x\":[\"Assam\",\"Assam\",\"Assam\",\"Assam\",\"Assam\",\"Assam\",\"Assam\",\"Assam\",\"Assam\",\"Assam\"],\"xaxis\":\"x\",\"y\":[4.66,4.41,4.77,11.06,9.55,0.6,3.77,5.53,1.19,3.02],\"yaxis\":\"y\",\"type\":\"scatter\"},{\"hovertemplate\":\"Region=%{x}<br> Estimated Unemployment Rate (%)=%{y}<extra></extra>\",\"legendgroup\":\"Bihar\",\"marker\":{\"color\":\"#00cc96\",\"symbol\":\"circle\"},\"mode\":\"markers\",\"name\":\"Bihar\",\"orientation\":\"v\",\"showlegend\":true,\"x\":[\"Bihar\",\"Bihar\",\"Bihar\",\"Bihar\",\"Bihar\",\"Bihar\",\"Bihar\",\"Bihar\",\"Bihar\",\"Bihar\"],\"xaxis\":\"x\",\"y\":[10.61,10.29,15.43,46.64,45.96,17.82,12.79,13.44,11.91,9.82],\"yaxis\":\"y\",\"type\":\"scatter\"},{\"hovertemplate\":\"Region=%{x}<br> Estimated Unemployment Rate (%)=%{y}<extra></extra>\",\"legendgroup\":\"Chhattisgarh\",\"marker\":{\"color\":\"#ab63fa\",\"symbol\":\"circle\"},\"mode\":\"markers\",\"name\":\"Chhattisgarh\",\"orientation\":\"v\",\"showlegend\":true,\"x\":[\"Chhattisgarh\",\"Chhattisgarh\",\"Chhattisgarh\",\"Chhattisgarh\",\"Chhattisgarh\",\"Chhattisgarh\",\"Chhattisgarh\",\"Chhattisgarh\",\"Chhattisgarh\",\"Chhattisgarh\"],\"xaxis\":\"x\",\"y\":[9.65,8.38,7.54,3.41,10.5,14.23,10.27,5.63,1.96,6.62],\"yaxis\":\"y\",\"type\":\"scatter\"},{\"hovertemplate\":\"Region=%{x}<br> Estimated Unemployment Rate (%)=%{y}<extra></extra>\",\"legendgroup\":\"Delhi\",\"marker\":{\"color\":\"#FFA15A\",\"symbol\":\"circle\"},\"mode\":\"markers\",\"name\":\"Delhi\",\"orientation\":\"v\",\"showlegend\":true,\"x\":[\"Delhi\",\"Delhi\",\"Delhi\",\"Delhi\",\"Delhi\",\"Delhi\",\"Delhi\",\"Delhi\",\"Delhi\",\"Delhi\"],\"xaxis\":\"x\",\"y\":[22.23,14.84,17.04,16.68,42.27,18.19,20.3,13.79,12.53,6.27],\"yaxis\":\"y\",\"type\":\"scatter\"},{\"hovertemplate\":\"Region=%{x}<br> Estimated Unemployment Rate (%)=%{y}<extra></extra>\",\"legendgroup\":\"Goa\",\"marker\":{\"color\":\"#19d3f3\",\"symbol\":\"circle\"},\"mode\":\"markers\",\"name\":\"Goa\",\"orientation\":\"v\",\"showlegend\":true,\"x\":[\"Goa\",\"Goa\",\"Goa\",\"Goa\",\"Goa\",\"Goa\",\"Goa\",\"Goa\",\"Goa\",\"Goa\"],\"xaxis\":\"x\",\"y\":[8.89,2.81,5.25,13.31,21.25,9.96,17.07,16.21,15.38,11.54],\"yaxis\":\"y\",\"type\":\"scatter\"},{\"hovertemplate\":\"Region=%{x}<br> Estimated Unemployment Rate (%)=%{y}<extra></extra>\",\"legendgroup\":\"Gujarat\",\"marker\":{\"color\":\"#FF6692\",\"symbol\":\"circle\"},\"mode\":\"markers\",\"name\":\"Gujarat\",\"orientation\":\"v\",\"showlegend\":true,\"x\":[\"Gujarat\",\"Gujarat\",\"Gujarat\",\"Gujarat\",\"Gujarat\",\"Gujarat\",\"Gujarat\",\"Gujarat\",\"Gujarat\",\"Gujarat\"],\"xaxis\":\"x\",\"y\":[5.54,6.38,6.66,18.71,12.11,3.2,1.84,1.87,3.42,4.03],\"yaxis\":\"y\",\"type\":\"scatter\"},{\"hovertemplate\":\"Region=%{x}<br> Estimated Unemployment Rate (%)=%{y}<extra></extra>\",\"legendgroup\":\"Haryana\",\"marker\":{\"color\":\"#B6E880\",\"symbol\":\"circle\"},\"mode\":\"markers\",\"name\":\"Haryana\",\"orientation\":\"v\",\"showlegend\":true,\"x\":[\"Haryana\",\"Haryana\",\"Haryana\",\"Haryana\",\"Haryana\",\"Haryana\",\"Haryana\",\"Haryana\",\"Haryana\",\"Haryana\"],\"xaxis\":\"x\",\"y\":[20.34,25.77,25.05,43.22,29.02,26.7,24.18,33.5,19.68,27.31],\"yaxis\":\"y\",\"type\":\"scatter\"},{\"hovertemplate\":\"Region=%{x}<br> Estimated Unemployment Rate (%)=%{y}<extra></extra>\",\"legendgroup\":\"Himachal Pradesh\",\"marker\":{\"color\":\"#FF97FF\",\"symbol\":\"circle\"},\"mode\":\"markers\",\"name\":\"Himachal Pradesh\",\"orientation\":\"v\",\"showlegend\":true,\"x\":[\"Himachal Pradesh\",\"Himachal Pradesh\",\"Himachal Pradesh\",\"Himachal Pradesh\",\"Himachal Pradesh\",\"Himachal Pradesh\",\"Himachal Pradesh\",\"Himachal Pradesh\",\"Himachal Pradesh\",\"Himachal Pradesh\"],\"xaxis\":\"x\",\"y\":[16.83,16.84,18.76,2.2,26.95,13.47,24.31,15.79,12.04,13.46],\"yaxis\":\"y\",\"type\":\"scatter\"},{\"hovertemplate\":\"Region=%{x}<br> Estimated Unemployment Rate (%)=%{y}<extra></extra>\",\"legendgroup\":\"Jammu & Kashmir\",\"marker\":{\"color\":\"#FECB52\",\"symbol\":\"circle\"},\"mode\":\"markers\",\"name\":\"Jammu & Kashmir\",\"orientation\":\"v\",\"showlegend\":true,\"x\":[\"Jammu & Kashmir\",\"Jammu & Kashmir\",\"Jammu & Kashmir\",\"Jammu & Kashmir\",\"Jammu & Kashmir\",\"Jammu & Kashmir\",\"Jammu & Kashmir\",\"Jammu & Kashmir\",\"Jammu & Kashmir\"],\"xaxis\":\"x\",\"y\":[21.08,20.78,15.5,18.74,17.92,10.88,11.09,16.17,16.14],\"yaxis\":\"y\",\"type\":\"scatter\"},{\"hovertemplate\":\"Region=%{x}<br> Estimated Unemployment Rate (%)=%{y}<extra></extra>\",\"legendgroup\":\"Jharkhand\",\"marker\":{\"color\":\"#636efa\",\"symbol\":\"circle\"},\"mode\":\"markers\",\"name\":\"Jharkhand\",\"orientation\":\"v\",\"showlegend\":true,\"x\":[\"Jharkhand\",\"Jharkhand\",\"Jharkhand\",\"Jharkhand\",\"Jharkhand\",\"Jharkhand\",\"Jharkhand\",\"Jharkhand\",\"Jharkhand\",\"Jharkhand\"],\"xaxis\":\"x\",\"y\":[10.61,11.85,8.23,47.09,59.23,20.95,7.63,9.76,8.24,11.8],\"yaxis\":\"y\",\"type\":\"scatter\"},{\"hovertemplate\":\"Region=%{x}<br> Estimated Unemployment Rate (%)=%{y}<extra></extra>\",\"legendgroup\":\"Karnataka\",\"marker\":{\"color\":\"#EF553B\",\"symbol\":\"circle\"},\"mode\":\"markers\",\"name\":\"Karnataka\",\"orientation\":\"v\",\"showlegend\":true,\"x\":[\"Karnataka\",\"Karnataka\",\"Karnataka\",\"Karnataka\",\"Karnataka\",\"Karnataka\",\"Karnataka\",\"Karnataka\",\"Karnataka\",\"Karnataka\"],\"xaxis\":\"x\",\"y\":[2.86,3.61,3.46,29.84,19.97,8.44,4.01,0.5,2.41,1.58],\"yaxis\":\"y\",\"type\":\"scatter\"},{\"hovertemplate\":\"Region=%{x}<br> Estimated Unemployment Rate (%)=%{y}<extra></extra>\",\"legendgroup\":\"Kerala\",\"marker\":{\"color\":\"#00cc96\",\"symbol\":\"circle\"},\"mode\":\"markers\",\"name\":\"Kerala\",\"orientation\":\"v\",\"showlegend\":true,\"x\":[\"Kerala\",\"Kerala\",\"Kerala\",\"Kerala\",\"Kerala\",\"Kerala\",\"Kerala\",\"Kerala\",\"Kerala\",\"Kerala\"],\"xaxis\":\"x\",\"y\":[5.31,7.6,8.99,16.99,17.88,9.71,7.09,10.98,5.91,3.88],\"yaxis\":\"y\",\"type\":\"scatter\"},{\"hovertemplate\":\"Region=%{x}<br> Estimated Unemployment Rate (%)=%{y}<extra></extra>\",\"legendgroup\":\"Madhya Pradesh\",\"marker\":{\"color\":\"#ab63fa\",\"symbol\":\"circle\"},\"mode\":\"markers\",\"name\":\"Madhya Pradesh\",\"orientation\":\"v\",\"showlegend\":true,\"x\":[\"Madhya Pradesh\",\"Madhya Pradesh\",\"Madhya Pradesh\",\"Madhya Pradesh\",\"Madhya Pradesh\",\"Madhya Pradesh\",\"Madhya Pradesh\",\"Madhya Pradesh\",\"Madhya Pradesh\",\"Madhya Pradesh\"],\"xaxis\":\"x\",\"y\":[4.11,4.57,2.22,12.36,21.98,6.48,5.08,4.7,3.91,3.13],\"yaxis\":\"y\",\"type\":\"scatter\"},{\"hovertemplate\":\"Region=%{x}<br> Estimated Unemployment Rate (%)=%{y}<extra></extra>\",\"legendgroup\":\"Maharashtra\",\"marker\":{\"color\":\"#FFA15A\",\"symbol\":\"circle\"},\"mode\":\"markers\",\"name\":\"Maharashtra\",\"orientation\":\"v\",\"showlegend\":true,\"x\":[\"Maharashtra\",\"Maharashtra\",\"Maharashtra\",\"Maharashtra\",\"Maharashtra\",\"Maharashtra\",\"Maharashtra\",\"Maharashtra\",\"Maharashtra\",\"Maharashtra\"],\"xaxis\":\"x\",\"y\":[4.95,4.69,5.79,20.9,15.46,9.23,3.89,6.23,4.55,4.1],\"yaxis\":\"y\",\"type\":\"scatter\"},{\"hovertemplate\":\"Region=%{x}<br> Estimated Unemployment Rate (%)=%{y}<extra></extra>\",\"legendgroup\":\"Meghalaya\",\"marker\":{\"color\":\"#19d3f3\",\"symbol\":\"circle\"},\"mode\":\"markers\",\"name\":\"Meghalaya\",\"orientation\":\"v\",\"showlegend\":true,\"x\":[\"Meghalaya\",\"Meghalaya\",\"Meghalaya\",\"Meghalaya\",\"Meghalaya\",\"Meghalaya\",\"Meghalaya\",\"Meghalaya\",\"Meghalaya\",\"Meghalaya\"],\"xaxis\":\"x\",\"y\":[1.66,3.59,1.58,10.03,5.92,1.15,2.1,3.74,4.29,4.6],\"yaxis\":\"y\",\"type\":\"scatter\"},{\"hovertemplate\":\"Region=%{x}<br> Estimated Unemployment Rate (%)=%{y}<extra></extra>\",\"legendgroup\":\"Odisha\",\"marker\":{\"color\":\"#FF6692\",\"symbol\":\"circle\"},\"mode\":\"markers\",\"name\":\"Odisha\",\"orientation\":\"v\",\"showlegend\":true,\"x\":[\"Odisha\",\"Odisha\",\"Odisha\",\"Odisha\",\"Odisha\",\"Odisha\",\"Odisha\",\"Odisha\",\"Odisha\",\"Odisha\"],\"xaxis\":\"x\",\"y\":[1.9,3.12,13.08,23.76,11.41,3.77,1.88,1.42,2.1,2.18],\"yaxis\":\"y\",\"type\":\"scatter\"},{\"hovertemplate\":\"Region=%{x}<br> Estimated Unemployment Rate (%)=%{y}<extra></extra>\",\"legendgroup\":\"Puducherry\",\"marker\":{\"color\":\"#B6E880\",\"symbol\":\"circle\"},\"mode\":\"markers\",\"name\":\"Puducherry\",\"orientation\":\"v\",\"showlegend\":true,\"x\":[\"Puducherry\",\"Puducherry\",\"Puducherry\",\"Puducherry\",\"Puducherry\",\"Puducherry\",\"Puducherry\",\"Puducherry\",\"Puducherry\",\"Puducherry\"],\"xaxis\":\"x\",\"y\":[0.58,1.76,1.2,75.85,58.19,4.24,15.47,5.05,10.9,6.18],\"yaxis\":\"y\",\"type\":\"scatter\"},{\"hovertemplate\":\"Region=%{x}<br> Estimated Unemployment Rate (%)=%{y}<extra></extra>\",\"legendgroup\":\"Punjab\",\"marker\":{\"color\":\"#FF97FF\",\"symbol\":\"circle\"},\"mode\":\"markers\",\"name\":\"Punjab\",\"orientation\":\"v\",\"showlegend\":true,\"x\":[\"Punjab\",\"Punjab\",\"Punjab\",\"Punjab\",\"Punjab\",\"Punjab\",\"Punjab\",\"Punjab\",\"Punjab\",\"Punjab\"],\"xaxis\":\"x\",\"y\":[11.11,10.97,10.32,2.86,28.33,16.55,9.19,10.99,9.61,9.88],\"yaxis\":\"y\",\"type\":\"scatter\"},{\"hovertemplate\":\"Region=%{x}<br> Estimated Unemployment Rate (%)=%{y}<extra></extra>\",\"legendgroup\":\"Rajasthan\",\"marker\":{\"color\":\"#FECB52\",\"symbol\":\"circle\"},\"mode\":\"markers\",\"name\":\"Rajasthan\",\"orientation\":\"v\",\"showlegend\":true,\"x\":[\"Rajasthan\",\"Rajasthan\",\"Rajasthan\",\"Rajasthan\",\"Rajasthan\",\"Rajasthan\",\"Rajasthan\",\"Rajasthan\",\"Rajasthan\",\"Rajasthan\"],\"xaxis\":\"x\",\"y\":[10.97,15.16,11.9,17.7,15.74,14.39,15.81,17.51,15.35,24.15],\"yaxis\":\"y\",\"type\":\"scatter\"},{\"hovertemplate\":\"Region=%{x}<br> Estimated Unemployment Rate (%)=%{y}<extra></extra>\",\"legendgroup\":\"Sikkim\",\"marker\":{\"color\":\"#636efa\",\"symbol\":\"circle\"},\"mode\":\"markers\",\"name\":\"Sikkim\",\"orientation\":\"v\",\"showlegend\":true,\"x\":[\"Sikkim\",\"Sikkim\",\"Sikkim\",\"Sikkim\",\"Sikkim\",\"Sikkim\",\"Sikkim\",\"Sikkim\"],\"xaxis\":\"x\",\"y\":[23.57,2.28,24.51,4.46,4.45,12.49,5.7,0.88],\"yaxis\":\"y\",\"type\":\"scatter\"},{\"hovertemplate\":\"Region=%{x}<br> Estimated Unemployment Rate (%)=%{y}<extra></extra>\",\"legendgroup\":\"Tamil Nadu\",\"marker\":{\"color\":\"#EF553B\",\"symbol\":\"circle\"},\"mode\":\"markers\",\"name\":\"Tamil Nadu\",\"orientation\":\"v\",\"showlegend\":true,\"x\":[\"Tamil Nadu\",\"Tamil Nadu\",\"Tamil Nadu\",\"Tamil Nadu\",\"Tamil Nadu\",\"Tamil Nadu\",\"Tamil Nadu\",\"Tamil Nadu\",\"Tamil Nadu\",\"Tamil Nadu\"],\"xaxis\":\"x\",\"y\":[1.57,2.09,6.4,49.83,33.16,12.2,6.81,2.65,5.0,2.16],\"yaxis\":\"y\",\"type\":\"scatter\"},{\"hovertemplate\":\"Region=%{x}<br> Estimated Unemployment Rate (%)=%{y}<extra></extra>\",\"legendgroup\":\"Telangana\",\"marker\":{\"color\":\"#00cc96\",\"symbol\":\"circle\"},\"mode\":\"markers\",\"name\":\"Telangana\",\"orientation\":\"v\",\"showlegend\":true,\"x\":[\"Telangana\",\"Telangana\",\"Telangana\",\"Telangana\",\"Telangana\",\"Telangana\",\"Telangana\",\"Telangana\",\"Telangana\",\"Telangana\"],\"xaxis\":\"x\",\"y\":[5.49,8.29,5.77,6.25,14.7,10.55,5.36,5.79,3.27,2.86],\"yaxis\":\"y\",\"type\":\"scatter\"},{\"hovertemplate\":\"Region=%{x}<br> Estimated Unemployment Rate (%)=%{y}<extra></extra>\",\"legendgroup\":\"Tripura\",\"marker\":{\"color\":\"#ab63fa\",\"symbol\":\"circle\"},\"mode\":\"markers\",\"name\":\"Tripura\",\"orientation\":\"v\",\"showlegend\":true,\"x\":[\"Tripura\",\"Tripura\",\"Tripura\",\"Tripura\",\"Tripura\",\"Tripura\",\"Tripura\",\"Tripura\",\"Tripura\",\"Tripura\"],\"xaxis\":\"x\",\"y\":[32.67,28.4,29.95,41.23,21.51,21.71,18.24,27.92,17.35,11.57],\"yaxis\":\"y\",\"type\":\"scatter\"},{\"hovertemplate\":\"Region=%{x}<br> Estimated Unemployment Rate (%)=%{y}<extra></extra>\",\"legendgroup\":\"Uttar Pradesh\",\"marker\":{\"color\":\"#FFA15A\",\"symbol\":\"circle\"},\"mode\":\"markers\",\"name\":\"Uttar Pradesh\",\"orientation\":\"v\",\"showlegend\":true,\"x\":[\"Uttar Pradesh\",\"Uttar Pradesh\",\"Uttar Pradesh\",\"Uttar Pradesh\",\"Uttar Pradesh\",\"Uttar Pradesh\",\"Uttar Pradesh\",\"Uttar Pradesh\",\"Uttar Pradesh\",\"Uttar Pradesh\"],\"xaxis\":\"x\",\"y\":[7.58,8.98,10.11,21.54,20.41,9.47,5.56,5.79,4.18,3.75],\"yaxis\":\"y\",\"type\":\"scatter\"},{\"hovertemplate\":\"Region=%{x}<br> Estimated Unemployment Rate (%)=%{y}<extra></extra>\",\"legendgroup\":\"Uttarakhand\",\"marker\":{\"color\":\"#19d3f3\",\"symbol\":\"circle\"},\"mode\":\"markers\",\"name\":\"Uttarakhand\",\"orientation\":\"v\",\"showlegend\":true,\"x\":[\"Uttarakhand\",\"Uttarakhand\",\"Uttarakhand\",\"Uttarakhand\",\"Uttarakhand\",\"Uttarakhand\",\"Uttarakhand\",\"Uttarakhand\",\"Uttarakhand\",\"Uttarakhand\"],\"xaxis\":\"x\",\"y\":[5.49,4.99,19.85,6.48,8.01,8.61,12.38,14.26,22.26,9.23],\"yaxis\":\"y\",\"type\":\"scatter\"},{\"hovertemplate\":\"Region=%{x}<br> Estimated Unemployment Rate (%)=%{y}<extra></extra>\",\"legendgroup\":\"West Bengal\",\"marker\":{\"color\":\"#FF6692\",\"symbol\":\"circle\"},\"mode\":\"markers\",\"name\":\"West Bengal\",\"orientation\":\"v\",\"showlegend\":true,\"x\":[\"West Bengal\",\"West Bengal\",\"West Bengal\",\"West Bengal\",\"West Bengal\",\"West Bengal\",\"West Bengal\",\"West Bengal\",\"West Bengal\",\"West Bengal\"],\"xaxis\":\"x\",\"y\":[6.94,4.92,6.92,17.41,17.41,7.29,6.83,14.87,9.35,9.98],\"yaxis\":\"y\",\"type\":\"scatter\"}],                        {\"template\":{\"data\":{\"histogram2dcontour\":[{\"type\":\"histogram2dcontour\",\"colorbar\":{\"outlinewidth\":0,\"ticks\":\"\"},\"colorscale\":[[0.0,\"#0d0887\"],[0.1111111111111111,\"#46039f\"],[0.2222222222222222,\"#7201a8\"],[0.3333333333333333,\"#9c179e\"],[0.4444444444444444,\"#bd3786\"],[0.5555555555555556,\"#d8576b\"],[0.6666666666666666,\"#ed7953\"],[0.7777777777777778,\"#fb9f3a\"],[0.8888888888888888,\"#fdca26\"],[1.0,\"#f0f921\"]]}],\"choropleth\":[{\"type\":\"choropleth\",\"colorbar\":{\"outlinewidth\":0,\"ticks\":\"\"}}],\"histogram2d\":[{\"type\":\"histogram2d\",\"colorbar\":{\"outlinewidth\":0,\"ticks\":\"\"},\"colorscale\":[[0.0,\"#0d0887\"],[0.1111111111111111,\"#46039f\"],[0.2222222222222222,\"#7201a8\"],[0.3333333333333333,\"#9c179e\"],[0.4444444444444444,\"#bd3786\"],[0.5555555555555556,\"#d8576b\"],[0.6666666666666666,\"#ed7953\"],[0.7777777777777778,\"#fb9f3a\"],[0.8888888888888888,\"#fdca26\"],[1.0,\"#f0f921\"]]}],\"heatmap\":[{\"type\":\"heatmap\",\"colorbar\":{\"outlinewidth\":0,\"ticks\":\"\"},\"colorscale\":[[0.0,\"#0d0887\"],[0.1111111111111111,\"#46039f\"],[0.2222222222222222,\"#7201a8\"],[0.3333333333333333,\"#9c179e\"],[0.4444444444444444,\"#bd3786\"],[0.5555555555555556,\"#d8576b\"],[0.6666666666666666,\"#ed7953\"],[0.7777777777777778,\"#fb9f3a\"],[0.8888888888888888,\"#fdca26\"],[1.0,\"#f0f921\"]]}],\"heatmapgl\":[{\"type\":\"heatmapgl\",\"colorbar\":{\"outlinewidth\":0,\"ticks\":\"\"},\"colorscale\":[[0.0,\"#0d0887\"],[0.1111111111111111,\"#46039f\"],[0.2222222222222222,\"#7201a8\"],[0.3333333333333333,\"#9c179e\"],[0.4444444444444444,\"#bd3786\"],[0.5555555555555556,\"#d8576b\"],[0.6666666666666666,\"#ed7953\"],[0.7777777777777778,\"#fb9f3a\"],[0.8888888888888888,\"#fdca26\"],[1.0,\"#f0f921\"]]}],\"contourcarpet\":[{\"type\":\"contourcarpet\",\"colorbar\":{\"outlinewidth\":0,\"ticks\":\"\"}}],\"contour\":[{\"type\":\"contour\",\"colorbar\":{\"outlinewidth\":0,\"ticks\":\"\"},\"colorscale\":[[0.0,\"#0d0887\"],[0.1111111111111111,\"#46039f\"],[0.2222222222222222,\"#7201a8\"],[0.3333333333333333,\"#9c179e\"],[0.4444444444444444,\"#bd3786\"],[0.5555555555555556,\"#d8576b\"],[0.6666666666666666,\"#ed7953\"],[0.7777777777777778,\"#fb9f3a\"],[0.8888888888888888,\"#fdca26\"],[1.0,\"#f0f921\"]]}],\"surface\":[{\"type\":\"surface\",\"colorbar\":{\"outlinewidth\":0,\"ticks\":\"\"},\"colorscale\":[[0.0,\"#0d0887\"],[0.1111111111111111,\"#46039f\"],[0.2222222222222222,\"#7201a8\"],[0.3333333333333333,\"#9c179e\"],[0.4444444444444444,\"#bd3786\"],[0.5555555555555556,\"#d8576b\"],[0.6666666666666666,\"#ed7953\"],[0.7777777777777778,\"#fb9f3a\"],[0.8888888888888888,\"#fdca26\"],[1.0,\"#f0f921\"]]}],\"mesh3d\":[{\"type\":\"mesh3d\",\"colorbar\":{\"outlinewidth\":0,\"ticks\":\"\"}}],\"scatter\":[{\"fillpattern\":{\"fillmode\":\"overlay\",\"size\":10,\"solidity\":0.2},\"type\":\"scatter\"}],\"parcoords\":[{\"type\":\"parcoords\",\"line\":{\"colorbar\":{\"outlinewidth\":0,\"ticks\":\"\"}}}],\"scatterpolargl\":[{\"type\":\"scatterpolargl\",\"marker\":{\"colorbar\":{\"outlinewidth\":0,\"ticks\":\"\"}}}],\"bar\":[{\"error_x\":{\"color\":\"#2a3f5f\"},\"error_y\":{\"color\":\"#2a3f5f\"},\"marker\":{\"line\":{\"color\":\"#E5ECF6\",\"width\":0.5},\"pattern\":{\"fillmode\":\"overlay\",\"size\":10,\"solidity\":0.2}},\"type\":\"bar\"}],\"scattergeo\":[{\"type\":\"scattergeo\",\"marker\":{\"colorbar\":{\"outlinewidth\":0,\"ticks\":\"\"}}}],\"scatterpolar\":[{\"type\":\"scatterpolar\",\"marker\":{\"colorbar\":{\"outlinewidth\":0,\"ticks\":\"\"}}}],\"histogram\":[{\"marker\":{\"pattern\":{\"fillmode\":\"overlay\",\"size\":10,\"solidity\":0.2}},\"type\":\"histogram\"}],\"scattergl\":[{\"type\":\"scattergl\",\"marker\":{\"colorbar\":{\"outlinewidth\":0,\"ticks\":\"\"}}}],\"scatter3d\":[{\"type\":\"scatter3d\",\"line\":{\"colorbar\":{\"outlinewidth\":0,\"ticks\":\"\"}},\"marker\":{\"colorbar\":{\"outlinewidth\":0,\"ticks\":\"\"}}}],\"scattermapbox\":[{\"type\":\"scattermapbox\",\"marker\":{\"colorbar\":{\"outlinewidth\":0,\"ticks\":\"\"}}}],\"scatterternary\":[{\"type\":\"scatterternary\",\"marker\":{\"colorbar\":{\"outlinewidth\":0,\"ticks\":\"\"}}}],\"scattercarpet\":[{\"type\":\"scattercarpet\",\"marker\":{\"colorbar\":{\"outlinewidth\":0,\"ticks\":\"\"}}}],\"carpet\":[{\"aaxis\":{\"endlinecolor\":\"#2a3f5f\",\"gridcolor\":\"white\",\"linecolor\":\"white\",\"minorgridcolor\":\"white\",\"startlinecolor\":\"#2a3f5f\"},\"baxis\":{\"endlinecolor\":\"#2a3f5f\",\"gridcolor\":\"white\",\"linecolor\":\"white\",\"minorgridcolor\":\"white\",\"startlinecolor\":\"#2a3f5f\"},\"type\":\"carpet\"}],\"table\":[{\"cells\":{\"fill\":{\"color\":\"#EBF0F8\"},\"line\":{\"color\":\"white\"}},\"header\":{\"fill\":{\"color\":\"#C8D4E3\"},\"line\":{\"color\":\"white\"}},\"type\":\"table\"}],\"barpolar\":[{\"marker\":{\"line\":{\"color\":\"#E5ECF6\",\"width\":0.5},\"pattern\":{\"fillmode\":\"overlay\",\"size\":10,\"solidity\":0.2}},\"type\":\"barpolar\"}],\"pie\":[{\"automargin\":true,\"type\":\"pie\"}]},\"layout\":{\"autotypenumbers\":\"strict\",\"colorway\":[\"#636efa\",\"#EF553B\",\"#00cc96\",\"#ab63fa\",\"#FFA15A\",\"#19d3f3\",\"#FF6692\",\"#B6E880\",\"#FF97FF\",\"#FECB52\"],\"font\":{\"color\":\"#2a3f5f\"},\"hovermode\":\"closest\",\"hoverlabel\":{\"align\":\"left\"},\"paper_bgcolor\":\"white\",\"plot_bgcolor\":\"#E5ECF6\",\"polar\":{\"bgcolor\":\"#E5ECF6\",\"angularaxis\":{\"gridcolor\":\"white\",\"linecolor\":\"white\",\"ticks\":\"\"},\"radialaxis\":{\"gridcolor\":\"white\",\"linecolor\":\"white\",\"ticks\":\"\"}},\"ternary\":{\"bgcolor\":\"#E5ECF6\",\"aaxis\":{\"gridcolor\":\"white\",\"linecolor\":\"white\",\"ticks\":\"\"},\"baxis\":{\"gridcolor\":\"white\",\"linecolor\":\"white\",\"ticks\":\"\"},\"caxis\":{\"gridcolor\":\"white\",\"linecolor\":\"white\",\"ticks\":\"\"}},\"coloraxis\":{\"colorbar\":{\"outlinewidth\":0,\"ticks\":\"\"}},\"colorscale\":{\"sequential\":[[0.0,\"#0d0887\"],[0.1111111111111111,\"#46039f\"],[0.2222222222222222,\"#7201a8\"],[0.3333333333333333,\"#9c179e\"],[0.4444444444444444,\"#bd3786\"],[0.5555555555555556,\"#d8576b\"],[0.6666666666666666,\"#ed7953\"],[0.7777777777777778,\"#fb9f3a\"],[0.8888888888888888,\"#fdca26\"],[1.0,\"#f0f921\"]],\"sequentialminus\":[[0.0,\"#0d0887\"],[0.1111111111111111,\"#46039f\"],[0.2222222222222222,\"#7201a8\"],[0.3333333333333333,\"#9c179e\"],[0.4444444444444444,\"#bd3786\"],[0.5555555555555556,\"#d8576b\"],[0.6666666666666666,\"#ed7953\"],[0.7777777777777778,\"#fb9f3a\"],[0.8888888888888888,\"#fdca26\"],[1.0,\"#f0f921\"]],\"diverging\":[[0,\"#8e0152\"],[0.1,\"#c51b7d\"],[0.2,\"#de77ae\"],[0.3,\"#f1b6da\"],[0.4,\"#fde0ef\"],[0.5,\"#f7f7f7\"],[0.6,\"#e6f5d0\"],[0.7,\"#b8e186\"],[0.8,\"#7fbc41\"],[0.9,\"#4d9221\"],[1,\"#276419\"]]},\"xaxis\":{\"gridcolor\":\"white\",\"linecolor\":\"white\",\"ticks\":\"\",\"title\":{\"standoff\":15},\"zerolinecolor\":\"white\",\"automargin\":true,\"zerolinewidth\":2},\"yaxis\":{\"gridcolor\":\"white\",\"linecolor\":\"white\",\"ticks\":\"\",\"title\":{\"standoff\":15},\"zerolinecolor\":\"white\",\"automargin\":true,\"zerolinewidth\":2},\"scene\":{\"xaxis\":{\"backgroundcolor\":\"#E5ECF6\",\"gridcolor\":\"white\",\"linecolor\":\"white\",\"showbackground\":true,\"ticks\":\"\",\"zerolinecolor\":\"white\",\"gridwidth\":2},\"yaxis\":{\"backgroundcolor\":\"#E5ECF6\",\"gridcolor\":\"white\",\"linecolor\":\"white\",\"showbackground\":true,\"ticks\":\"\",\"zerolinecolor\":\"white\",\"gridwidth\":2},\"zaxis\":{\"backgroundcolor\":\"#E5ECF6\",\"gridcolor\":\"white\",\"linecolor\":\"white\",\"showbackground\":true,\"ticks\":\"\",\"zerolinecolor\":\"white\",\"gridwidth\":2}},\"shapedefaults\":{\"line\":{\"color\":\"#2a3f5f\"}},\"annotationdefaults\":{\"arrowcolor\":\"#2a3f5f\",\"arrowhead\":0,\"arrowwidth\":1},\"geo\":{\"bgcolor\":\"white\",\"landcolor\":\"#E5ECF6\",\"subunitcolor\":\"white\",\"showland\":true,\"showlakes\":true,\"lakecolor\":\"white\"},\"title\":{\"x\":0.05},\"mapbox\":{\"style\":\"light\"}}},\"xaxis\":{\"anchor\":\"y\",\"domain\":[0.0,1.0],\"title\":{\"text\":\"Region\"},\"categoryorder\":\"total descending\",\"categoryarray\":[\"Andhra Pradesh\",\"Assam\",\"Bihar\",\"Chhattisgarh\",\"Delhi\",\"Goa\",\"Gujarat\",\"Haryana\",\"Himachal Pradesh\",\"Jammu & Kashmir\",\"Jharkhand\",\"Karnataka\",\"Kerala\",\"Madhya Pradesh\",\"Maharashtra\",\"Meghalaya\",\"Odisha\",\"Puducherry\",\"Punjab\",\"Rajasthan\",\"Sikkim\",\"Tamil Nadu\",\"Telangana\",\"Tripura\",\"Uttar Pradesh\",\"Uttarakhand\",\"West Bengal\"]},\"yaxis\":{\"anchor\":\"x\",\"domain\":[0.0,1.0],\"title\":{\"text\":\" Estimated Unemployment Rate (%)\"}},\"legend\":{\"title\":{\"text\":\"Region\"},\"tracegroupgap\":0},\"title\":{\"text\":\"Unemploymeny Rate (StateWise) by Scatter Plot\"}},                        {\"responsive\": true}                    ).then(function(){\n",
              "                            \n",
              "var gd = document.getElementById('a710f7ee-9be7-4f6b-829d-1e1c6abcbab1');\n",
              "var x = new MutationObserver(function (mutations, observer) {{\n",
              "        var display = window.getComputedStyle(gd).display;\n",
              "        if (!display || display === 'none') {{\n",
              "            console.log([gd, 'removed!']);\n",
              "            Plotly.purge(gd);\n",
              "            observer.disconnect();\n",
              "        }}\n",
              "}});\n",
              "\n",
              "// Listen for the removal of the full notebook cells\n",
              "var notebookContainer = gd.closest('#notebook-container');\n",
              "if (notebookContainer) {{\n",
              "    x.observe(notebookContainer, {childList: true});\n",
              "}}\n",
              "\n",
              "// Listen for the clearing of the current output cell\n",
              "var outputEl = gd.closest('.output');\n",
              "if (outputEl) {{\n",
              "    x.observe(outputEl, {childList: true});\n",
              "}}\n",
              "\n",
              "                        })                };                            </script>        </div>\n",
              "</body>\n",
              "</html>"
            ]
          },
          "metadata": {}
        }
      ]
    },
    {
      "cell_type": "markdown",
      "source": [
        "ANALYZING DATA BY HISTOGRAM"
      ],
      "metadata": {
        "id": "DDH3RP-1rRYl"
      }
    },
    {
      "cell_type": "code",
      "source": [
        "fg = px.histogram(df,x='Region',y=' Estimated Unemployment Rate (%)',color='Region',\n",
        "title='Unemploymeny Rate (StateWise) by Histogram',template='plotly')\n",
        "fg.update_layout(xaxis={'categoryorder':'total descending'})\n",
        "fg.show()"
      ],
      "metadata": {
        "colab": {
          "base_uri": "https://localhost:8080/",
          "height": 542
        },
        "id": "wTa76b-Brn1D",
        "outputId": "457a1063-33af-4635-a8a6-9a2829f5d051"
      },
      "execution_count": 30,
      "outputs": [
        {
          "output_type": "display_data",
          "data": {
            "text/html": [
              "<html>\n",
              "<head><meta charset=\"utf-8\" /></head>\n",
              "<body>\n",
              "    <div>            <script src=\"https://cdnjs.cloudflare.com/ajax/libs/mathjax/2.7.5/MathJax.js?config=TeX-AMS-MML_SVG\"></script><script type=\"text/javascript\">if (window.MathJax && window.MathJax.Hub && window.MathJax.Hub.Config) {window.MathJax.Hub.Config({SVG: {font: \"STIX-Web\"}});}</script>                <script type=\"text/javascript\">window.PlotlyConfig = {MathJaxConfig: 'local'};</script>\n",
              "        <script src=\"https://cdn.plot.ly/plotly-2.18.2.min.js\"></script>                <div id=\"e911b0f9-4b9d-45a3-b65e-beb12d5f52a2\" class=\"plotly-graph-div\" style=\"height:525px; width:100%;\"></div>            <script type=\"text/javascript\">                                    window.PLOTLYENV=window.PLOTLYENV || {};                                    if (document.getElementById(\"e911b0f9-4b9d-45a3-b65e-beb12d5f52a2\")) {                    Plotly.newPlot(                        \"e911b0f9-4b9d-45a3-b65e-beb12d5f52a2\",                        [{\"alignmentgroup\":\"True\",\"bingroup\":\"x\",\"histfunc\":\"sum\",\"hovertemplate\":\"Region=%{x}<br>sum of  Estimated Unemployment Rate (%)=%{y}<extra></extra>\",\"legendgroup\":\"Andhra Pradesh\",\"marker\":{\"color\":\"#636efa\",\"pattern\":{\"shape\":\"\"}},\"name\":\"Andhra Pradesh\",\"offsetgroup\":\"Andhra Pradesh\",\"orientation\":\"v\",\"showlegend\":true,\"x\":[\"Andhra Pradesh\",\"Andhra Pradesh\",\"Andhra Pradesh\",\"Andhra Pradesh\",\"Andhra Pradesh\",\"Andhra Pradesh\",\"Andhra Pradesh\",\"Andhra Pradesh\",\"Andhra Pradesh\",\"Andhra Pradesh\"],\"xaxis\":\"x\",\"y\":[5.48,5.83,5.79,20.51,17.43,3.31,8.34,6.96,6.4,6.59],\"yaxis\":\"y\",\"type\":\"histogram\"},{\"alignmentgroup\":\"True\",\"bingroup\":\"x\",\"histfunc\":\"sum\",\"hovertemplate\":\"Region=%{x}<br>sum of  Estimated Unemployment Rate (%)=%{y}<extra></extra>\",\"legendgroup\":\"Assam\",\"marker\":{\"color\":\"#EF553B\",\"pattern\":{\"shape\":\"\"}},\"name\":\"Assam\",\"offsetgroup\":\"Assam\",\"orientation\":\"v\",\"showlegend\":true,\"x\":[\"Assam\",\"Assam\",\"Assam\",\"Assam\",\"Assam\",\"Assam\",\"Assam\",\"Assam\",\"Assam\",\"Assam\"],\"xaxis\":\"x\",\"y\":[4.66,4.41,4.77,11.06,9.55,0.6,3.77,5.53,1.19,3.02],\"yaxis\":\"y\",\"type\":\"histogram\"},{\"alignmentgroup\":\"True\",\"bingroup\":\"x\",\"histfunc\":\"sum\",\"hovertemplate\":\"Region=%{x}<br>sum of  Estimated Unemployment Rate (%)=%{y}<extra></extra>\",\"legendgroup\":\"Bihar\",\"marker\":{\"color\":\"#00cc96\",\"pattern\":{\"shape\":\"\"}},\"name\":\"Bihar\",\"offsetgroup\":\"Bihar\",\"orientation\":\"v\",\"showlegend\":true,\"x\":[\"Bihar\",\"Bihar\",\"Bihar\",\"Bihar\",\"Bihar\",\"Bihar\",\"Bihar\",\"Bihar\",\"Bihar\",\"Bihar\"],\"xaxis\":\"x\",\"y\":[10.61,10.29,15.43,46.64,45.96,17.82,12.79,13.44,11.91,9.82],\"yaxis\":\"y\",\"type\":\"histogram\"},{\"alignmentgroup\":\"True\",\"bingroup\":\"x\",\"histfunc\":\"sum\",\"hovertemplate\":\"Region=%{x}<br>sum of  Estimated Unemployment Rate (%)=%{y}<extra></extra>\",\"legendgroup\":\"Chhattisgarh\",\"marker\":{\"color\":\"#ab63fa\",\"pattern\":{\"shape\":\"\"}},\"name\":\"Chhattisgarh\",\"offsetgroup\":\"Chhattisgarh\",\"orientation\":\"v\",\"showlegend\":true,\"x\":[\"Chhattisgarh\",\"Chhattisgarh\",\"Chhattisgarh\",\"Chhattisgarh\",\"Chhattisgarh\",\"Chhattisgarh\",\"Chhattisgarh\",\"Chhattisgarh\",\"Chhattisgarh\",\"Chhattisgarh\"],\"xaxis\":\"x\",\"y\":[9.65,8.38,7.54,3.41,10.5,14.23,10.27,5.63,1.96,6.62],\"yaxis\":\"y\",\"type\":\"histogram\"},{\"alignmentgroup\":\"True\",\"bingroup\":\"x\",\"histfunc\":\"sum\",\"hovertemplate\":\"Region=%{x}<br>sum of  Estimated Unemployment Rate (%)=%{y}<extra></extra>\",\"legendgroup\":\"Delhi\",\"marker\":{\"color\":\"#FFA15A\",\"pattern\":{\"shape\":\"\"}},\"name\":\"Delhi\",\"offsetgroup\":\"Delhi\",\"orientation\":\"v\",\"showlegend\":true,\"x\":[\"Delhi\",\"Delhi\",\"Delhi\",\"Delhi\",\"Delhi\",\"Delhi\",\"Delhi\",\"Delhi\",\"Delhi\",\"Delhi\"],\"xaxis\":\"x\",\"y\":[22.23,14.84,17.04,16.68,42.27,18.19,20.3,13.79,12.53,6.27],\"yaxis\":\"y\",\"type\":\"histogram\"},{\"alignmentgroup\":\"True\",\"bingroup\":\"x\",\"histfunc\":\"sum\",\"hovertemplate\":\"Region=%{x}<br>sum of  Estimated Unemployment Rate (%)=%{y}<extra></extra>\",\"legendgroup\":\"Goa\",\"marker\":{\"color\":\"#19d3f3\",\"pattern\":{\"shape\":\"\"}},\"name\":\"Goa\",\"offsetgroup\":\"Goa\",\"orientation\":\"v\",\"showlegend\":true,\"x\":[\"Goa\",\"Goa\",\"Goa\",\"Goa\",\"Goa\",\"Goa\",\"Goa\",\"Goa\",\"Goa\",\"Goa\"],\"xaxis\":\"x\",\"y\":[8.89,2.81,5.25,13.31,21.25,9.96,17.07,16.21,15.38,11.54],\"yaxis\":\"y\",\"type\":\"histogram\"},{\"alignmentgroup\":\"True\",\"bingroup\":\"x\",\"histfunc\":\"sum\",\"hovertemplate\":\"Region=%{x}<br>sum of  Estimated Unemployment Rate (%)=%{y}<extra></extra>\",\"legendgroup\":\"Gujarat\",\"marker\":{\"color\":\"#FF6692\",\"pattern\":{\"shape\":\"\"}},\"name\":\"Gujarat\",\"offsetgroup\":\"Gujarat\",\"orientation\":\"v\",\"showlegend\":true,\"x\":[\"Gujarat\",\"Gujarat\",\"Gujarat\",\"Gujarat\",\"Gujarat\",\"Gujarat\",\"Gujarat\",\"Gujarat\",\"Gujarat\",\"Gujarat\"],\"xaxis\":\"x\",\"y\":[5.54,6.38,6.66,18.71,12.11,3.2,1.84,1.87,3.42,4.03],\"yaxis\":\"y\",\"type\":\"histogram\"},{\"alignmentgroup\":\"True\",\"bingroup\":\"x\",\"histfunc\":\"sum\",\"hovertemplate\":\"Region=%{x}<br>sum of  Estimated Unemployment Rate (%)=%{y}<extra></extra>\",\"legendgroup\":\"Haryana\",\"marker\":{\"color\":\"#B6E880\",\"pattern\":{\"shape\":\"\"}},\"name\":\"Haryana\",\"offsetgroup\":\"Haryana\",\"orientation\":\"v\",\"showlegend\":true,\"x\":[\"Haryana\",\"Haryana\",\"Haryana\",\"Haryana\",\"Haryana\",\"Haryana\",\"Haryana\",\"Haryana\",\"Haryana\",\"Haryana\"],\"xaxis\":\"x\",\"y\":[20.34,25.77,25.05,43.22,29.02,26.7,24.18,33.5,19.68,27.31],\"yaxis\":\"y\",\"type\":\"histogram\"},{\"alignmentgroup\":\"True\",\"bingroup\":\"x\",\"histfunc\":\"sum\",\"hovertemplate\":\"Region=%{x}<br>sum of  Estimated Unemployment Rate (%)=%{y}<extra></extra>\",\"legendgroup\":\"Himachal Pradesh\",\"marker\":{\"color\":\"#FF97FF\",\"pattern\":{\"shape\":\"\"}},\"name\":\"Himachal Pradesh\",\"offsetgroup\":\"Himachal Pradesh\",\"orientation\":\"v\",\"showlegend\":true,\"x\":[\"Himachal Pradesh\",\"Himachal Pradesh\",\"Himachal Pradesh\",\"Himachal Pradesh\",\"Himachal Pradesh\",\"Himachal Pradesh\",\"Himachal Pradesh\",\"Himachal Pradesh\",\"Himachal Pradesh\",\"Himachal Pradesh\"],\"xaxis\":\"x\",\"y\":[16.83,16.84,18.76,2.2,26.95,13.47,24.31,15.79,12.04,13.46],\"yaxis\":\"y\",\"type\":\"histogram\"},{\"alignmentgroup\":\"True\",\"bingroup\":\"x\",\"histfunc\":\"sum\",\"hovertemplate\":\"Region=%{x}<br>sum of  Estimated Unemployment Rate (%)=%{y}<extra></extra>\",\"legendgroup\":\"Jammu & Kashmir\",\"marker\":{\"color\":\"#FECB52\",\"pattern\":{\"shape\":\"\"}},\"name\":\"Jammu & Kashmir\",\"offsetgroup\":\"Jammu & Kashmir\",\"orientation\":\"v\",\"showlegend\":true,\"x\":[\"Jammu & Kashmir\",\"Jammu & Kashmir\",\"Jammu & Kashmir\",\"Jammu & Kashmir\",\"Jammu & Kashmir\",\"Jammu & Kashmir\",\"Jammu & Kashmir\",\"Jammu & Kashmir\",\"Jammu & Kashmir\"],\"xaxis\":\"x\",\"y\":[21.08,20.78,15.5,18.74,17.92,10.88,11.09,16.17,16.14],\"yaxis\":\"y\",\"type\":\"histogram\"},{\"alignmentgroup\":\"True\",\"bingroup\":\"x\",\"histfunc\":\"sum\",\"hovertemplate\":\"Region=%{x}<br>sum of  Estimated Unemployment Rate (%)=%{y}<extra></extra>\",\"legendgroup\":\"Jharkhand\",\"marker\":{\"color\":\"#636efa\",\"pattern\":{\"shape\":\"\"}},\"name\":\"Jharkhand\",\"offsetgroup\":\"Jharkhand\",\"orientation\":\"v\",\"showlegend\":true,\"x\":[\"Jharkhand\",\"Jharkhand\",\"Jharkhand\",\"Jharkhand\",\"Jharkhand\",\"Jharkhand\",\"Jharkhand\",\"Jharkhand\",\"Jharkhand\",\"Jharkhand\"],\"xaxis\":\"x\",\"y\":[10.61,11.85,8.23,47.09,59.23,20.95,7.63,9.76,8.24,11.8],\"yaxis\":\"y\",\"type\":\"histogram\"},{\"alignmentgroup\":\"True\",\"bingroup\":\"x\",\"histfunc\":\"sum\",\"hovertemplate\":\"Region=%{x}<br>sum of  Estimated Unemployment Rate (%)=%{y}<extra></extra>\",\"legendgroup\":\"Karnataka\",\"marker\":{\"color\":\"#EF553B\",\"pattern\":{\"shape\":\"\"}},\"name\":\"Karnataka\",\"offsetgroup\":\"Karnataka\",\"orientation\":\"v\",\"showlegend\":true,\"x\":[\"Karnataka\",\"Karnataka\",\"Karnataka\",\"Karnataka\",\"Karnataka\",\"Karnataka\",\"Karnataka\",\"Karnataka\",\"Karnataka\",\"Karnataka\"],\"xaxis\":\"x\",\"y\":[2.86,3.61,3.46,29.84,19.97,8.44,4.01,0.5,2.41,1.58],\"yaxis\":\"y\",\"type\":\"histogram\"},{\"alignmentgroup\":\"True\",\"bingroup\":\"x\",\"histfunc\":\"sum\",\"hovertemplate\":\"Region=%{x}<br>sum of  Estimated Unemployment Rate (%)=%{y}<extra></extra>\",\"legendgroup\":\"Kerala\",\"marker\":{\"color\":\"#00cc96\",\"pattern\":{\"shape\":\"\"}},\"name\":\"Kerala\",\"offsetgroup\":\"Kerala\",\"orientation\":\"v\",\"showlegend\":true,\"x\":[\"Kerala\",\"Kerala\",\"Kerala\",\"Kerala\",\"Kerala\",\"Kerala\",\"Kerala\",\"Kerala\",\"Kerala\",\"Kerala\"],\"xaxis\":\"x\",\"y\":[5.31,7.6,8.99,16.99,17.88,9.71,7.09,10.98,5.91,3.88],\"yaxis\":\"y\",\"type\":\"histogram\"},{\"alignmentgroup\":\"True\",\"bingroup\":\"x\",\"histfunc\":\"sum\",\"hovertemplate\":\"Region=%{x}<br>sum of  Estimated Unemployment Rate (%)=%{y}<extra></extra>\",\"legendgroup\":\"Madhya Pradesh\",\"marker\":{\"color\":\"#ab63fa\",\"pattern\":{\"shape\":\"\"}},\"name\":\"Madhya Pradesh\",\"offsetgroup\":\"Madhya Pradesh\",\"orientation\":\"v\",\"showlegend\":true,\"x\":[\"Madhya Pradesh\",\"Madhya Pradesh\",\"Madhya Pradesh\",\"Madhya Pradesh\",\"Madhya Pradesh\",\"Madhya Pradesh\",\"Madhya Pradesh\",\"Madhya Pradesh\",\"Madhya Pradesh\",\"Madhya Pradesh\"],\"xaxis\":\"x\",\"y\":[4.11,4.57,2.22,12.36,21.98,6.48,5.08,4.7,3.91,3.13],\"yaxis\":\"y\",\"type\":\"histogram\"},{\"alignmentgroup\":\"True\",\"bingroup\":\"x\",\"histfunc\":\"sum\",\"hovertemplate\":\"Region=%{x}<br>sum of  Estimated Unemployment Rate (%)=%{y}<extra></extra>\",\"legendgroup\":\"Maharashtra\",\"marker\":{\"color\":\"#FFA15A\",\"pattern\":{\"shape\":\"\"}},\"name\":\"Maharashtra\",\"offsetgroup\":\"Maharashtra\",\"orientation\":\"v\",\"showlegend\":true,\"x\":[\"Maharashtra\",\"Maharashtra\",\"Maharashtra\",\"Maharashtra\",\"Maharashtra\",\"Maharashtra\",\"Maharashtra\",\"Maharashtra\",\"Maharashtra\",\"Maharashtra\"],\"xaxis\":\"x\",\"y\":[4.95,4.69,5.79,20.9,15.46,9.23,3.89,6.23,4.55,4.1],\"yaxis\":\"y\",\"type\":\"histogram\"},{\"alignmentgroup\":\"True\",\"bingroup\":\"x\",\"histfunc\":\"sum\",\"hovertemplate\":\"Region=%{x}<br>sum of  Estimated Unemployment Rate (%)=%{y}<extra></extra>\",\"legendgroup\":\"Meghalaya\",\"marker\":{\"color\":\"#19d3f3\",\"pattern\":{\"shape\":\"\"}},\"name\":\"Meghalaya\",\"offsetgroup\":\"Meghalaya\",\"orientation\":\"v\",\"showlegend\":true,\"x\":[\"Meghalaya\",\"Meghalaya\",\"Meghalaya\",\"Meghalaya\",\"Meghalaya\",\"Meghalaya\",\"Meghalaya\",\"Meghalaya\",\"Meghalaya\",\"Meghalaya\"],\"xaxis\":\"x\",\"y\":[1.66,3.59,1.58,10.03,5.92,1.15,2.1,3.74,4.29,4.6],\"yaxis\":\"y\",\"type\":\"histogram\"},{\"alignmentgroup\":\"True\",\"bingroup\":\"x\",\"histfunc\":\"sum\",\"hovertemplate\":\"Region=%{x}<br>sum of  Estimated Unemployment Rate (%)=%{y}<extra></extra>\",\"legendgroup\":\"Odisha\",\"marker\":{\"color\":\"#FF6692\",\"pattern\":{\"shape\":\"\"}},\"name\":\"Odisha\",\"offsetgroup\":\"Odisha\",\"orientation\":\"v\",\"showlegend\":true,\"x\":[\"Odisha\",\"Odisha\",\"Odisha\",\"Odisha\",\"Odisha\",\"Odisha\",\"Odisha\",\"Odisha\",\"Odisha\",\"Odisha\"],\"xaxis\":\"x\",\"y\":[1.9,3.12,13.08,23.76,11.41,3.77,1.88,1.42,2.1,2.18],\"yaxis\":\"y\",\"type\":\"histogram\"},{\"alignmentgroup\":\"True\",\"bingroup\":\"x\",\"histfunc\":\"sum\",\"hovertemplate\":\"Region=%{x}<br>sum of  Estimated Unemployment Rate (%)=%{y}<extra></extra>\",\"legendgroup\":\"Puducherry\",\"marker\":{\"color\":\"#B6E880\",\"pattern\":{\"shape\":\"\"}},\"name\":\"Puducherry\",\"offsetgroup\":\"Puducherry\",\"orientation\":\"v\",\"showlegend\":true,\"x\":[\"Puducherry\",\"Puducherry\",\"Puducherry\",\"Puducherry\",\"Puducherry\",\"Puducherry\",\"Puducherry\",\"Puducherry\",\"Puducherry\",\"Puducherry\"],\"xaxis\":\"x\",\"y\":[0.58,1.76,1.2,75.85,58.19,4.24,15.47,5.05,10.9,6.18],\"yaxis\":\"y\",\"type\":\"histogram\"},{\"alignmentgroup\":\"True\",\"bingroup\":\"x\",\"histfunc\":\"sum\",\"hovertemplate\":\"Region=%{x}<br>sum of  Estimated Unemployment Rate (%)=%{y}<extra></extra>\",\"legendgroup\":\"Punjab\",\"marker\":{\"color\":\"#FF97FF\",\"pattern\":{\"shape\":\"\"}},\"name\":\"Punjab\",\"offsetgroup\":\"Punjab\",\"orientation\":\"v\",\"showlegend\":true,\"x\":[\"Punjab\",\"Punjab\",\"Punjab\",\"Punjab\",\"Punjab\",\"Punjab\",\"Punjab\",\"Punjab\",\"Punjab\",\"Punjab\"],\"xaxis\":\"x\",\"y\":[11.11,10.97,10.32,2.86,28.33,16.55,9.19,10.99,9.61,9.88],\"yaxis\":\"y\",\"type\":\"histogram\"},{\"alignmentgroup\":\"True\",\"bingroup\":\"x\",\"histfunc\":\"sum\",\"hovertemplate\":\"Region=%{x}<br>sum of  Estimated Unemployment Rate (%)=%{y}<extra></extra>\",\"legendgroup\":\"Rajasthan\",\"marker\":{\"color\":\"#FECB52\",\"pattern\":{\"shape\":\"\"}},\"name\":\"Rajasthan\",\"offsetgroup\":\"Rajasthan\",\"orientation\":\"v\",\"showlegend\":true,\"x\":[\"Rajasthan\",\"Rajasthan\",\"Rajasthan\",\"Rajasthan\",\"Rajasthan\",\"Rajasthan\",\"Rajasthan\",\"Rajasthan\",\"Rajasthan\",\"Rajasthan\"],\"xaxis\":\"x\",\"y\":[10.97,15.16,11.9,17.7,15.74,14.39,15.81,17.51,15.35,24.15],\"yaxis\":\"y\",\"type\":\"histogram\"},{\"alignmentgroup\":\"True\",\"bingroup\":\"x\",\"histfunc\":\"sum\",\"hovertemplate\":\"Region=%{x}<br>sum of  Estimated Unemployment Rate (%)=%{y}<extra></extra>\",\"legendgroup\":\"Sikkim\",\"marker\":{\"color\":\"#636efa\",\"pattern\":{\"shape\":\"\"}},\"name\":\"Sikkim\",\"offsetgroup\":\"Sikkim\",\"orientation\":\"v\",\"showlegend\":true,\"x\":[\"Sikkim\",\"Sikkim\",\"Sikkim\",\"Sikkim\",\"Sikkim\",\"Sikkim\",\"Sikkim\",\"Sikkim\"],\"xaxis\":\"x\",\"y\":[23.57,2.28,24.51,4.46,4.45,12.49,5.7,0.88],\"yaxis\":\"y\",\"type\":\"histogram\"},{\"alignmentgroup\":\"True\",\"bingroup\":\"x\",\"histfunc\":\"sum\",\"hovertemplate\":\"Region=%{x}<br>sum of  Estimated Unemployment Rate (%)=%{y}<extra></extra>\",\"legendgroup\":\"Tamil Nadu\",\"marker\":{\"color\":\"#EF553B\",\"pattern\":{\"shape\":\"\"}},\"name\":\"Tamil Nadu\",\"offsetgroup\":\"Tamil Nadu\",\"orientation\":\"v\",\"showlegend\":true,\"x\":[\"Tamil Nadu\",\"Tamil Nadu\",\"Tamil Nadu\",\"Tamil Nadu\",\"Tamil Nadu\",\"Tamil Nadu\",\"Tamil Nadu\",\"Tamil Nadu\",\"Tamil Nadu\",\"Tamil Nadu\"],\"xaxis\":\"x\",\"y\":[1.57,2.09,6.4,49.83,33.16,12.2,6.81,2.65,5.0,2.16],\"yaxis\":\"y\",\"type\":\"histogram\"},{\"alignmentgroup\":\"True\",\"bingroup\":\"x\",\"histfunc\":\"sum\",\"hovertemplate\":\"Region=%{x}<br>sum of  Estimated Unemployment Rate (%)=%{y}<extra></extra>\",\"legendgroup\":\"Telangana\",\"marker\":{\"color\":\"#00cc96\",\"pattern\":{\"shape\":\"\"}},\"name\":\"Telangana\",\"offsetgroup\":\"Telangana\",\"orientation\":\"v\",\"showlegend\":true,\"x\":[\"Telangana\",\"Telangana\",\"Telangana\",\"Telangana\",\"Telangana\",\"Telangana\",\"Telangana\",\"Telangana\",\"Telangana\",\"Telangana\"],\"xaxis\":\"x\",\"y\":[5.49,8.29,5.77,6.25,14.7,10.55,5.36,5.79,3.27,2.86],\"yaxis\":\"y\",\"type\":\"histogram\"},{\"alignmentgroup\":\"True\",\"bingroup\":\"x\",\"histfunc\":\"sum\",\"hovertemplate\":\"Region=%{x}<br>sum of  Estimated Unemployment Rate (%)=%{y}<extra></extra>\",\"legendgroup\":\"Tripura\",\"marker\":{\"color\":\"#ab63fa\",\"pattern\":{\"shape\":\"\"}},\"name\":\"Tripura\",\"offsetgroup\":\"Tripura\",\"orientation\":\"v\",\"showlegend\":true,\"x\":[\"Tripura\",\"Tripura\",\"Tripura\",\"Tripura\",\"Tripura\",\"Tripura\",\"Tripura\",\"Tripura\",\"Tripura\",\"Tripura\"],\"xaxis\":\"x\",\"y\":[32.67,28.4,29.95,41.23,21.51,21.71,18.24,27.92,17.35,11.57],\"yaxis\":\"y\",\"type\":\"histogram\"},{\"alignmentgroup\":\"True\",\"bingroup\":\"x\",\"histfunc\":\"sum\",\"hovertemplate\":\"Region=%{x}<br>sum of  Estimated Unemployment Rate (%)=%{y}<extra></extra>\",\"legendgroup\":\"Uttar Pradesh\",\"marker\":{\"color\":\"#FFA15A\",\"pattern\":{\"shape\":\"\"}},\"name\":\"Uttar Pradesh\",\"offsetgroup\":\"Uttar Pradesh\",\"orientation\":\"v\",\"showlegend\":true,\"x\":[\"Uttar Pradesh\",\"Uttar Pradesh\",\"Uttar Pradesh\",\"Uttar Pradesh\",\"Uttar Pradesh\",\"Uttar Pradesh\",\"Uttar Pradesh\",\"Uttar Pradesh\",\"Uttar Pradesh\",\"Uttar Pradesh\"],\"xaxis\":\"x\",\"y\":[7.58,8.98,10.11,21.54,20.41,9.47,5.56,5.79,4.18,3.75],\"yaxis\":\"y\",\"type\":\"histogram\"},{\"alignmentgroup\":\"True\",\"bingroup\":\"x\",\"histfunc\":\"sum\",\"hovertemplate\":\"Region=%{x}<br>sum of  Estimated Unemployment Rate (%)=%{y}<extra></extra>\",\"legendgroup\":\"Uttarakhand\",\"marker\":{\"color\":\"#19d3f3\",\"pattern\":{\"shape\":\"\"}},\"name\":\"Uttarakhand\",\"offsetgroup\":\"Uttarakhand\",\"orientation\":\"v\",\"showlegend\":true,\"x\":[\"Uttarakhand\",\"Uttarakhand\",\"Uttarakhand\",\"Uttarakhand\",\"Uttarakhand\",\"Uttarakhand\",\"Uttarakhand\",\"Uttarakhand\",\"Uttarakhand\",\"Uttarakhand\"],\"xaxis\":\"x\",\"y\":[5.49,4.99,19.85,6.48,8.01,8.61,12.38,14.26,22.26,9.23],\"yaxis\":\"y\",\"type\":\"histogram\"},{\"alignmentgroup\":\"True\",\"bingroup\":\"x\",\"histfunc\":\"sum\",\"hovertemplate\":\"Region=%{x}<br>sum of  Estimated Unemployment Rate (%)=%{y}<extra></extra>\",\"legendgroup\":\"West Bengal\",\"marker\":{\"color\":\"#FF6692\",\"pattern\":{\"shape\":\"\"}},\"name\":\"West Bengal\",\"offsetgroup\":\"West Bengal\",\"orientation\":\"v\",\"showlegend\":true,\"x\":[\"West Bengal\",\"West Bengal\",\"West Bengal\",\"West Bengal\",\"West Bengal\",\"West Bengal\",\"West Bengal\",\"West Bengal\",\"West Bengal\",\"West Bengal\"],\"xaxis\":\"x\",\"y\":[6.94,4.92,6.92,17.41,17.41,7.29,6.83,14.87,9.35,9.98],\"yaxis\":\"y\",\"type\":\"histogram\"}],                        {\"template\":{\"data\":{\"histogram2dcontour\":[{\"type\":\"histogram2dcontour\",\"colorbar\":{\"outlinewidth\":0,\"ticks\":\"\"},\"colorscale\":[[0.0,\"#0d0887\"],[0.1111111111111111,\"#46039f\"],[0.2222222222222222,\"#7201a8\"],[0.3333333333333333,\"#9c179e\"],[0.4444444444444444,\"#bd3786\"],[0.5555555555555556,\"#d8576b\"],[0.6666666666666666,\"#ed7953\"],[0.7777777777777778,\"#fb9f3a\"],[0.8888888888888888,\"#fdca26\"],[1.0,\"#f0f921\"]]}],\"choropleth\":[{\"type\":\"choropleth\",\"colorbar\":{\"outlinewidth\":0,\"ticks\":\"\"}}],\"histogram2d\":[{\"type\":\"histogram2d\",\"colorbar\":{\"outlinewidth\":0,\"ticks\":\"\"},\"colorscale\":[[0.0,\"#0d0887\"],[0.1111111111111111,\"#46039f\"],[0.2222222222222222,\"#7201a8\"],[0.3333333333333333,\"#9c179e\"],[0.4444444444444444,\"#bd3786\"],[0.5555555555555556,\"#d8576b\"],[0.6666666666666666,\"#ed7953\"],[0.7777777777777778,\"#fb9f3a\"],[0.8888888888888888,\"#fdca26\"],[1.0,\"#f0f921\"]]}],\"heatmap\":[{\"type\":\"heatmap\",\"colorbar\":{\"outlinewidth\":0,\"ticks\":\"\"},\"colorscale\":[[0.0,\"#0d0887\"],[0.1111111111111111,\"#46039f\"],[0.2222222222222222,\"#7201a8\"],[0.3333333333333333,\"#9c179e\"],[0.4444444444444444,\"#bd3786\"],[0.5555555555555556,\"#d8576b\"],[0.6666666666666666,\"#ed7953\"],[0.7777777777777778,\"#fb9f3a\"],[0.8888888888888888,\"#fdca26\"],[1.0,\"#f0f921\"]]}],\"heatmapgl\":[{\"type\":\"heatmapgl\",\"colorbar\":{\"outlinewidth\":0,\"ticks\":\"\"},\"colorscale\":[[0.0,\"#0d0887\"],[0.1111111111111111,\"#46039f\"],[0.2222222222222222,\"#7201a8\"],[0.3333333333333333,\"#9c179e\"],[0.4444444444444444,\"#bd3786\"],[0.5555555555555556,\"#d8576b\"],[0.6666666666666666,\"#ed7953\"],[0.7777777777777778,\"#fb9f3a\"],[0.8888888888888888,\"#fdca26\"],[1.0,\"#f0f921\"]]}],\"contourcarpet\":[{\"type\":\"contourcarpet\",\"colorbar\":{\"outlinewidth\":0,\"ticks\":\"\"}}],\"contour\":[{\"type\":\"contour\",\"colorbar\":{\"outlinewidth\":0,\"ticks\":\"\"},\"colorscale\":[[0.0,\"#0d0887\"],[0.1111111111111111,\"#46039f\"],[0.2222222222222222,\"#7201a8\"],[0.3333333333333333,\"#9c179e\"],[0.4444444444444444,\"#bd3786\"],[0.5555555555555556,\"#d8576b\"],[0.6666666666666666,\"#ed7953\"],[0.7777777777777778,\"#fb9f3a\"],[0.8888888888888888,\"#fdca26\"],[1.0,\"#f0f921\"]]}],\"surface\":[{\"type\":\"surface\",\"colorbar\":{\"outlinewidth\":0,\"ticks\":\"\"},\"colorscale\":[[0.0,\"#0d0887\"],[0.1111111111111111,\"#46039f\"],[0.2222222222222222,\"#7201a8\"],[0.3333333333333333,\"#9c179e\"],[0.4444444444444444,\"#bd3786\"],[0.5555555555555556,\"#d8576b\"],[0.6666666666666666,\"#ed7953\"],[0.7777777777777778,\"#fb9f3a\"],[0.8888888888888888,\"#fdca26\"],[1.0,\"#f0f921\"]]}],\"mesh3d\":[{\"type\":\"mesh3d\",\"colorbar\":{\"outlinewidth\":0,\"ticks\":\"\"}}],\"scatter\":[{\"fillpattern\":{\"fillmode\":\"overlay\",\"size\":10,\"solidity\":0.2},\"type\":\"scatter\"}],\"parcoords\":[{\"type\":\"parcoords\",\"line\":{\"colorbar\":{\"outlinewidth\":0,\"ticks\":\"\"}}}],\"scatterpolargl\":[{\"type\":\"scatterpolargl\",\"marker\":{\"colorbar\":{\"outlinewidth\":0,\"ticks\":\"\"}}}],\"bar\":[{\"error_x\":{\"color\":\"#2a3f5f\"},\"error_y\":{\"color\":\"#2a3f5f\"},\"marker\":{\"line\":{\"color\":\"#E5ECF6\",\"width\":0.5},\"pattern\":{\"fillmode\":\"overlay\",\"size\":10,\"solidity\":0.2}},\"type\":\"bar\"}],\"scattergeo\":[{\"type\":\"scattergeo\",\"marker\":{\"colorbar\":{\"outlinewidth\":0,\"ticks\":\"\"}}}],\"scatterpolar\":[{\"type\":\"scatterpolar\",\"marker\":{\"colorbar\":{\"outlinewidth\":0,\"ticks\":\"\"}}}],\"histogram\":[{\"marker\":{\"pattern\":{\"fillmode\":\"overlay\",\"size\":10,\"solidity\":0.2}},\"type\":\"histogram\"}],\"scattergl\":[{\"type\":\"scattergl\",\"marker\":{\"colorbar\":{\"outlinewidth\":0,\"ticks\":\"\"}}}],\"scatter3d\":[{\"type\":\"scatter3d\",\"line\":{\"colorbar\":{\"outlinewidth\":0,\"ticks\":\"\"}},\"marker\":{\"colorbar\":{\"outlinewidth\":0,\"ticks\":\"\"}}}],\"scattermapbox\":[{\"type\":\"scattermapbox\",\"marker\":{\"colorbar\":{\"outlinewidth\":0,\"ticks\":\"\"}}}],\"scatterternary\":[{\"type\":\"scatterternary\",\"marker\":{\"colorbar\":{\"outlinewidth\":0,\"ticks\":\"\"}}}],\"scattercarpet\":[{\"type\":\"scattercarpet\",\"marker\":{\"colorbar\":{\"outlinewidth\":0,\"ticks\":\"\"}}}],\"carpet\":[{\"aaxis\":{\"endlinecolor\":\"#2a3f5f\",\"gridcolor\":\"white\",\"linecolor\":\"white\",\"minorgridcolor\":\"white\",\"startlinecolor\":\"#2a3f5f\"},\"baxis\":{\"endlinecolor\":\"#2a3f5f\",\"gridcolor\":\"white\",\"linecolor\":\"white\",\"minorgridcolor\":\"white\",\"startlinecolor\":\"#2a3f5f\"},\"type\":\"carpet\"}],\"table\":[{\"cells\":{\"fill\":{\"color\":\"#EBF0F8\"},\"line\":{\"color\":\"white\"}},\"header\":{\"fill\":{\"color\":\"#C8D4E3\"},\"line\":{\"color\":\"white\"}},\"type\":\"table\"}],\"barpolar\":[{\"marker\":{\"line\":{\"color\":\"#E5ECF6\",\"width\":0.5},\"pattern\":{\"fillmode\":\"overlay\",\"size\":10,\"solidity\":0.2}},\"type\":\"barpolar\"}],\"pie\":[{\"automargin\":true,\"type\":\"pie\"}]},\"layout\":{\"autotypenumbers\":\"strict\",\"colorway\":[\"#636efa\",\"#EF553B\",\"#00cc96\",\"#ab63fa\",\"#FFA15A\",\"#19d3f3\",\"#FF6692\",\"#B6E880\",\"#FF97FF\",\"#FECB52\"],\"font\":{\"color\":\"#2a3f5f\"},\"hovermode\":\"closest\",\"hoverlabel\":{\"align\":\"left\"},\"paper_bgcolor\":\"white\",\"plot_bgcolor\":\"#E5ECF6\",\"polar\":{\"bgcolor\":\"#E5ECF6\",\"angularaxis\":{\"gridcolor\":\"white\",\"linecolor\":\"white\",\"ticks\":\"\"},\"radialaxis\":{\"gridcolor\":\"white\",\"linecolor\":\"white\",\"ticks\":\"\"}},\"ternary\":{\"bgcolor\":\"#E5ECF6\",\"aaxis\":{\"gridcolor\":\"white\",\"linecolor\":\"white\",\"ticks\":\"\"},\"baxis\":{\"gridcolor\":\"white\",\"linecolor\":\"white\",\"ticks\":\"\"},\"caxis\":{\"gridcolor\":\"white\",\"linecolor\":\"white\",\"ticks\":\"\"}},\"coloraxis\":{\"colorbar\":{\"outlinewidth\":0,\"ticks\":\"\"}},\"colorscale\":{\"sequential\":[[0.0,\"#0d0887\"],[0.1111111111111111,\"#46039f\"],[0.2222222222222222,\"#7201a8\"],[0.3333333333333333,\"#9c179e\"],[0.4444444444444444,\"#bd3786\"],[0.5555555555555556,\"#d8576b\"],[0.6666666666666666,\"#ed7953\"],[0.7777777777777778,\"#fb9f3a\"],[0.8888888888888888,\"#fdca26\"],[1.0,\"#f0f921\"]],\"sequentialminus\":[[0.0,\"#0d0887\"],[0.1111111111111111,\"#46039f\"],[0.2222222222222222,\"#7201a8\"],[0.3333333333333333,\"#9c179e\"],[0.4444444444444444,\"#bd3786\"],[0.5555555555555556,\"#d8576b\"],[0.6666666666666666,\"#ed7953\"],[0.7777777777777778,\"#fb9f3a\"],[0.8888888888888888,\"#fdca26\"],[1.0,\"#f0f921\"]],\"diverging\":[[0,\"#8e0152\"],[0.1,\"#c51b7d\"],[0.2,\"#de77ae\"],[0.3,\"#f1b6da\"],[0.4,\"#fde0ef\"],[0.5,\"#f7f7f7\"],[0.6,\"#e6f5d0\"],[0.7,\"#b8e186\"],[0.8,\"#7fbc41\"],[0.9,\"#4d9221\"],[1,\"#276419\"]]},\"xaxis\":{\"gridcolor\":\"white\",\"linecolor\":\"white\",\"ticks\":\"\",\"title\":{\"standoff\":15},\"zerolinecolor\":\"white\",\"automargin\":true,\"zerolinewidth\":2},\"yaxis\":{\"gridcolor\":\"white\",\"linecolor\":\"white\",\"ticks\":\"\",\"title\":{\"standoff\":15},\"zerolinecolor\":\"white\",\"automargin\":true,\"zerolinewidth\":2},\"scene\":{\"xaxis\":{\"backgroundcolor\":\"#E5ECF6\",\"gridcolor\":\"white\",\"linecolor\":\"white\",\"showbackground\":true,\"ticks\":\"\",\"zerolinecolor\":\"white\",\"gridwidth\":2},\"yaxis\":{\"backgroundcolor\":\"#E5ECF6\",\"gridcolor\":\"white\",\"linecolor\":\"white\",\"showbackground\":true,\"ticks\":\"\",\"zerolinecolor\":\"white\",\"gridwidth\":2},\"zaxis\":{\"backgroundcolor\":\"#E5ECF6\",\"gridcolor\":\"white\",\"linecolor\":\"white\",\"showbackground\":true,\"ticks\":\"\",\"zerolinecolor\":\"white\",\"gridwidth\":2}},\"shapedefaults\":{\"line\":{\"color\":\"#2a3f5f\"}},\"annotationdefaults\":{\"arrowcolor\":\"#2a3f5f\",\"arrowhead\":0,\"arrowwidth\":1},\"geo\":{\"bgcolor\":\"white\",\"landcolor\":\"#E5ECF6\",\"subunitcolor\":\"white\",\"showland\":true,\"showlakes\":true,\"lakecolor\":\"white\"},\"title\":{\"x\":0.05},\"mapbox\":{\"style\":\"light\"}}},\"xaxis\":{\"anchor\":\"y\",\"domain\":[0.0,1.0],\"title\":{\"text\":\"Region\"},\"categoryorder\":\"total descending\",\"categoryarray\":[\"Andhra Pradesh\",\"Assam\",\"Bihar\",\"Chhattisgarh\",\"Delhi\",\"Goa\",\"Gujarat\",\"Haryana\",\"Himachal Pradesh\",\"Jammu & Kashmir\",\"Jharkhand\",\"Karnataka\",\"Kerala\",\"Madhya Pradesh\",\"Maharashtra\",\"Meghalaya\",\"Odisha\",\"Puducherry\",\"Punjab\",\"Rajasthan\",\"Sikkim\",\"Tamil Nadu\",\"Telangana\",\"Tripura\",\"Uttar Pradesh\",\"Uttarakhand\",\"West Bengal\"]},\"yaxis\":{\"anchor\":\"x\",\"domain\":[0.0,1.0],\"title\":{\"text\":\"sum of  Estimated Unemployment Rate (%)\"}},\"legend\":{\"title\":{\"text\":\"Region\"},\"tracegroupgap\":0},\"title\":{\"text\":\"Unemploymeny Rate (StateWise) by Histogram\"},\"barmode\":\"relative\"},                        {\"responsive\": true}                    ).then(function(){\n",
              "                            \n",
              "var gd = document.getElementById('e911b0f9-4b9d-45a3-b65e-beb12d5f52a2');\n",
              "var x = new MutationObserver(function (mutations, observer) {{\n",
              "        var display = window.getComputedStyle(gd).display;\n",
              "        if (!display || display === 'none') {{\n",
              "            console.log([gd, 'removed!']);\n",
              "            Plotly.purge(gd);\n",
              "            observer.disconnect();\n",
              "        }}\n",
              "}});\n",
              "\n",
              "// Listen for the removal of the full notebook cells\n",
              "var notebookContainer = gd.closest('#notebook-container');\n",
              "if (notebookContainer) {{\n",
              "    x.observe(notebookContainer, {childList: true});\n",
              "}}\n",
              "\n",
              "// Listen for the clearing of the current output cell\n",
              "var outputEl = gd.closest('.output');\n",
              "if (outputEl) {{\n",
              "    x.observe(outputEl, {childList: true});\n",
              "}}\n",
              "\n",
              "                        })                };                            </script>        </div>\n",
              "</body>\n",
              "</html>"
            ]
          },
          "metadata": {}
        }
      ]
    }
  ]
}